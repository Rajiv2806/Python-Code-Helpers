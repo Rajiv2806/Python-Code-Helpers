{
 "cells": [
  {
   "cell_type": "markdown",
   "id": "2fa9d46a-8ecb-450b-bfb3-71e63bdfe4e9",
   "metadata": {},
   "source": [
    "# Handling Dates - Pandas \n",
    "\n",
    "[Dataset](https://raw.githubusercontent.com/jbrownlee/Datasets/master/daily-total-female-births.csv)"
   ]
  },
  {
   "cell_type": "code",
   "execution_count": 1,
   "id": "23dd1f38-255a-48fe-a095-1bc42180e5a2",
   "metadata": {},
   "outputs": [],
   "source": [
    "import pandas as pd"
   ]
  },
  {
   "cell_type": "code",
   "execution_count": 4,
   "id": "e6ee516a-2c18-4186-a9ba-0328ddf56dbb",
   "metadata": {},
   "outputs": [],
   "source": [
    "dataset_url = \"https://raw.githubusercontent.com/jbrownlee/Datasets/master/daily-total-female-births.csv\""
   ]
  },
  {
   "cell_type": "code",
   "execution_count": 8,
   "id": "898ce0fc-9cc1-44c4-9349-e4e90fe6d1b2",
   "metadata": {},
   "outputs": [
    {
     "name": "stdout",
     "output_type": "stream",
     "text": [
      "<class 'pandas.core.frame.DataFrame'>\n",
      "RangeIndex: 365 entries, 0 to 364\n",
      "Data columns (total 2 columns):\n",
      " #   Column  Non-Null Count  Dtype \n",
      "---  ------  --------------  ----- \n",
      " 0   Date    365 non-null    object\n",
      " 1   Births  365 non-null    int64 \n",
      "dtypes: int64(1), object(1)\n",
      "memory usage: 5.8+ KB\n"
     ]
    },
    {
     "data": {
      "text/html": [
       "<div>\n",
       "<style scoped>\n",
       "    .dataframe tbody tr th:only-of-type {\n",
       "        vertical-align: middle;\n",
       "    }\n",
       "\n",
       "    .dataframe tbody tr th {\n",
       "        vertical-align: top;\n",
       "    }\n",
       "\n",
       "    .dataframe thead th {\n",
       "        text-align: right;\n",
       "    }\n",
       "</style>\n",
       "<table border=\"1\" class=\"dataframe\">\n",
       "  <thead>\n",
       "    <tr style=\"text-align: right;\">\n",
       "      <th></th>\n",
       "      <th>Date</th>\n",
       "      <th>Births</th>\n",
       "    </tr>\n",
       "  </thead>\n",
       "  <tbody>\n",
       "    <tr>\n",
       "      <th>0</th>\n",
       "      <td>1959-01-01</td>\n",
       "      <td>35</td>\n",
       "    </tr>\n",
       "    <tr>\n",
       "      <th>1</th>\n",
       "      <td>1959-01-02</td>\n",
       "      <td>32</td>\n",
       "    </tr>\n",
       "    <tr>\n",
       "      <th>2</th>\n",
       "      <td>1959-01-03</td>\n",
       "      <td>30</td>\n",
       "    </tr>\n",
       "    <tr>\n",
       "      <th>3</th>\n",
       "      <td>1959-01-04</td>\n",
       "      <td>31</td>\n",
       "    </tr>\n",
       "    <tr>\n",
       "      <th>4</th>\n",
       "      <td>1959-01-05</td>\n",
       "      <td>44</td>\n",
       "    </tr>\n",
       "  </tbody>\n",
       "</table>\n",
       "</div>"
      ],
      "text/plain": [
       "         Date  Births\n",
       "0  1959-01-01      35\n",
       "1  1959-01-02      32\n",
       "2  1959-01-03      30\n",
       "3  1959-01-04      31\n",
       "4  1959-01-05      44"
      ]
     },
     "execution_count": 8,
     "metadata": {},
     "output_type": "execute_result"
    }
   ],
   "source": [
    "df = pd.read_csv(dataset_url)\n",
    "df.info()\n",
    "df.head()"
   ]
  },
  {
   "cell_type": "code",
   "execution_count": 9,
   "id": "60c3b327-9615-42de-8ee2-85ae8a86d8b0",
   "metadata": {},
   "outputs": [
    {
     "name": "stdout",
     "output_type": "stream",
     "text": [
      "<class 'pandas.core.frame.DataFrame'>\n",
      "RangeIndex: 365 entries, 0 to 364\n",
      "Data columns (total 2 columns):\n",
      " #   Column  Non-Null Count  Dtype         \n",
      "---  ------  --------------  -----         \n",
      " 0   Date    365 non-null    datetime64[ns]\n",
      " 1   Births  365 non-null    int64         \n",
      "dtypes: datetime64[ns](1), int64(1)\n",
      "memory usage: 5.8 KB\n"
     ]
    },
    {
     "data": {
      "text/html": [
       "<div>\n",
       "<style scoped>\n",
       "    .dataframe tbody tr th:only-of-type {\n",
       "        vertical-align: middle;\n",
       "    }\n",
       "\n",
       "    .dataframe tbody tr th {\n",
       "        vertical-align: top;\n",
       "    }\n",
       "\n",
       "    .dataframe thead th {\n",
       "        text-align: right;\n",
       "    }\n",
       "</style>\n",
       "<table border=\"1\" class=\"dataframe\">\n",
       "  <thead>\n",
       "    <tr style=\"text-align: right;\">\n",
       "      <th></th>\n",
       "      <th>Date</th>\n",
       "      <th>Births</th>\n",
       "    </tr>\n",
       "  </thead>\n",
       "  <tbody>\n",
       "    <tr>\n",
       "      <th>0</th>\n",
       "      <td>1959-01-01</td>\n",
       "      <td>35</td>\n",
       "    </tr>\n",
       "    <tr>\n",
       "      <th>1</th>\n",
       "      <td>1959-01-02</td>\n",
       "      <td>32</td>\n",
       "    </tr>\n",
       "    <tr>\n",
       "      <th>2</th>\n",
       "      <td>1959-01-03</td>\n",
       "      <td>30</td>\n",
       "    </tr>\n",
       "    <tr>\n",
       "      <th>3</th>\n",
       "      <td>1959-01-04</td>\n",
       "      <td>31</td>\n",
       "    </tr>\n",
       "    <tr>\n",
       "      <th>4</th>\n",
       "      <td>1959-01-05</td>\n",
       "      <td>44</td>\n",
       "    </tr>\n",
       "  </tbody>\n",
       "</table>\n",
       "</div>"
      ],
      "text/plain": [
       "        Date  Births\n",
       "0 1959-01-01      35\n",
       "1 1959-01-02      32\n",
       "2 1959-01-03      30\n",
       "3 1959-01-04      31\n",
       "4 1959-01-05      44"
      ]
     },
     "execution_count": 9,
     "metadata": {},
     "output_type": "execute_result"
    }
   ],
   "source": [
    "df = pd.read_csv(\"daily-total-female-births.csv\", parse_dates=['Date'])\n",
    "df.info()\n",
    "df.head()"
   ]
  },
  {
   "cell_type": "code",
   "execution_count": 10,
   "id": "b5c8cd79-4954-4eeb-9499-c39d0c9d160e",
   "metadata": {},
   "outputs": [
    {
     "data": {
      "text/html": [
       "<div>\n",
       "<style scoped>\n",
       "    .dataframe tbody tr th:only-of-type {\n",
       "        vertical-align: middle;\n",
       "    }\n",
       "\n",
       "    .dataframe tbody tr th {\n",
       "        vertical-align: top;\n",
       "    }\n",
       "\n",
       "    .dataframe thead th {\n",
       "        text-align: right;\n",
       "    }\n",
       "</style>\n",
       "<table border=\"1\" class=\"dataframe\">\n",
       "  <thead>\n",
       "    <tr style=\"text-align: right;\">\n",
       "      <th></th>\n",
       "      <th>Births</th>\n",
       "    </tr>\n",
       "    <tr>\n",
       "      <th>Date</th>\n",
       "      <th></th>\n",
       "    </tr>\n",
       "  </thead>\n",
       "  <tbody>\n",
       "    <tr>\n",
       "      <th>1959-01-01</th>\n",
       "      <td>35</td>\n",
       "    </tr>\n",
       "    <tr>\n",
       "      <th>1959-01-02</th>\n",
       "      <td>32</td>\n",
       "    </tr>\n",
       "    <tr>\n",
       "      <th>1959-01-03</th>\n",
       "      <td>30</td>\n",
       "    </tr>\n",
       "    <tr>\n",
       "      <th>1959-01-04</th>\n",
       "      <td>31</td>\n",
       "    </tr>\n",
       "    <tr>\n",
       "      <th>1959-01-05</th>\n",
       "      <td>44</td>\n",
       "    </tr>\n",
       "  </tbody>\n",
       "</table>\n",
       "</div>"
      ],
      "text/plain": [
       "            Births\n",
       "Date              \n",
       "1959-01-01      35\n",
       "1959-01-02      32\n",
       "1959-01-03      30\n",
       "1959-01-04      31\n",
       "1959-01-05      44"
      ]
     },
     "execution_count": 10,
     "metadata": {},
     "output_type": "execute_result"
    }
   ],
   "source": [
    "df.set_index(keys='Date', inplace=True, drop = True)\n",
    "df.head()"
   ]
  },
  {
   "cell_type": "code",
   "execution_count": 11,
   "id": "414dab48-84d7-4fae-b074-22c66d969fcf",
   "metadata": {},
   "outputs": [
    {
     "data": {
      "text/plain": [
       "DatetimeIndex(['1959-01-01', '1959-01-02', '1959-01-03', '1959-01-04',\n",
       "               '1959-01-05', '1959-01-06', '1959-01-07', '1959-01-08',\n",
       "               '1959-01-09', '1959-01-10',\n",
       "               ...\n",
       "               '1959-12-22', '1959-12-23', '1959-12-24', '1959-12-25',\n",
       "               '1959-12-26', '1959-12-27', '1959-12-28', '1959-12-29',\n",
       "               '1959-12-30', '1959-12-31'],\n",
       "              dtype='datetime64[ns]', name='Date', length=365, freq=None)"
      ]
     },
     "execution_count": 11,
     "metadata": {},
     "output_type": "execute_result"
    }
   ],
   "source": [
    "df.index"
   ]
  },
  {
   "cell_type": "markdown",
   "id": "c52c8506-49d9-46ee-9e30-298610e82ded",
   "metadata": {},
   "source": [
    "# Data Access"
   ]
  },
  {
   "cell_type": "code",
   "execution_count": 15,
   "id": "07e92857-c6bf-456d-9599-06acabb7393a",
   "metadata": {},
   "outputs": [
    {
     "data": {
      "text/html": [
       "<div>\n",
       "<style scoped>\n",
       "    .dataframe tbody tr th:only-of-type {\n",
       "        vertical-align: middle;\n",
       "    }\n",
       "\n",
       "    .dataframe tbody tr th {\n",
       "        vertical-align: top;\n",
       "    }\n",
       "\n",
       "    .dataframe thead th {\n",
       "        text-align: right;\n",
       "    }\n",
       "</style>\n",
       "<table border=\"1\" class=\"dataframe\">\n",
       "  <thead>\n",
       "    <tr style=\"text-align: right;\">\n",
       "      <th></th>\n",
       "      <th>Births</th>\n",
       "    </tr>\n",
       "    <tr>\n",
       "      <th>Date</th>\n",
       "      <th></th>\n",
       "    </tr>\n",
       "  </thead>\n",
       "  <tbody>\n",
       "    <tr>\n",
       "      <th>1959-01-01</th>\n",
       "      <td>35</td>\n",
       "    </tr>\n",
       "    <tr>\n",
       "      <th>1959-01-02</th>\n",
       "      <td>32</td>\n",
       "    </tr>\n",
       "    <tr>\n",
       "      <th>1959-01-03</th>\n",
       "      <td>30</td>\n",
       "    </tr>\n",
       "    <tr>\n",
       "      <th>1959-01-04</th>\n",
       "      <td>31</td>\n",
       "    </tr>\n",
       "    <tr>\n",
       "      <th>1959-01-05</th>\n",
       "      <td>44</td>\n",
       "    </tr>\n",
       "    <tr>\n",
       "      <th>1959-01-06</th>\n",
       "      <td>29</td>\n",
       "    </tr>\n",
       "    <tr>\n",
       "      <th>1959-01-07</th>\n",
       "      <td>45</td>\n",
       "    </tr>\n",
       "    <tr>\n",
       "      <th>1959-01-08</th>\n",
       "      <td>43</td>\n",
       "    </tr>\n",
       "    <tr>\n",
       "      <th>1959-01-09</th>\n",
       "      <td>38</td>\n",
       "    </tr>\n",
       "    <tr>\n",
       "      <th>1959-01-10</th>\n",
       "      <td>27</td>\n",
       "    </tr>\n",
       "    <tr>\n",
       "      <th>1959-01-11</th>\n",
       "      <td>38</td>\n",
       "    </tr>\n",
       "    <tr>\n",
       "      <th>1959-01-12</th>\n",
       "      <td>33</td>\n",
       "    </tr>\n",
       "    <tr>\n",
       "      <th>1959-01-13</th>\n",
       "      <td>55</td>\n",
       "    </tr>\n",
       "    <tr>\n",
       "      <th>1959-01-14</th>\n",
       "      <td>47</td>\n",
       "    </tr>\n",
       "    <tr>\n",
       "      <th>1959-01-15</th>\n",
       "      <td>45</td>\n",
       "    </tr>\n",
       "    <tr>\n",
       "      <th>1959-01-16</th>\n",
       "      <td>37</td>\n",
       "    </tr>\n",
       "    <tr>\n",
       "      <th>1959-01-17</th>\n",
       "      <td>50</td>\n",
       "    </tr>\n",
       "    <tr>\n",
       "      <th>1959-01-18</th>\n",
       "      <td>43</td>\n",
       "    </tr>\n",
       "    <tr>\n",
       "      <th>1959-01-19</th>\n",
       "      <td>41</td>\n",
       "    </tr>\n",
       "    <tr>\n",
       "      <th>1959-01-20</th>\n",
       "      <td>52</td>\n",
       "    </tr>\n",
       "    <tr>\n",
       "      <th>1959-01-21</th>\n",
       "      <td>34</td>\n",
       "    </tr>\n",
       "    <tr>\n",
       "      <th>1959-01-22</th>\n",
       "      <td>53</td>\n",
       "    </tr>\n",
       "    <tr>\n",
       "      <th>1959-01-23</th>\n",
       "      <td>39</td>\n",
       "    </tr>\n",
       "    <tr>\n",
       "      <th>1959-01-24</th>\n",
       "      <td>32</td>\n",
       "    </tr>\n",
       "    <tr>\n",
       "      <th>1959-01-25</th>\n",
       "      <td>37</td>\n",
       "    </tr>\n",
       "    <tr>\n",
       "      <th>1959-01-26</th>\n",
       "      <td>43</td>\n",
       "    </tr>\n",
       "    <tr>\n",
       "      <th>1959-01-27</th>\n",
       "      <td>39</td>\n",
       "    </tr>\n",
       "    <tr>\n",
       "      <th>1959-01-28</th>\n",
       "      <td>35</td>\n",
       "    </tr>\n",
       "    <tr>\n",
       "      <th>1959-01-29</th>\n",
       "      <td>44</td>\n",
       "    </tr>\n",
       "    <tr>\n",
       "      <th>1959-01-30</th>\n",
       "      <td>38</td>\n",
       "    </tr>\n",
       "    <tr>\n",
       "      <th>1959-01-31</th>\n",
       "      <td>24</td>\n",
       "    </tr>\n",
       "  </tbody>\n",
       "</table>\n",
       "</div>"
      ],
      "text/plain": [
       "            Births\n",
       "Date              \n",
       "1959-01-01      35\n",
       "1959-01-02      32\n",
       "1959-01-03      30\n",
       "1959-01-04      31\n",
       "1959-01-05      44\n",
       "1959-01-06      29\n",
       "1959-01-07      45\n",
       "1959-01-08      43\n",
       "1959-01-09      38\n",
       "1959-01-10      27\n",
       "1959-01-11      38\n",
       "1959-01-12      33\n",
       "1959-01-13      55\n",
       "1959-01-14      47\n",
       "1959-01-15      45\n",
       "1959-01-16      37\n",
       "1959-01-17      50\n",
       "1959-01-18      43\n",
       "1959-01-19      41\n",
       "1959-01-20      52\n",
       "1959-01-21      34\n",
       "1959-01-22      53\n",
       "1959-01-23      39\n",
       "1959-01-24      32\n",
       "1959-01-25      37\n",
       "1959-01-26      43\n",
       "1959-01-27      39\n",
       "1959-01-28      35\n",
       "1959-01-29      44\n",
       "1959-01-30      38\n",
       "1959-01-31      24"
      ]
     },
     "execution_count": 15,
     "metadata": {},
     "output_type": "execute_result"
    }
   ],
   "source": [
    "df.loc['1959-01']"
   ]
  },
  {
   "cell_type": "code",
   "execution_count": 16,
   "id": "8d8f166c-d394-46b4-b763-b8e33083beb6",
   "metadata": {},
   "outputs": [
    {
     "data": {
      "text/plain": [
       "Births    39.129032\n",
       "dtype: float64"
      ]
     },
     "execution_count": 16,
     "metadata": {},
     "output_type": "execute_result"
    }
   ],
   "source": [
    "df.loc['1959-01'].mean()"
   ]
  },
  {
   "cell_type": "code",
   "execution_count": 17,
   "id": "5811be7e-4241-4f39-b972-3c79a0ddf578",
   "metadata": {},
   "outputs": [
    {
     "data": {
      "text/html": [
       "<div>\n",
       "<style scoped>\n",
       "    .dataframe tbody tr th:only-of-type {\n",
       "        vertical-align: middle;\n",
       "    }\n",
       "\n",
       "    .dataframe tbody tr th {\n",
       "        vertical-align: top;\n",
       "    }\n",
       "\n",
       "    .dataframe thead th {\n",
       "        text-align: right;\n",
       "    }\n",
       "</style>\n",
       "<table border=\"1\" class=\"dataframe\">\n",
       "  <thead>\n",
       "    <tr style=\"text-align: right;\">\n",
       "      <th></th>\n",
       "      <th>Births</th>\n",
       "    </tr>\n",
       "    <tr>\n",
       "      <th>Date</th>\n",
       "      <th></th>\n",
       "    </tr>\n",
       "  </thead>\n",
       "  <tbody>\n",
       "    <tr>\n",
       "      <th>1959-01-01</th>\n",
       "      <td>35</td>\n",
       "    </tr>\n",
       "    <tr>\n",
       "      <th>1959-01-02</th>\n",
       "      <td>32</td>\n",
       "    </tr>\n",
       "    <tr>\n",
       "      <th>1959-01-03</th>\n",
       "      <td>30</td>\n",
       "    </tr>\n",
       "    <tr>\n",
       "      <th>1959-01-04</th>\n",
       "      <td>31</td>\n",
       "    </tr>\n",
       "    <tr>\n",
       "      <th>1959-01-05</th>\n",
       "      <td>44</td>\n",
       "    </tr>\n",
       "    <tr>\n",
       "      <th>...</th>\n",
       "      <td>...</td>\n",
       "    </tr>\n",
       "    <tr>\n",
       "      <th>1959-03-27</th>\n",
       "      <td>56</td>\n",
       "    </tr>\n",
       "    <tr>\n",
       "      <th>1959-03-28</th>\n",
       "      <td>36</td>\n",
       "    </tr>\n",
       "    <tr>\n",
       "      <th>1959-03-29</th>\n",
       "      <td>32</td>\n",
       "    </tr>\n",
       "    <tr>\n",
       "      <th>1959-03-30</th>\n",
       "      <td>50</td>\n",
       "    </tr>\n",
       "    <tr>\n",
       "      <th>1959-03-31</th>\n",
       "      <td>41</td>\n",
       "    </tr>\n",
       "  </tbody>\n",
       "</table>\n",
       "<p>90 rows × 1 columns</p>\n",
       "</div>"
      ],
      "text/plain": [
       "            Births\n",
       "Date              \n",
       "1959-01-01      35\n",
       "1959-01-02      32\n",
       "1959-01-03      30\n",
       "1959-01-04      31\n",
       "1959-01-05      44\n",
       "...            ...\n",
       "1959-03-27      56\n",
       "1959-03-28      36\n",
       "1959-03-29      32\n",
       "1959-03-30      50\n",
       "1959-03-31      41\n",
       "\n",
       "[90 rows x 1 columns]"
      ]
     },
     "execution_count": 17,
     "metadata": {},
     "output_type": "execute_result"
    }
   ],
   "source": [
    "# From and to date range\n",
    "df.loc[\"1959-01\":\"1959-03\"]"
   ]
  },
  {
   "cell_type": "markdown",
   "id": "3c512c4f-b354-4a4c-ba88-1491b2dfc338",
   "metadata": {},
   "source": [
    "# Resampling"
   ]
  },
  {
   "cell_type": "code",
   "execution_count": 19,
   "id": "38db4c54-94fc-440c-b8f8-a52652cc8d5a",
   "metadata": {},
   "outputs": [
    {
     "data": {
      "text/plain": [
       "Date\n",
       "1959-01-31    39.129032\n",
       "1959-02-28    41.000000\n",
       "1959-03-31    39.290323\n",
       "1959-04-30    39.833333\n",
       "1959-05-31    38.967742\n",
       "1959-06-30    40.400000\n",
       "1959-07-31    41.935484\n",
       "1959-08-31    43.580645\n",
       "1959-09-30    48.200000\n",
       "1959-10-31    44.129032\n",
       "1959-11-30    45.000000\n",
       "1959-12-31    42.387097\n",
       "Freq: M, Name: Births, dtype: float64"
      ]
     },
     "execution_count": 19,
     "metadata": {},
     "output_type": "execute_result"
    }
   ],
   "source": [
    "# Average Births on Per month\n",
    "df.Births.resample('M').mean()"
   ]
  },
  {
   "cell_type": "code",
   "execution_count": 24,
   "id": "3c1dd82a-857f-41db-90e4-0c46fa060d7e",
   "metadata": {},
   "outputs": [
    {
     "data": {
      "text/plain": [
       "Date\n",
       "1959-01-31    55\n",
       "1959-02-28    52\n",
       "1959-03-31    56\n",
       "1959-04-30    58\n",
       "1959-05-31    55\n",
       "1959-06-30    59\n",
       "1959-07-31    57\n",
       "1959-08-31    64\n",
       "1959-09-30    73\n",
       "1959-10-31    59\n",
       "1959-11-30    59\n",
       "1959-12-31    55\n",
       "Freq: M, Name: Births, dtype: int64"
      ]
     },
     "execution_count": 24,
     "metadata": {},
     "output_type": "execute_result"
    }
   ],
   "source": [
    "# Total Births on Per month\n",
    "df.Births.resample('M').sum()\n",
    "\n",
    "# df.Births.resample('M').count()\n",
    "# df.Births.resample('M').min()\n",
    "# df.Births.resample('M').max()"
   ]
  },
  {
   "cell_type": "markdown",
   "id": "ef37da65-c662-4fea-9e24-8ed1183c7756",
   "metadata": {},
   "source": [
    "# Plotting"
   ]
  },
  {
   "cell_type": "code",
   "execution_count": 26,
   "id": "7df72f82-698a-42cf-9858-0f075dc92562",
   "metadata": {},
   "outputs": [
    {
     "data": {
      "text/plain": [
       "<AxesSubplot:xlabel='Date'>"
      ]
     },
     "execution_count": 26,
     "metadata": {},
     "output_type": "execute_result"
    },
    {
     "data": {
      "image/png": "[encoded data removed]",
      "text/plain": [
       "<Figure size 432x288 with 1 Axes>"
      ]
     },
     "metadata": {
      "needs_background": "light"
     },
     "output_type": "display_data"
    }
   ],
   "source": [
    "df.Births.resample('W').sum().plot()"
   ]
  },
  {
   "cell_type": "code",
   "execution_count": 28,
   "id": "187f0fb6-f4ea-453a-9300-9e2eeff5cffc",
   "metadata": {},
   "outputs": [
    {
     "data": {
      "text/plain": [
       "<AxesSubplot:xlabel='Date'>"
      ]
     },
     "execution_count": 28,
     "metadata": {},
     "output_type": "execute_result"
    },
    {
     "data": {
      "image/png": "[encoded data removed]",
      "text/plain": [
       "<Figure size 432x288 with 1 Axes>"
      ]
     },
     "metadata": {
      "needs_background": "light"
     },
     "output_type": "display_data"
    }
   ],
   "source": [
    "df.Births.resample('Q').sum().plot(kind='bar')"
   ]
  },
  {
   "cell_type": "code",
   "execution_count": 29,
   "id": "3550f1c5-789d-4b0c-beff-f412196d6451",
   "metadata": {},
   "outputs": [
    {
     "data": {
      "text/plain": [
       "<AxesSubplot:xlabel='Date'>"
      ]
     },
     "execution_count": 29,
     "metadata": {},
     "output_type": "execute_result"
    },
    {
     "data": {
      "image/png": "[encoded data removed]",
      "text/plain": [
       "<Figure size 432x288 with 1 Axes>"
      ]
     },
     "metadata": {
      "needs_background": "light"
     },
     "output_type": "display_data"
    }
   ],
   "source": [
    "df.Births.plot()"
   ]
  },
  {
   "cell_type": "markdown",
   "id": "e2472190-78b1-465f-b67f-38f0f12a43d6",
   "metadata": {},
   "source": [
    "# Data Range\n",
    "\n",
    "https://pandas.pydata.org/pandas-docs/stable/user_guide/timeseries.html#time-date-components"
   ]
  },
  {
   "cell_type": "code",
   "execution_count": 31,
   "id": "ae756572-8bef-487f-87db-dfcca8adbf9f",
   "metadata": {},
   "outputs": [
    {
     "data": {
      "text/plain": [
       "DatetimeIndex(['1992-06-28', '1992-06-29', '1992-06-30', '1992-07-01',\n",
       "               '1992-07-02', '1992-07-03', '1992-07-04', '1992-07-05',\n",
       "               '1992-07-06', '1992-07-07',\n",
       "               ...\n",
       "               '2022-06-18', '2022-06-19', '2022-06-20', '2022-06-21',\n",
       "               '2022-06-22', '2022-06-23', '2022-06-24', '2022-06-25',\n",
       "               '2022-06-26', '2022-06-27'],\n",
       "              dtype='datetime64[ns]', length=10957, freq='D')"
      ]
     },
     "execution_count": 31,
     "metadata": {},
     "output_type": "execute_result"
    }
   ],
   "source": [
    "pd.date_range(start=\"28-06-1992\", end=\"27-06-2022\", freq='D')"
   ]
  },
  {
   "cell_type": "code",
   "execution_count": 37,
   "id": "88a00093-d4f2-4f21-9ed2-e6234551dd9d",
   "metadata": {},
   "outputs": [
    {
     "data": {
      "text/html": [
       "<div>\n",
       "<style scoped>\n",
       "    .dataframe tbody tr th:only-of-type {\n",
       "        vertical-align: middle;\n",
       "    }\n",
       "\n",
       "    .dataframe tbody tr th {\n",
       "        vertical-align: top;\n",
       "    }\n",
       "\n",
       "    .dataframe thead th {\n",
       "        text-align: right;\n",
       "    }\n",
       "</style>\n",
       "<table border=\"1\" class=\"dataframe\">\n",
       "  <thead>\n",
       "    <tr style=\"text-align: right;\">\n",
       "      <th></th>\n",
       "      <th>Date</th>\n",
       "      <th>Births</th>\n",
       "    </tr>\n",
       "  </thead>\n",
       "  <tbody>\n",
       "    <tr>\n",
       "      <th>0</th>\n",
       "      <td>1959-01-01</td>\n",
       "      <td>35</td>\n",
       "    </tr>\n",
       "  </tbody>\n",
       "</table>\n",
       "</div>"
      ],
      "text/plain": [
       "         Date  Births\n",
       "0  1959-01-01      35"
      ]
     },
     "execution_count": 37,
     "metadata": {},
     "output_type": "execute_result"
    }
   ],
   "source": [
    "df = pd.read_csv(dataset_url)\n",
    "df.head(1)"
   ]
  },
  {
   "cell_type": "code",
   "execution_count": 38,
   "id": "be55be95-306c-4a73-98f4-215422b65703",
   "metadata": {},
   "outputs": [
    {
     "data": {
      "text/html": [
       "<div>\n",
       "<style scoped>\n",
       "    .dataframe tbody tr th:only-of-type {\n",
       "        vertical-align: middle;\n",
       "    }\n",
       "\n",
       "    .dataframe tbody tr th {\n",
       "        vertical-align: top;\n",
       "    }\n",
       "\n",
       "    .dataframe thead th {\n",
       "        text-align: right;\n",
       "    }\n",
       "</style>\n",
       "<table border=\"1\" class=\"dataframe\">\n",
       "  <thead>\n",
       "    <tr style=\"text-align: right;\">\n",
       "      <th></th>\n",
       "      <th>Date</th>\n",
       "      <th>Births</th>\n",
       "    </tr>\n",
       "  </thead>\n",
       "  <tbody>\n",
       "    <tr>\n",
       "      <th>1959-01-01</th>\n",
       "      <td>1959-01-01</td>\n",
       "      <td>35</td>\n",
       "    </tr>\n",
       "    <tr>\n",
       "      <th>1959-01-02</th>\n",
       "      <td>1959-01-02</td>\n",
       "      <td>32</td>\n",
       "    </tr>\n",
       "    <tr>\n",
       "      <th>1959-01-03</th>\n",
       "      <td>1959-01-03</td>\n",
       "      <td>30</td>\n",
       "    </tr>\n",
       "    <tr>\n",
       "      <th>1959-01-04</th>\n",
       "      <td>1959-01-04</td>\n",
       "      <td>31</td>\n",
       "    </tr>\n",
       "    <tr>\n",
       "      <th>1959-01-05</th>\n",
       "      <td>1959-01-05</td>\n",
       "      <td>44</td>\n",
       "    </tr>\n",
       "  </tbody>\n",
       "</table>\n",
       "</div>"
      ],
      "text/plain": [
       "                  Date  Births\n",
       "1959-01-01  1959-01-01      35\n",
       "1959-01-02  1959-01-02      32\n",
       "1959-01-03  1959-01-03      30\n",
       "1959-01-04  1959-01-04      31\n",
       "1959-01-05  1959-01-05      44"
      ]
     },
     "execution_count": 38,
     "metadata": {},
     "output_type": "execute_result"
    }
   ],
   "source": [
    "dt_rage = pd.date_range(start=\"01-01-1959\", end=\"12-31-1959\", freq='D')\n",
    "df.set_index(dt_rage, inplace=True)\n",
    "df.head()"
   ]
  },
  {
   "cell_type": "code",
   "execution_count": 40,
   "id": "c8032fce-a53a-4232-bc0a-3a6cdf33a9ed",
   "metadata": {},
   "outputs": [
    {
     "data": {
      "image/png": "[encoded data removed]",
      "text/plain": [
       "<Figure size 432x288 with 1 Axes>"
      ]
     },
     "metadata": {
      "needs_background": "light"
     },
     "output_type": "display_data"
    }
   ],
   "source": [
    "df.Births.plot();"
   ]
  },
  {
   "cell_type": "code",
   "execution_count": 41,
   "id": "8a378429-0d32-444a-bc3a-8fefffa01b97",
   "metadata": {},
   "outputs": [
    {
     "data": {
      "image/png": "[encoded data removed]",
      "text/plain": [
       "<Figure size 432x288 with 1 Axes>"
      ]
     },
     "metadata": {
      "needs_background": "light"
     },
     "output_type": "display_data"
    }
   ],
   "source": [
    "df.loc[\"1959-01\"].Births.plot();"
   ]
  },
  {
   "cell_type": "code",
   "execution_count": 42,
   "id": "c944f71d-6e50-4981-83fb-1ecae70b739e",
   "metadata": {},
   "outputs": [
    {
     "data": {
      "text/html": [
       "<div>\n",
       "<style scoped>\n",
       "    .dataframe tbody tr th:only-of-type {\n",
       "        vertical-align: middle;\n",
       "    }\n",
       "\n",
       "    .dataframe tbody tr th {\n",
       "        vertical-align: top;\n",
       "    }\n",
       "\n",
       "    .dataframe thead th {\n",
       "        text-align: right;\n",
       "    }\n",
       "</style>\n",
       "<table border=\"1\" class=\"dataframe\">\n",
       "  <thead>\n",
       "    <tr style=\"text-align: right;\">\n",
       "      <th></th>\n",
       "      <th>Date</th>\n",
       "      <th>Births</th>\n",
       "    </tr>\n",
       "  </thead>\n",
       "  <tbody>\n",
       "    <tr>\n",
       "      <th>1959-01-01</th>\n",
       "      <td>1959-01-01</td>\n",
       "      <td>35</td>\n",
       "    </tr>\n",
       "    <tr>\n",
       "      <th>1959-01-02</th>\n",
       "      <td>1959-01-02</td>\n",
       "      <td>32</td>\n",
       "    </tr>\n",
       "    <tr>\n",
       "      <th>1959-01-03</th>\n",
       "      <td>1959-01-03</td>\n",
       "      <td>30</td>\n",
       "    </tr>\n",
       "    <tr>\n",
       "      <th>1959-01-04</th>\n",
       "      <td>1959-01-04</td>\n",
       "      <td>31</td>\n",
       "    </tr>\n",
       "    <tr>\n",
       "      <th>1959-01-05</th>\n",
       "      <td>1959-01-05</td>\n",
       "      <td>44</td>\n",
       "    </tr>\n",
       "    <tr>\n",
       "      <th>...</th>\n",
       "      <td>...</td>\n",
       "      <td>...</td>\n",
       "    </tr>\n",
       "    <tr>\n",
       "      <th>1959-12-27</th>\n",
       "      <td>1959-12-27</td>\n",
       "      <td>37</td>\n",
       "    </tr>\n",
       "    <tr>\n",
       "      <th>1959-12-28</th>\n",
       "      <td>1959-12-28</td>\n",
       "      <td>52</td>\n",
       "    </tr>\n",
       "    <tr>\n",
       "      <th>1959-12-29</th>\n",
       "      <td>1959-12-29</td>\n",
       "      <td>48</td>\n",
       "    </tr>\n",
       "    <tr>\n",
       "      <th>1959-12-30</th>\n",
       "      <td>1959-12-30</td>\n",
       "      <td>55</td>\n",
       "    </tr>\n",
       "    <tr>\n",
       "      <th>1959-12-31</th>\n",
       "      <td>1959-12-31</td>\n",
       "      <td>50</td>\n",
       "    </tr>\n",
       "  </tbody>\n",
       "</table>\n",
       "<p>365 rows × 2 columns</p>\n",
       "</div>"
      ],
      "text/plain": [
       "                  Date  Births\n",
       "1959-01-01  1959-01-01      35\n",
       "1959-01-02  1959-01-02      32\n",
       "1959-01-03  1959-01-03      30\n",
       "1959-01-04  1959-01-04      31\n",
       "1959-01-05  1959-01-05      44\n",
       "...                ...     ...\n",
       "1959-12-27  1959-12-27      37\n",
       "1959-12-28  1959-12-28      52\n",
       "1959-12-29  1959-12-29      48\n",
       "1959-12-30  1959-12-30      55\n",
       "1959-12-31  1959-12-31      50\n",
       "\n",
       "[365 rows x 2 columns]"
      ]
     },
     "execution_count": 42,
     "metadata": {},
     "output_type": "execute_result"
    }
   ],
   "source": [
    "df.asfreq(\"D\")"
   ]
  },
  {
   "cell_type": "code",
   "execution_count": 43,
   "id": "37501d01-033b-4986-b7ec-1a3e5cbe45ac",
   "metadata": {},
   "outputs": [
    {
     "data": {
      "text/html": [
       "<div>\n",
       "<style scoped>\n",
       "    .dataframe tbody tr th:only-of-type {\n",
       "        vertical-align: middle;\n",
       "    }\n",
       "\n",
       "    .dataframe tbody tr th {\n",
       "        vertical-align: top;\n",
       "    }\n",
       "\n",
       "    .dataframe thead th {\n",
       "        text-align: right;\n",
       "    }\n",
       "</style>\n",
       "<table border=\"1\" class=\"dataframe\">\n",
       "  <thead>\n",
       "    <tr style=\"text-align: right;\">\n",
       "      <th></th>\n",
       "      <th>Date</th>\n",
       "      <th>Births</th>\n",
       "    </tr>\n",
       "  </thead>\n",
       "  <tbody>\n",
       "    <tr>\n",
       "      <th>1959-01-01</th>\n",
       "      <td>1959-01-01</td>\n",
       "      <td>35</td>\n",
       "    </tr>\n",
       "    <tr>\n",
       "      <th>1959-01-02</th>\n",
       "      <td>1959-01-02</td>\n",
       "      <td>32</td>\n",
       "    </tr>\n",
       "    <tr>\n",
       "      <th>1959-01-03</th>\n",
       "      <td>1959-01-03</td>\n",
       "      <td>30</td>\n",
       "    </tr>\n",
       "    <tr>\n",
       "      <th>1959-01-04</th>\n",
       "      <td>1959-01-04</td>\n",
       "      <td>31</td>\n",
       "    </tr>\n",
       "    <tr>\n",
       "      <th>1959-01-05</th>\n",
       "      <td>1959-01-05</td>\n",
       "      <td>44</td>\n",
       "    </tr>\n",
       "    <tr>\n",
       "      <th>...</th>\n",
       "      <td>...</td>\n",
       "      <td>...</td>\n",
       "    </tr>\n",
       "    <tr>\n",
       "      <th>1959-12-27</th>\n",
       "      <td>1959-12-27</td>\n",
       "      <td>37</td>\n",
       "    </tr>\n",
       "    <tr>\n",
       "      <th>1959-12-28</th>\n",
       "      <td>1959-12-28</td>\n",
       "      <td>52</td>\n",
       "    </tr>\n",
       "    <tr>\n",
       "      <th>1959-12-29</th>\n",
       "      <td>1959-12-29</td>\n",
       "      <td>48</td>\n",
       "    </tr>\n",
       "    <tr>\n",
       "      <th>1959-12-30</th>\n",
       "      <td>1959-12-30</td>\n",
       "      <td>55</td>\n",
       "    </tr>\n",
       "    <tr>\n",
       "      <th>1959-12-31</th>\n",
       "      <td>1959-12-31</td>\n",
       "      <td>50</td>\n",
       "    </tr>\n",
       "  </tbody>\n",
       "</table>\n",
       "<p>365 rows × 2 columns</p>\n",
       "</div>"
      ],
      "text/plain": [
       "                  Date  Births\n",
       "1959-01-01  1959-01-01      35\n",
       "1959-01-02  1959-01-02      32\n",
       "1959-01-03  1959-01-03      30\n",
       "1959-01-04  1959-01-04      31\n",
       "1959-01-05  1959-01-05      44\n",
       "...                ...     ...\n",
       "1959-12-27  1959-12-27      37\n",
       "1959-12-28  1959-12-28      52\n",
       "1959-12-29  1959-12-29      48\n",
       "1959-12-30  1959-12-30      55\n",
       "1959-12-31  1959-12-31      50\n",
       "\n",
       "[365 rows x 2 columns]"
      ]
     },
     "execution_count": 43,
     "metadata": {},
     "output_type": "execute_result"
    }
   ],
   "source": [
    "df.asfreq(\"D\", method='pad')"
   ]
  },
  {
   "cell_type": "code",
   "execution_count": 45,
   "id": "e9c38926-7ebf-4e16-a7c6-ca7ac1788985",
   "metadata": {
    "scrolled": true,
    "tags": []
   },
   "outputs": [
    {
     "data": {
      "text/html": [
       "<div>\n",
       "<style scoped>\n",
       "    .dataframe tbody tr th:only-of-type {\n",
       "        vertical-align: middle;\n",
       "    }\n",
       "\n",
       "    .dataframe tbody tr th {\n",
       "        vertical-align: top;\n",
       "    }\n",
       "\n",
       "    .dataframe thead th {\n",
       "        text-align: right;\n",
       "    }\n",
       "</style>\n",
       "<table border=\"1\" class=\"dataframe\">\n",
       "  <thead>\n",
       "    <tr style=\"text-align: right;\">\n",
       "      <th></th>\n",
       "      <th>Date</th>\n",
       "      <th>Births</th>\n",
       "    </tr>\n",
       "  </thead>\n",
       "  <tbody>\n",
       "    <tr>\n",
       "      <th>1959-01-04</th>\n",
       "      <td>1959-01-04</td>\n",
       "      <td>31</td>\n",
       "    </tr>\n",
       "    <tr>\n",
       "      <th>1959-01-11</th>\n",
       "      <td>1959-01-11</td>\n",
       "      <td>38</td>\n",
       "    </tr>\n",
       "    <tr>\n",
       "      <th>1959-01-18</th>\n",
       "      <td>1959-01-18</td>\n",
       "      <td>43</td>\n",
       "    </tr>\n",
       "    <tr>\n",
       "      <th>1959-01-25</th>\n",
       "      <td>1959-01-25</td>\n",
       "      <td>37</td>\n",
       "    </tr>\n",
       "    <tr>\n",
       "      <th>1959-02-01</th>\n",
       "      <td>1959-02-01</td>\n",
       "      <td>23</td>\n",
       "    </tr>\n",
       "    <tr>\n",
       "      <th>1959-02-08</th>\n",
       "      <td>1959-02-08</td>\n",
       "      <td>31</td>\n",
       "    </tr>\n",
       "    <tr>\n",
       "      <th>1959-02-15</th>\n",
       "      <td>1959-02-15</td>\n",
       "      <td>52</td>\n",
       "    </tr>\n",
       "    <tr>\n",
       "      <th>1959-02-22</th>\n",
       "      <td>1959-02-22</td>\n",
       "      <td>35</td>\n",
       "    </tr>\n",
       "    <tr>\n",
       "      <th>1959-03-01</th>\n",
       "      <td>1959-03-01</td>\n",
       "      <td>35</td>\n",
       "    </tr>\n",
       "    <tr>\n",
       "      <th>1959-03-08</th>\n",
       "      <td>1959-03-08</td>\n",
       "      <td>39</td>\n",
       "    </tr>\n",
       "    <tr>\n",
       "      <th>1959-03-15</th>\n",
       "      <td>1959-03-15</td>\n",
       "      <td>27</td>\n",
       "    </tr>\n",
       "    <tr>\n",
       "      <th>1959-03-22</th>\n",
       "      <td>1959-03-22</td>\n",
       "      <td>46</td>\n",
       "    </tr>\n",
       "    <tr>\n",
       "      <th>1959-03-29</th>\n",
       "      <td>1959-03-29</td>\n",
       "      <td>32</td>\n",
       "    </tr>\n",
       "    <tr>\n",
       "      <th>1959-04-05</th>\n",
       "      <td>1959-04-05</td>\n",
       "      <td>36</td>\n",
       "    </tr>\n",
       "    <tr>\n",
       "      <th>1959-04-12</th>\n",
       "      <td>1959-04-12</td>\n",
       "      <td>34</td>\n",
       "    </tr>\n",
       "    <tr>\n",
       "      <th>1959-04-19</th>\n",
       "      <td>1959-04-19</td>\n",
       "      <td>46</td>\n",
       "    </tr>\n",
       "    <tr>\n",
       "      <th>1959-04-26</th>\n",
       "      <td>1959-04-26</td>\n",
       "      <td>35</td>\n",
       "    </tr>\n",
       "    <tr>\n",
       "      <th>1959-05-03</th>\n",
       "      <td>1959-05-03</td>\n",
       "      <td>38</td>\n",
       "    </tr>\n",
       "    <tr>\n",
       "      <th>1959-05-10</th>\n",
       "      <td>1959-05-10</td>\n",
       "      <td>34</td>\n",
       "    </tr>\n",
       "    <tr>\n",
       "      <th>1959-05-17</th>\n",
       "      <td>1959-05-17</td>\n",
       "      <td>24</td>\n",
       "    </tr>\n",
       "    <tr>\n",
       "      <th>1959-05-24</th>\n",
       "      <td>1959-05-24</td>\n",
       "      <td>41</td>\n",
       "    </tr>\n",
       "    <tr>\n",
       "      <th>1959-05-31</th>\n",
       "      <td>1959-05-31</td>\n",
       "      <td>38</td>\n",
       "    </tr>\n",
       "    <tr>\n",
       "      <th>1959-06-07</th>\n",
       "      <td>1959-06-07</td>\n",
       "      <td>36</td>\n",
       "    </tr>\n",
       "    <tr>\n",
       "      <th>1959-06-14</th>\n",
       "      <td>1959-06-14</td>\n",
       "      <td>35</td>\n",
       "    </tr>\n",
       "    <tr>\n",
       "      <th>1959-06-21</th>\n",
       "      <td>1959-06-21</td>\n",
       "      <td>45</td>\n",
       "    </tr>\n",
       "    <tr>\n",
       "      <th>1959-06-28</th>\n",
       "      <td>1959-06-28</td>\n",
       "      <td>41</td>\n",
       "    </tr>\n",
       "    <tr>\n",
       "      <th>1959-07-05</th>\n",
       "      <td>1959-07-05</td>\n",
       "      <td>45</td>\n",
       "    </tr>\n",
       "    <tr>\n",
       "      <th>1959-07-12</th>\n",
       "      <td>1959-07-12</td>\n",
       "      <td>26</td>\n",
       "    </tr>\n",
       "    <tr>\n",
       "      <th>1959-07-19</th>\n",
       "      <td>1959-07-19</td>\n",
       "      <td>45</td>\n",
       "    </tr>\n",
       "    <tr>\n",
       "      <th>1959-07-26</th>\n",
       "      <td>1959-07-26</td>\n",
       "      <td>39</td>\n",
       "    </tr>\n",
       "    <tr>\n",
       "      <th>1959-08-02</th>\n",
       "      <td>1959-08-02</td>\n",
       "      <td>39</td>\n",
       "    </tr>\n",
       "    <tr>\n",
       "      <th>1959-08-09</th>\n",
       "      <td>1959-08-09</td>\n",
       "      <td>44</td>\n",
       "    </tr>\n",
       "    <tr>\n",
       "      <th>1959-08-16</th>\n",
       "      <td>1959-08-16</td>\n",
       "      <td>45</td>\n",
       "    </tr>\n",
       "    <tr>\n",
       "      <th>1959-08-23</th>\n",
       "      <td>1959-08-23</td>\n",
       "      <td>39</td>\n",
       "    </tr>\n",
       "    <tr>\n",
       "      <th>1959-08-30</th>\n",
       "      <td>1959-08-30</td>\n",
       "      <td>41</td>\n",
       "    </tr>\n",
       "    <tr>\n",
       "      <th>1959-09-06</th>\n",
       "      <td>1959-09-06</td>\n",
       "      <td>44</td>\n",
       "    </tr>\n",
       "    <tr>\n",
       "      <th>1959-09-13</th>\n",
       "      <td>1959-09-13</td>\n",
       "      <td>42</td>\n",
       "    </tr>\n",
       "    <tr>\n",
       "      <th>1959-09-20</th>\n",
       "      <td>1959-09-20</td>\n",
       "      <td>39</td>\n",
       "    </tr>\n",
       "    <tr>\n",
       "      <th>1959-09-27</th>\n",
       "      <td>1959-09-27</td>\n",
       "      <td>40</td>\n",
       "    </tr>\n",
       "    <tr>\n",
       "      <th>1959-10-04</th>\n",
       "      <td>1959-10-04</td>\n",
       "      <td>47</td>\n",
       "    </tr>\n",
       "    <tr>\n",
       "      <th>1959-10-11</th>\n",
       "      <td>1959-10-11</td>\n",
       "      <td>43</td>\n",
       "    </tr>\n",
       "    <tr>\n",
       "      <th>1959-10-18</th>\n",
       "      <td>1959-10-18</td>\n",
       "      <td>45</td>\n",
       "    </tr>\n",
       "    <tr>\n",
       "      <th>1959-10-25</th>\n",
       "      <td>1959-10-25</td>\n",
       "      <td>42</td>\n",
       "    </tr>\n",
       "    <tr>\n",
       "      <th>1959-11-01</th>\n",
       "      <td>1959-11-01</td>\n",
       "      <td>48</td>\n",
       "    </tr>\n",
       "    <tr>\n",
       "      <th>1959-11-08</th>\n",
       "      <td>1959-11-08</td>\n",
       "      <td>46</td>\n",
       "    </tr>\n",
       "    <tr>\n",
       "      <th>1959-11-15</th>\n",
       "      <td>1959-11-15</td>\n",
       "      <td>40</td>\n",
       "    </tr>\n",
       "    <tr>\n",
       "      <th>1959-11-22</th>\n",
       "      <td>1959-11-22</td>\n",
       "      <td>40</td>\n",
       "    </tr>\n",
       "    <tr>\n",
       "      <th>1959-11-29</th>\n",
       "      <td>1959-11-29</td>\n",
       "      <td>44</td>\n",
       "    </tr>\n",
       "    <tr>\n",
       "      <th>1959-12-06</th>\n",
       "      <td>1959-12-06</td>\n",
       "      <td>33</td>\n",
       "    </tr>\n",
       "    <tr>\n",
       "      <th>1959-12-13</th>\n",
       "      <td>1959-12-13</td>\n",
       "      <td>35</td>\n",
       "    </tr>\n",
       "    <tr>\n",
       "      <th>1959-12-20</th>\n",
       "      <td>1959-12-20</td>\n",
       "      <td>42</td>\n",
       "    </tr>\n",
       "    <tr>\n",
       "      <th>1959-12-27</th>\n",
       "      <td>1959-12-27</td>\n",
       "      <td>37</td>\n",
       "    </tr>\n",
       "  </tbody>\n",
       "</table>\n",
       "</div>"
      ],
      "text/plain": [
       "                  Date  Births\n",
       "1959-01-04  1959-01-04      31\n",
       "1959-01-11  1959-01-11      38\n",
       "1959-01-18  1959-01-18      43\n",
       "1959-01-25  1959-01-25      37\n",
       "1959-02-01  1959-02-01      23\n",
       "1959-02-08  1959-02-08      31\n",
       "1959-02-15  1959-02-15      52\n",
       "1959-02-22  1959-02-22      35\n",
       "1959-03-01  1959-03-01      35\n",
       "1959-03-08  1959-03-08      39\n",
       "1959-03-15  1959-03-15      27\n",
       "1959-03-22  1959-03-22      46\n",
       "1959-03-29  1959-03-29      32\n",
       "1959-04-05  1959-04-05      36\n",
       "1959-04-12  1959-04-12      34\n",
       "1959-04-19  1959-04-19      46\n",
       "1959-04-26  1959-04-26      35\n",
       "1959-05-03  1959-05-03      38\n",
       "1959-05-10  1959-05-10      34\n",
       "1959-05-17  1959-05-17      24\n",
       "1959-05-24  1959-05-24      41\n",
       "1959-05-31  1959-05-31      38\n",
       "1959-06-07  1959-06-07      36\n",
       "1959-06-14  1959-06-14      35\n",
       "1959-06-21  1959-06-21      45\n",
       "1959-06-28  1959-06-28      41\n",
       "1959-07-05  1959-07-05      45\n",
       "1959-07-12  1959-07-12      26\n",
       "1959-07-19  1959-07-19      45\n",
       "1959-07-26  1959-07-26      39\n",
       "1959-08-02  1959-08-02      39\n",
       "1959-08-09  1959-08-09      44\n",
       "1959-08-16  1959-08-16      45\n",
       "1959-08-23  1959-08-23      39\n",
       "1959-08-30  1959-08-30      41\n",
       "1959-09-06  1959-09-06      44\n",
       "1959-09-13  1959-09-13      42\n",
       "1959-09-20  1959-09-20      39\n",
       "1959-09-27  1959-09-27      40\n",
       "1959-10-04  1959-10-04      47\n",
       "1959-10-11  1959-10-11      43\n",
       "1959-10-18  1959-10-18      45\n",
       "1959-10-25  1959-10-25      42\n",
       "1959-11-01  1959-11-01      48\n",
       "1959-11-08  1959-11-08      46\n",
       "1959-11-15  1959-11-15      40\n",
       "1959-11-22  1959-11-22      40\n",
       "1959-11-29  1959-11-29      44\n",
       "1959-12-06  1959-12-06      33\n",
       "1959-12-13  1959-12-13      35\n",
       "1959-12-20  1959-12-20      42\n",
       "1959-12-27  1959-12-27      37"
      ]
     },
     "execution_count": 45,
     "metadata": {},
     "output_type": "execute_result"
    }
   ],
   "source": [
    "df.asfreq(\"W\", method='pad')"
   ]
  },
  {
   "cell_type": "code",
   "execution_count": 46,
   "id": "f2392f62-942a-45a0-b0b7-c47dc436026d",
   "metadata": {
    "scrolled": true,
    "tags": []
   },
   "outputs": [
    {
     "data": {
      "text/html": [
       "<div>\n",
       "<style scoped>\n",
       "    .dataframe tbody tr th:only-of-type {\n",
       "        vertical-align: middle;\n",
       "    }\n",
       "\n",
       "    .dataframe tbody tr th {\n",
       "        vertical-align: top;\n",
       "    }\n",
       "\n",
       "    .dataframe thead th {\n",
       "        text-align: right;\n",
       "    }\n",
       "</style>\n",
       "<table border=\"1\" class=\"dataframe\">\n",
       "  <thead>\n",
       "    <tr style=\"text-align: right;\">\n",
       "      <th></th>\n",
       "      <th>Date</th>\n",
       "      <th>Births</th>\n",
       "    </tr>\n",
       "  </thead>\n",
       "  <tbody>\n",
       "    <tr>\n",
       "      <th>1959-01-01</th>\n",
       "      <td>1959-01-01</td>\n",
       "      <td>35</td>\n",
       "    </tr>\n",
       "    <tr>\n",
       "      <th>1959-01-02</th>\n",
       "      <td>1959-01-02</td>\n",
       "      <td>32</td>\n",
       "    </tr>\n",
       "    <tr>\n",
       "      <th>1959-01-05</th>\n",
       "      <td>1959-01-05</td>\n",
       "      <td>44</td>\n",
       "    </tr>\n",
       "    <tr>\n",
       "      <th>1959-01-06</th>\n",
       "      <td>1959-01-06</td>\n",
       "      <td>29</td>\n",
       "    </tr>\n",
       "    <tr>\n",
       "      <th>1959-01-07</th>\n",
       "      <td>1959-01-07</td>\n",
       "      <td>45</td>\n",
       "    </tr>\n",
       "    <tr>\n",
       "      <th>...</th>\n",
       "      <td>...</td>\n",
       "      <td>...</td>\n",
       "    </tr>\n",
       "    <tr>\n",
       "      <th>1959-12-25</th>\n",
       "      <td>1959-12-25</td>\n",
       "      <td>44</td>\n",
       "    </tr>\n",
       "    <tr>\n",
       "      <th>1959-12-28</th>\n",
       "      <td>1959-12-28</td>\n",
       "      <td>52</td>\n",
       "    </tr>\n",
       "    <tr>\n",
       "      <th>1959-12-29</th>\n",
       "      <td>1959-12-29</td>\n",
       "      <td>48</td>\n",
       "    </tr>\n",
       "    <tr>\n",
       "      <th>1959-12-30</th>\n",
       "      <td>1959-12-30</td>\n",
       "      <td>55</td>\n",
       "    </tr>\n",
       "    <tr>\n",
       "      <th>1959-12-31</th>\n",
       "      <td>1959-12-31</td>\n",
       "      <td>50</td>\n",
       "    </tr>\n",
       "  </tbody>\n",
       "</table>\n",
       "<p>261 rows × 2 columns</p>\n",
       "</div>"
      ],
      "text/plain": [
       "                  Date  Births\n",
       "1959-01-01  1959-01-01      35\n",
       "1959-01-02  1959-01-02      32\n",
       "1959-01-05  1959-01-05      44\n",
       "1959-01-06  1959-01-06      29\n",
       "1959-01-07  1959-01-07      45\n",
       "...                ...     ...\n",
       "1959-12-25  1959-12-25      44\n",
       "1959-12-28  1959-12-28      52\n",
       "1959-12-29  1959-12-29      48\n",
       "1959-12-30  1959-12-30      55\n",
       "1959-12-31  1959-12-31      50\n",
       "\n",
       "[261 rows x 2 columns]"
      ]
     },
     "execution_count": 46,
     "metadata": {},
     "output_type": "execute_result"
    }
   ],
   "source": [
    "# Fill the missing values with a method\n",
    "df.asfreq(\"B\", method='pad')"
   ]
  },
  {
   "cell_type": "code",
   "execution_count": 51,
   "id": "cd5e060a-132b-4c2b-98b0-452cb0f6b1d3",
   "metadata": {},
   "outputs": [
    {
     "data": {
      "text/plain": [
       "DatetimeIndex(['1959-01-01 00:00:00', '1959-01-01 01:00:00',\n",
       "               '1959-01-01 02:00:00', '1959-01-01 03:00:00',\n",
       "               '1959-01-01 04:00:00', '1959-01-01 05:00:00',\n",
       "               '1959-01-01 06:00:00', '1959-01-01 07:00:00',\n",
       "               '1959-01-01 08:00:00', '1959-01-01 09:00:00'],\n",
       "              dtype='datetime64[ns]', freq='H')"
      ]
     },
     "execution_count": 51,
     "metadata": {},
     "output_type": "execute_result"
    }
   ],
   "source": [
    "# pd.date_range(start=\"01-01-1959\", end=\"12-31-1959\", freq='D', periods=10) # Casuses Error\n",
    "pd.date_range(start=\"01-01-1959\", freq='D', periods=10)\n",
    "pd.date_range(start=\"01-01-1959\", freq='B', periods=10) # Business day frequency\n",
    "pd.date_range(start=\"01-01-1959\", freq='H', periods=10)"
   ]
  },
  {
   "cell_type": "code",
   "execution_count": 52,
   "id": "f3b6786b-8418-4e95-912f-9b15f2aeebcc",
   "metadata": {},
   "outputs": [
    {
     "data": {
      "text/plain": [
       "DatetimeIndex(['1959-01-01', '1959-01-02', '1959-01-03', '1959-01-04',\n",
       "               '1959-01-05', '1959-01-06', '1959-01-07', '1959-01-08',\n",
       "               '1959-01-09', '1959-01-10'],\n",
       "              dtype='datetime64[ns]', freq='D')"
      ]
     },
     "execution_count": 52,
     "metadata": {},
     "output_type": "execute_result"
    }
   ],
   "source": [
    "pd.date_range(start=\"01-01-1959\",periods=10) "
   ]
  },
  {
   "cell_type": "markdown",
   "id": "a6f427c8-2ad6-4512-9a76-8412bcd7ea64",
   "metadata": {},
   "source": [
    "# Handling Holidays"
   ]
  },
  {
   "cell_type": "code",
   "execution_count": 53,
   "id": "a8d19c2b-4591-4603-b844-c02f5717f81a",
   "metadata": {},
   "outputs": [],
   "source": [
    "# For US Holiday calendar\n",
    "from pandas.tseries.holiday import USFederalHolidayCalendar\n",
    "from pandas.tseries.offsets import CustomBusinessDay"
   ]
  },
  {
   "cell_type": "code",
   "execution_count": 54,
   "id": "802bc459-ea69-4126-8856-2ad33fba264a",
   "metadata": {},
   "outputs": [],
   "source": [
    "start_date = \"2022-02-02\"\n",
    "end_date = \"2023-03-31\""
   ]
  },
  {
   "cell_type": "code",
   "execution_count": 59,
   "id": "b1d8ff0b-45fe-4fe2-90bd-ef575dd45324",
   "metadata": {},
   "outputs": [
    {
     "data": {
      "text/plain": [
       "<CustomBusinessDay>"
      ]
     },
     "execution_count": 59,
     "metadata": {},
     "output_type": "execute_result"
    }
   ],
   "source": [
    "usb = CustomBusinessDay(calendar=USFederalHolidayCalendar())\n",
    "usb"
   ]
  },
  {
   "cell_type": "code",
   "execution_count": 60,
   "id": "3725e156-d2a7-477e-8229-47282a24ade8",
   "metadata": {},
   "outputs": [
    {
     "data": {
      "text/plain": [
       "DatetimeIndex(['2022-02-02', '2022-02-03', '2022-02-04', '2022-02-07',\n",
       "               '2022-02-08', '2022-02-09', '2022-02-10', '2022-02-11',\n",
       "               '2022-02-14', '2022-02-15',\n",
       "               ...\n",
       "               '2023-03-20', '2023-03-21', '2023-03-22', '2023-03-23',\n",
       "               '2023-03-24', '2023-03-27', '2023-03-28', '2023-03-29',\n",
       "               '2023-03-30', '2023-03-31'],\n",
       "              dtype='datetime64[ns]', length=292, freq='C')"
      ]
     },
     "execution_count": 60,
     "metadata": {},
     "output_type": "execute_result"
    }
   ],
   "source": [
    "pd.date_range(start=start_date, end=end_date,freq=usb)"
   ]
  },
  {
   "cell_type": "code",
   "execution_count": 68,
   "id": "21e1e9f7-e2b5-4e41-b038-87388ab8cd94",
   "metadata": {},
   "outputs": [],
   "source": [
    "# for custome calendar: for eg, india calendar\n",
    "from pandas.tseries.holiday import AbstractHolidayCalendar, nearest_workday, Holiday, sunday_to_monday"
   ]
  },
  {
   "cell_type": "code",
   "execution_count": 62,
   "id": "1ccc902f-878c-4fc7-af6b-ab03e695e697",
   "metadata": {},
   "outputs": [],
   "source": [
    "class indiaCalendar(AbstractHolidayCalendar):\n",
    "    rules = [\n",
    "        Holiday(\"Independance Day\", month=8, day=15)\n",
    "    ]"
   ]
  },
  {
   "cell_type": "code",
   "execution_count": 63,
   "id": "047cd63d-4110-4e11-95b7-1c8f4f936a17",
   "metadata": {},
   "outputs": [
    {
     "data": {
      "text/plain": [
       "<CustomBusinessDay>"
      ]
     },
     "execution_count": 63,
     "metadata": {},
     "output_type": "execute_result"
    }
   ],
   "source": [
    "ind_cal = CustomBusinessDay(calendar=indiaCalendar())\n",
    "ind_cal"
   ]
  },
  {
   "cell_type": "code",
   "execution_count": 65,
   "id": "6ac5ee16-5499-4316-a1f3-28d2bd334d5b",
   "metadata": {},
   "outputs": [
    {
     "data": {
      "text/plain": [
       "DatetimeIndex(['2022-08-10', '2022-08-11', '2022-08-12', '2022-08-16',\n",
       "               '2022-08-17', '2022-08-18', '2022-08-19', '2022-08-22',\n",
       "               '2022-08-23', '2022-08-24', '2022-08-25', '2022-08-26',\n",
       "               '2022-08-29', '2022-08-30', '2022-08-31'],\n",
       "              dtype='datetime64[ns]', freq='C')"
      ]
     },
     "execution_count": 65,
     "metadata": {},
     "output_type": "execute_result"
    }
   ],
   "source": [
    "start_date = \"2022-08-10\"\n",
    "end_date = \"2022-08-31\"\n",
    "pd.date_range(start_date, end_date, freq=ind_cal)"
   ]
  },
  {
   "cell_type": "code",
   "execution_count": 71,
   "id": "7e6b8351-c6f1-4a1c-9246-a390decde524",
   "metadata": {},
   "outputs": [
    {
     "data": {
      "text/plain": [
       "DatetimeIndex(['2022-08-10', '2022-08-11', '2022-08-12', '2022-08-16',\n",
       "               '2022-08-17', '2022-08-18', '2022-08-19', '2022-08-22',\n",
       "               '2022-08-23', '2022-08-24', '2022-08-25', '2022-08-26',\n",
       "               '2022-08-29', '2022-08-30', '2022-08-31'],\n",
       "              dtype='datetime64[ns]', freq='C')"
      ]
     },
     "execution_count": 71,
     "metadata": {},
     "output_type": "execute_result"
    }
   ],
   "source": [
    "class indiaCalendar(AbstractHolidayCalendar):\n",
    "    rules = [\n",
    "        Holiday(\"Independance Day\", month=8, day=15, observance=sunday_to_monday,)\n",
    "    ]\n",
    "    \n",
    "\n",
    "\n",
    "start_date = \"2022-08-10\"\n",
    "end_date = \"2022-08-31\"\n",
    "\n",
    "# Excluding the independence day and including all week days\n",
    "ind_cal = CustomBusinessDay(calendar=indiaCalendar(), weekmask= 'Mon Tue Wed Thu Fri Sat Sun')\n",
    "pd.date_range(start_date, end_date, freq=ind_cal)"
   ]
  },
  {
   "cell_type": "code",
   "execution_count": 72,
   "id": "896ece61-dda1-4c56-acab-c445180daa22",
   "metadata": {},
   "outputs": [
    {
     "data": {
      "text/plain": [
       "DatetimeIndex(['2022-08-10', '2022-08-11', '2022-08-12', '2022-08-16',\n",
       "               '2022-08-17', '2022-08-18', '2022-08-19', '2022-08-22',\n",
       "               '2022-08-23', '2022-08-24', '2022-08-25', '2022-08-26',\n",
       "               '2022-08-29', '2022-08-30', '2022-08-31'],\n",
       "              dtype='datetime64[ns]', freq='C')"
      ]
     },
     "execution_count": 72,
     "metadata": {},
     "output_type": "execute_result"
    }
   ],
   "source": [
    "# Excluding the independence day and week ends\n",
    "ind_cal = CustomBusinessDay(calendar=indiaCalendar())\n",
    "pd.date_range(start_date, end_date, freq=ind_cal)"
   ]
  },
  {
   "cell_type": "code",
   "execution_count": 73,
   "id": "ebc69b6f-3e3f-4e1c-9a84-c1a0a5772414",
   "metadata": {},
   "outputs": [
    {
     "data": {
      "text/plain": [
       "DatetimeIndex(['2022-08-10', '2022-08-13', '2022-08-14', '2022-08-16',\n",
       "               '2022-08-17', '2022-08-20', '2022-08-21', '2022-08-22',\n",
       "               '2022-08-23', '2022-08-24', '2022-08-27', '2022-08-28',\n",
       "               '2022-08-29', '2022-08-30', '2022-08-31'],\n",
       "              dtype='datetime64[ns]', freq='C')"
      ]
     },
     "execution_count": 73,
     "metadata": {},
     "output_type": "execute_result"
    }
   ],
   "source": [
    "# Excluding the independence day and every Thursday Friday\n",
    "ind_cal = CustomBusinessDay(calendar=indiaCalendar(), weekmask= 'Mon Tue Wed  Sat Sun')\n",
    "pd.date_range(start_date, end_date, freq=ind_cal)"
   ]
  },
  {
   "cell_type": "code",
   "execution_count": 74,
   "id": "164efad2-6e5c-400e-8da2-3ac15b2423a8",
   "metadata": {},
   "outputs": [
    {
     "data": {
      "text/plain": [
       "DatetimeIndex(['2022-08-10', '2022-08-13', '2022-08-14', '2022-08-15',\n",
       "               '2022-08-16', '2022-08-17', '2022-08-20', '2022-08-21',\n",
       "               '2022-08-22', '2022-08-23', '2022-08-24', '2022-08-27',\n",
       "               '2022-08-28', '2022-08-29', '2022-08-30', '2022-08-31'],\n",
       "              dtype='datetime64[ns]', freq='C')"
      ]
     },
     "execution_count": 74,
     "metadata": {},
     "output_type": "execute_result"
    }
   ],
   "source": [
    "# Excluding every Thursday Friday\n",
    "ind_cal = CustomBusinessDay(weekmask='Mon Tue Wed  Sat Sun')\n",
    "pd.date_range(start_date, end_date, freq=ind_cal)"
   ]
  },
  {
   "cell_type": "markdown",
   "id": "9aa10873-f407-4cf8-89b4-a6a3181e9069",
   "metadata": {},
   "source": [
    "# Pandas To Datetime"
   ]
  },
  {
   "cell_type": "code",
   "execution_count": 76,
   "id": "715df48e-a997-4269-831e-f445a1bb4ab0",
   "metadata": {},
   "outputs": [
    {
     "data": {
      "text/plain": [
       "('2022-08-10', str)"
      ]
     },
     "execution_count": 76,
     "metadata": {},
     "output_type": "execute_result"
    }
   ],
   "source": [
    "start_date, type(start_date)"
   ]
  },
  {
   "cell_type": "code",
   "execution_count": 86,
   "id": "ec4a413d-6922-4fe2-adcf-fd71fe52372d",
   "metadata": {},
   "outputs": [
    {
     "data": {
      "text/plain": [
       "DatetimeIndex(['2022-08-10', '2022-08-13', '2022-08-14', '2022-08-15',\n",
       "               '2022-08-16', '2022-08-17'],\n",
       "              dtype='datetime64[ns]', freq=None)"
      ]
     },
     "execution_count": 86,
     "metadata": {},
     "output_type": "execute_result"
    }
   ],
   "source": [
    "dates = ['2022-08-10', '2022-08-13', '2022-08-14', '2022-08-15', '2022-08-16', '2022-08-17']\n",
    "pd.to_datetime(dates)"
   ]
  },
  {
   "cell_type": "code",
   "execution_count": 90,
   "id": "50b9c6a2-a24e-40b1-a9dc-872731afef40",
   "metadata": {},
   "outputs": [
    {
     "data": {
      "text/plain": [
       "DatetimeIndex(['2022-08-10', '2022-08-13', '2022-08-14', '2022-08-15',\n",
       "               '2022-08-16', '2022-08-17',        'NaT'],\n",
       "              dtype='datetime64[ns]', freq=None)"
      ]
     },
     "execution_count": 90,
     "metadata": {},
     "output_type": "execute_result"
    }
   ],
   "source": [
    "\n",
    "dates = ['2022-08-10', '2022-08-13', '2022-08-14', '2022-08-15', '2022-08-16', '2022-08-17', 'abc']\n",
    "# Raises error\n",
    "# pd.to_datetime(dates)\n",
    "pd.to_datetime(dates, errors='ignore')\n",
    "pd.to_datetime(dates, errors='coerce')"
   ]
  },
  {
   "cell_type": "code",
   "execution_count": 91,
   "id": "f031565e-cefb-455c-b4f3-b7b6d206478d",
   "metadata": {},
   "outputs": [
    {
     "data": {
      "text/plain": [
       "Timestamp('2022-08-10 00:00:00')"
      ]
     },
     "execution_count": 91,
     "metadata": {},
     "output_type": "execute_result"
    }
   ],
   "source": [
    "pd.to_datetime(start_date, dayfirst=True)"
   ]
  },
  {
   "cell_type": "code",
   "execution_count": 97,
   "id": "e7b0992b-7699-4a32-b8e1-64aad3e00cdb",
   "metadata": {},
   "outputs": [
    {
     "data": {
      "text/plain": [
       "DatetimeIndex(['2022-01-20 11:23:45'], dtype='datetime64[ns]', freq=None)"
      ]
     },
     "execution_count": 97,
     "metadata": {},
     "output_type": "execute_result"
    }
   ],
   "source": [
    "t = 1642677825\n",
    "pd.to_datetime(t, unit='s')\n",
    "dts = pd.to_datetime([t], unit='s')\n",
    "dts"
   ]
  },
  {
   "cell_type": "code",
   "execution_count": 101,
   "id": "3c03f35e-4fdc-48ee-b0c8-015f18d18185",
   "metadata": {},
   "outputs": [
    {
     "name": "stdout",
     "output_type": "stream",
     "text": [
      "DatetimeIndex(['2022-01-20 11:23:45'], dtype='datetime64[ns]', freq=None)\n",
      "[1642677825000000000]\n"
     ]
    }
   ],
   "source": [
    "print(dts.view())\n",
    "print(dts.view('int64'))"
   ]
  },
  {
   "cell_type": "markdown",
   "id": "a97032eb-8928-4063-b470-7a8c7283b6ca",
   "metadata": {},
   "source": [
    "# Period and PeriodIndex"
   ]
  },
  {
   "cell_type": "code",
   "execution_count": 103,
   "id": "d4851506-076b-4c1c-8ee9-40a27ea86e93",
   "metadata": {},
   "outputs": [
    {
     "name": "stdout",
     "output_type": "stream",
     "text": [
      "2016\n",
      "2016-01-01 00:00:00\n",
      "2016-12-31 23:59:59.999999999\n"
     ]
    }
   ],
   "source": [
    "y = pd.Period(\"2016\")\n",
    "print(y)\n",
    "print(y.start_time)\n",
    "print(y.end_time)"
   ]
  },
  {
   "cell_type": "code",
   "execution_count": 106,
   "id": "ce9d8a19-984d-4553-a65d-4dbc19f0d8ea",
   "metadata": {},
   "outputs": [
    {
     "name": "stdout",
     "output_type": "stream",
     "text": [
      "2011-01\n",
      "2011-01-01 00:00:00\n",
      "2011-01-31 23:59:59.999999999\n",
      "2011-02\n"
     ]
    }
   ],
   "source": [
    "m = pd.Period('2011-1', freq='M')\n",
    "print(m)\n",
    "print(m.start_time)\n",
    "print(m.end_time)\n",
    "print(m+1)"
   ]
  },
  {
   "cell_type": "code",
   "execution_count": 108,
   "id": "322dd68e-03f3-48f8-a932-d1a04739bcfa",
   "metadata": {},
   "outputs": [
    {
     "name": "stdout",
     "output_type": "stream",
     "text": [
      "2021-02-28\n",
      "2021-03-01\n"
     ]
    }
   ],
   "source": [
    "d = pd.Period(\"2021-02-28\", freq = \"D\")\n",
    "print(d)\n",
    "print(d+1)"
   ]
  },
  {
   "cell_type": "code",
   "execution_count": 112,
   "id": "ccafb050-9def-4d61-b0a9-55dcee487b23",
   "metadata": {},
   "outputs": [
    {
     "name": "stdout",
     "output_type": "stream",
     "text": [
      "2021-02-28 23:00\n",
      "2021-03-01 00:00\n",
      "2021-02-28 20:00\n",
      "2021-03-01 02:00\n"
     ]
    }
   ],
   "source": [
    "h = pd.Period(\"2021-02-28 23:00:00\", freq = \"H\")\n",
    "print(h)\n",
    "print(h+1)\n",
    "print(h-3)\n",
    "print(h+pd.offsets.Hour(3))"
   ]
  },
  {
   "cell_type": "code",
   "execution_count": 114,
   "id": "a3062ca2-788e-4d8d-ab4c-f441214e6454",
   "metadata": {},
   "outputs": [
    {
     "name": "stdout",
     "output_type": "stream",
     "text": [
      "2021Q1\n",
      "2021Q2\n"
     ]
    }
   ],
   "source": [
    "q = pd.Period(\"2021Q1\")\n",
    "print(q)\n",
    "print(q+1)"
   ]
  },
  {
   "cell_type": "code",
   "execution_count": 118,
   "id": "6c87dabe-dd44-4294-8b28-0d8aa8f24edd",
   "metadata": {},
   "outputs": [
    {
     "name": "stdout",
     "output_type": "stream",
     "text": [
      "2021Q1\n",
      "2020-02-01 00:00:00\n",
      "2020-04-30 23:59:59.999999999\n"
     ]
    }
   ],
   "source": [
    "wal = pd.Period(\"2021Q1\", freq=\"Q-JAN\")\n",
    "print(wal)\n",
    "print(wal.start_time)\n",
    "print(wal.end_time)"
   ]
  },
  {
   "cell_type": "code",
   "execution_count": 120,
   "id": "3016d116-9781-435e-8f8b-897ed4c1dd36",
   "metadata": {},
   "outputs": [
    {
     "data": {
      "text/plain": [
       "PeriodIndex(['2010-01', '2010-02', '2010-03', '2010-04', '2010-05', '2010-06',\n",
       "             '2010-07', '2010-08', '2010-09', '2010-10',\n",
       "             ...\n",
       "             '2020-04', '2020-05', '2020-06', '2020-07', '2020-08', '2020-09',\n",
       "             '2020-10', '2020-11', '2020-12', '2021-01'],\n",
       "            dtype='period[M]', length=133, freq='M')"
      ]
     },
     "execution_count": 120,
     "metadata": {},
     "output_type": "execute_result"
    }
   ],
   "source": [
    "idx = pd.period_range(\"2010\",\"2021\", freq=\"M\")\n",
    "idx"
   ]
  },
  {
   "cell_type": "code",
   "execution_count": 121,
   "id": "3868afad-2537-4510-9685-7272ce159670",
   "metadata": {},
   "outputs": [
    {
     "data": {
      "text/plain": [
       "PeriodIndex(['2010Q1', '2010Q2', '2010Q3', '2010Q4', '2011Q1', '2011Q2',\n",
       "             '2011Q3', '2011Q4', '2012Q1', '2012Q2', '2012Q3', '2012Q4',\n",
       "             '2013Q1', '2013Q2', '2013Q3', '2013Q4', '2014Q1', '2014Q2',\n",
       "             '2014Q3', '2014Q4', '2015Q1', '2015Q2', '2015Q3', '2015Q4',\n",
       "             '2016Q1', '2016Q2', '2016Q3', '2016Q4', '2017Q1', '2017Q2',\n",
       "             '2017Q3', '2017Q4', '2018Q1', '2018Q2', '2018Q3', '2018Q4',\n",
       "             '2019Q1', '2019Q2', '2019Q3', '2019Q4', '2020Q1', '2020Q2',\n",
       "             '2020Q3', '2020Q4', '2021Q1'],\n",
       "            dtype='period[Q-DEC]', freq='Q-DEC')"
      ]
     },
     "execution_count": 121,
     "metadata": {},
     "output_type": "execute_result"
    }
   ],
   "source": [
    "idx = pd.period_range(\"2010\",\"2021\", freq=\"Q\")\n",
    "idx"
   ]
  },
  {
   "cell_type": "code",
   "execution_count": 122,
   "id": "79e78afb-6e06-4831-93f3-3249124fff19",
   "metadata": {},
   "outputs": [
    {
     "data": {
      "text/plain": [
       "PeriodIndex(['2010Q4', '2011Q1', '2011Q2', '2011Q3', '2011Q4', '2012Q1',\n",
       "             '2012Q2', '2012Q3', '2012Q4', '2013Q1', '2013Q2', '2013Q3',\n",
       "             '2013Q4', '2014Q1', '2014Q2', '2014Q3', '2014Q4', '2015Q1',\n",
       "             '2015Q2', '2015Q3', '2015Q4', '2016Q1', '2016Q2', '2016Q3',\n",
       "             '2016Q4', '2017Q1', '2017Q2', '2017Q3', '2017Q4', '2018Q1',\n",
       "             '2018Q2', '2018Q3', '2018Q4', '2019Q1', '2019Q2', '2019Q3',\n",
       "             '2019Q4', '2020Q1', '2020Q2', '2020Q3', '2020Q4', '2021Q1',\n",
       "             '2021Q2', '2021Q3', '2021Q4'],\n",
       "            dtype='period[Q-JAN]', freq='Q-JAN')"
      ]
     },
     "execution_count": 122,
     "metadata": {},
     "output_type": "execute_result"
    }
   ],
   "source": [
    "idx = pd.period_range(\"2010\",\"2021\", freq=\"Q-JAN\")\n",
    "idx"
   ]
  },
  {
   "cell_type": "code",
   "execution_count": 124,
   "id": "fc2b551a-3baf-4fb1-9a01-7206fcf9f629",
   "metadata": {},
   "outputs": [
    {
     "data": {
      "text/plain": [
       "PeriodIndex(['2010Q4', '2011Q1', '2011Q2', '2011Q3', '2011Q4'], dtype='period[Q-JAN]', freq='Q-JAN')"
      ]
     },
     "execution_count": 124,
     "metadata": {},
     "output_type": "execute_result"
    }
   ],
   "source": [
    "idx = pd.period_range(\"2010\", periods=5, freq=\"Q-JAN\")\n",
    "idx"
   ]
  },
  {
   "cell_type": "markdown",
   "id": "6e93350f-d00a-4c59-ab13-686ddc1195de",
   "metadata": {},
   "source": [
    "## Generate random series Period index"
   ]
  },
  {
   "cell_type": "code",
   "execution_count": 125,
   "id": "842688b2-ddb4-4fcb-9328-92b4a01dec84",
   "metadata": {},
   "outputs": [
    {
     "data": {
      "text/plain": [
       "2010Q4    0.829026\n",
       "2011Q1   -0.595841\n",
       "2011Q2    1.586905\n",
       "2011Q3   -0.104851\n",
       "2011Q4   -1.514823\n",
       "Freq: Q-JAN, dtype: float64"
      ]
     },
     "execution_count": 125,
     "metadata": {},
     "output_type": "execute_result"
    }
   ],
   "source": [
    "import numpy as np\n",
    "ps = pd.Series(np.random.randn(len(idx)), idx)\n",
    "ps"
   ]
  },
  {
   "cell_type": "code",
   "execution_count": 126,
   "id": "4a615eb6-b9d4-4a04-ae14-f90ac2a774a8",
   "metadata": {},
   "outputs": [
    {
     "data": {
      "text/plain": [
       "PeriodIndex(['2010Q4', '2011Q1', '2011Q2', '2011Q3', '2011Q4'], dtype='period[Q-JAN]', freq='Q-JAN')"
      ]
     },
     "execution_count": 126,
     "metadata": {},
     "output_type": "execute_result"
    }
   ],
   "source": [
    "ps.index"
   ]
  },
  {
   "cell_type": "code",
   "execution_count": 127,
   "id": "e4ec2187-5417-4fe6-ae46-3dfd64f76eef",
   "metadata": {},
   "outputs": [
    {
     "data": {
      "text/plain": [
       "2011Q4   -1.514823\n",
       "Freq: Q-JAN, dtype: float64"
      ]
     },
     "execution_count": 127,
     "metadata": {},
     "output_type": "execute_result"
    }
   ],
   "source": [
    "ps['2011']"
   ]
  },
  {
   "cell_type": "code",
   "execution_count": 129,
   "id": "ab3da6fc-b3bd-4adf-8d0d-d702d7c7b316",
   "metadata": {},
   "outputs": [
    {
     "data": {
      "text/plain": [
       "DatetimeIndex(['2009-11-01', '2010-02-01', '2010-05-01', '2010-08-01',\n",
       "               '2010-11-01'],\n",
       "              dtype='datetime64[ns]', freq='QS-NOV')"
      ]
     },
     "execution_count": 129,
     "metadata": {},
     "output_type": "execute_result"
    }
   ],
   "source": [
    "pst = ps.to_timestamp()\n",
    "pst.index"
   ]
  },
  {
   "cell_type": "code",
   "execution_count": 130,
   "id": "dd570b7d-6170-4dd7-a353-ffee3f920a66",
   "metadata": {},
   "outputs": [
    {
     "data": {
      "text/plain": [
       "2009Q4    0.829026\n",
       "2010Q1   -0.595841\n",
       "2010Q2    1.586905\n",
       "2010Q3   -0.104851\n",
       "2010Q4   -1.514823\n",
       "Freq: Q-DEC, dtype: float64"
      ]
     },
     "execution_count": 130,
     "metadata": {},
     "output_type": "execute_result"
    }
   ],
   "source": [
    "pst.to_period()"
   ]
  },
  {
   "cell_type": "markdown",
   "id": "b4788d14-bd8b-4f27-b7e2-3210bde2aa68",
   "metadata": {},
   "source": [
    "## Walmart Data"
   ]
  },
  {
   "cell_type": "code",
   "execution_count": 131,
   "id": "30cbae62-0ab3-42e7-98d5-11ae76d2b8b4",
   "metadata": {},
   "outputs": [],
   "source": [
    "data_url = \"https://raw.githubusercontent.com/codebasics/py/master/pandas/18_ts_period/wmt.csv\""
   ]
  },
  {
   "cell_type": "code",
   "execution_count": 132,
   "id": "60c5ffc9-364e-4b81-9966-9ed12df0f472",
   "metadata": {},
   "outputs": [
    {
     "data": {
      "text/html": [
       "<div>\n",
       "<style scoped>\n",
       "    .dataframe tbody tr th:only-of-type {\n",
       "        vertical-align: middle;\n",
       "    }\n",
       "\n",
       "    .dataframe tbody tr th {\n",
       "        vertical-align: top;\n",
       "    }\n",
       "\n",
       "    .dataframe thead th {\n",
       "        text-align: right;\n",
       "    }\n",
       "</style>\n",
       "<table border=\"1\" class=\"dataframe\">\n",
       "  <thead>\n",
       "    <tr style=\"text-align: right;\">\n",
       "      <th></th>\n",
       "      <th>Line Item</th>\n",
       "      <th>2017Q1</th>\n",
       "      <th>2017Q2</th>\n",
       "      <th>2017Q3</th>\n",
       "      <th>2017Q4</th>\n",
       "      <th>2018Q1</th>\n",
       "    </tr>\n",
       "  </thead>\n",
       "  <tbody>\n",
       "    <tr>\n",
       "      <th>0</th>\n",
       "      <td>Revenue</td>\n",
       "      <td>115904</td>\n",
       "      <td>120854</td>\n",
       "      <td>118179</td>\n",
       "      <td>130936</td>\n",
       "      <td>117542</td>\n",
       "    </tr>\n",
       "    <tr>\n",
       "      <th>1</th>\n",
       "      <td>Expenses</td>\n",
       "      <td>86544</td>\n",
       "      <td>89485</td>\n",
       "      <td>87484</td>\n",
       "      <td>97743</td>\n",
       "      <td>87688</td>\n",
       "    </tr>\n",
       "    <tr>\n",
       "      <th>2</th>\n",
       "      <td>Profit</td>\n",
       "      <td>29360</td>\n",
       "      <td>31369</td>\n",
       "      <td>30695</td>\n",
       "      <td>33193</td>\n",
       "      <td>29854</td>\n",
       "    </tr>\n",
       "  </tbody>\n",
       "</table>\n",
       "</div>"
      ],
      "text/plain": [
       "  Line Item  2017Q1  2017Q2  2017Q3  2017Q4  2018Q1\n",
       "0   Revenue  115904  120854  118179  130936  117542\n",
       "1  Expenses   86544   89485   87484   97743   87688\n",
       "2    Profit   29360   31369   30695   33193   29854"
      ]
     },
     "execution_count": 132,
     "metadata": {},
     "output_type": "execute_result"
    }
   ],
   "source": [
    "df = pd.read_csv(data_url)\n",
    "df"
   ]
  },
  {
   "cell_type": "code",
   "execution_count": 133,
   "id": "a39c0295-6e28-48c0-8239-52d19e3229ed",
   "metadata": {},
   "outputs": [
    {
     "data": {
      "text/html": [
       "<div>\n",
       "<style scoped>\n",
       "    .dataframe tbody tr th:only-of-type {\n",
       "        vertical-align: middle;\n",
       "    }\n",
       "\n",
       "    .dataframe tbody tr th {\n",
       "        vertical-align: top;\n",
       "    }\n",
       "\n",
       "    .dataframe thead th {\n",
       "        text-align: right;\n",
       "    }\n",
       "</style>\n",
       "<table border=\"1\" class=\"dataframe\">\n",
       "  <thead>\n",
       "    <tr style=\"text-align: right;\">\n",
       "      <th></th>\n",
       "      <th>2017Q1</th>\n",
       "      <th>2017Q2</th>\n",
       "      <th>2017Q3</th>\n",
       "      <th>2017Q4</th>\n",
       "      <th>2018Q1</th>\n",
       "    </tr>\n",
       "    <tr>\n",
       "      <th>Line Item</th>\n",
       "      <th></th>\n",
       "      <th></th>\n",
       "      <th></th>\n",
       "      <th></th>\n",
       "      <th></th>\n",
       "    </tr>\n",
       "  </thead>\n",
       "  <tbody>\n",
       "    <tr>\n",
       "      <th>Revenue</th>\n",
       "      <td>115904</td>\n",
       "      <td>120854</td>\n",
       "      <td>118179</td>\n",
       "      <td>130936</td>\n",
       "      <td>117542</td>\n",
       "    </tr>\n",
       "    <tr>\n",
       "      <th>Expenses</th>\n",
       "      <td>86544</td>\n",
       "      <td>89485</td>\n",
       "      <td>87484</td>\n",
       "      <td>97743</td>\n",
       "      <td>87688</td>\n",
       "    </tr>\n",
       "    <tr>\n",
       "      <th>Profit</th>\n",
       "      <td>29360</td>\n",
       "      <td>31369</td>\n",
       "      <td>30695</td>\n",
       "      <td>33193</td>\n",
       "      <td>29854</td>\n",
       "    </tr>\n",
       "  </tbody>\n",
       "</table>\n",
       "</div>"
      ],
      "text/plain": [
       "           2017Q1  2017Q2  2017Q3  2017Q4  2018Q1\n",
       "Line Item                                        \n",
       "Revenue    115904  120854  118179  130936  117542\n",
       "Expenses    86544   89485   87484   97743   87688\n",
       "Profit      29360   31369   30695   33193   29854"
      ]
     },
     "execution_count": 133,
     "metadata": {},
     "output_type": "execute_result"
    }
   ],
   "source": [
    "df.set_index('Line Item', inplace=True)\n",
    "df"
   ]
  },
  {
   "cell_type": "code",
   "execution_count": 134,
   "id": "4bef73e8-bcf3-4887-8ba1-7ff04bf23e52",
   "metadata": {},
   "outputs": [
    {
     "data": {
      "text/html": [
       "<div>\n",
       "<style scoped>\n",
       "    .dataframe tbody tr th:only-of-type {\n",
       "        vertical-align: middle;\n",
       "    }\n",
       "\n",
       "    .dataframe tbody tr th {\n",
       "        vertical-align: top;\n",
       "    }\n",
       "\n",
       "    .dataframe thead th {\n",
       "        text-align: right;\n",
       "    }\n",
       "</style>\n",
       "<table border=\"1\" class=\"dataframe\">\n",
       "  <thead>\n",
       "    <tr style=\"text-align: right;\">\n",
       "      <th>Line Item</th>\n",
       "      <th>Revenue</th>\n",
       "      <th>Expenses</th>\n",
       "      <th>Profit</th>\n",
       "    </tr>\n",
       "  </thead>\n",
       "  <tbody>\n",
       "    <tr>\n",
       "      <th>2017Q1</th>\n",
       "      <td>115904</td>\n",
       "      <td>86544</td>\n",
       "      <td>29360</td>\n",
       "    </tr>\n",
       "    <tr>\n",
       "      <th>2017Q2</th>\n",
       "      <td>120854</td>\n",
       "      <td>89485</td>\n",
       "      <td>31369</td>\n",
       "    </tr>\n",
       "    <tr>\n",
       "      <th>2017Q3</th>\n",
       "      <td>118179</td>\n",
       "      <td>87484</td>\n",
       "      <td>30695</td>\n",
       "    </tr>\n",
       "    <tr>\n",
       "      <th>2017Q4</th>\n",
       "      <td>130936</td>\n",
       "      <td>97743</td>\n",
       "      <td>33193</td>\n",
       "    </tr>\n",
       "    <tr>\n",
       "      <th>2018Q1</th>\n",
       "      <td>117542</td>\n",
       "      <td>87688</td>\n",
       "      <td>29854</td>\n",
       "    </tr>\n",
       "  </tbody>\n",
       "</table>\n",
       "</div>"
      ],
      "text/plain": [
       "Line Item  Revenue  Expenses  Profit\n",
       "2017Q1      115904     86544   29360\n",
       "2017Q2      120854     89485   31369\n",
       "2017Q3      118179     87484   30695\n",
       "2017Q4      130936     97743   33193\n",
       "2018Q1      117542     87688   29854"
      ]
     },
     "execution_count": 134,
     "metadata": {},
     "output_type": "execute_result"
    }
   ],
   "source": [
    "df.T"
   ]
  },
  {
   "cell_type": "code",
   "execution_count": 137,
   "id": "4107c31a-0591-4954-8dbb-861fe064b461",
   "metadata": {},
   "outputs": [
    {
     "data": {
      "text/plain": [
       "PeriodIndex(['2017Q1', '2017Q2', '2017Q3', '2017Q4', '2018Q1'], dtype='period[Q-JAN]', freq='Q-JAN')"
      ]
     },
     "execution_count": 137,
     "metadata": {},
     "output_type": "execute_result"
    }
   ],
   "source": [
    "df2 = df.T.copy()\n",
    "df2.index = pd.PeriodIndex(df2.index, freq='Q-JAN')\n",
    "df2.index"
   ]
  },
  {
   "cell_type": "code",
   "execution_count": 141,
   "id": "18dddecc-e81d-4bf2-8ab1-764b84a3a4c2",
   "metadata": {},
   "outputs": [
    {
     "data": {
      "text/html": [
       "<div>\n",
       "<style scoped>\n",
       "    .dataframe tbody tr th:only-of-type {\n",
       "        vertical-align: middle;\n",
       "    }\n",
       "\n",
       "    .dataframe tbody tr th {\n",
       "        vertical-align: top;\n",
       "    }\n",
       "\n",
       "    .dataframe thead th {\n",
       "        text-align: right;\n",
       "    }\n",
       "</style>\n",
       "<table border=\"1\" class=\"dataframe\">\n",
       "  <thead>\n",
       "    <tr style=\"text-align: right;\">\n",
       "      <th>Line Item</th>\n",
       "      <th>Revenue</th>\n",
       "      <th>Expenses</th>\n",
       "      <th>Profit</th>\n",
       "      <th>start date</th>\n",
       "      <th>end date</th>\n",
       "    </tr>\n",
       "  </thead>\n",
       "  <tbody>\n",
       "    <tr>\n",
       "      <th>2017Q1</th>\n",
       "      <td>115904</td>\n",
       "      <td>86544</td>\n",
       "      <td>29360</td>\n",
       "      <td>2016-02-01</td>\n",
       "      <td>2016-04-30 23:59:59.999999999</td>\n",
       "    </tr>\n",
       "    <tr>\n",
       "      <th>2017Q2</th>\n",
       "      <td>120854</td>\n",
       "      <td>89485</td>\n",
       "      <td>31369</td>\n",
       "      <td>2016-05-01</td>\n",
       "      <td>2016-07-31 23:59:59.999999999</td>\n",
       "    </tr>\n",
       "    <tr>\n",
       "      <th>2017Q3</th>\n",
       "      <td>118179</td>\n",
       "      <td>87484</td>\n",
       "      <td>30695</td>\n",
       "      <td>2016-08-01</td>\n",
       "      <td>2016-10-31 23:59:59.999999999</td>\n",
       "    </tr>\n",
       "    <tr>\n",
       "      <th>2017Q4</th>\n",
       "      <td>130936</td>\n",
       "      <td>97743</td>\n",
       "      <td>33193</td>\n",
       "      <td>2016-11-01</td>\n",
       "      <td>2017-01-31 23:59:59.999999999</td>\n",
       "    </tr>\n",
       "    <tr>\n",
       "      <th>2018Q1</th>\n",
       "      <td>117542</td>\n",
       "      <td>87688</td>\n",
       "      <td>29854</td>\n",
       "      <td>2017-02-01</td>\n",
       "      <td>2017-04-30 23:59:59.999999999</td>\n",
       "    </tr>\n",
       "  </tbody>\n",
       "</table>\n",
       "</div>"
      ],
      "text/plain": [
       "Line Item  Revenue  Expenses  Profit start date                      end date\n",
       "2017Q1      115904     86544   29360 2016-02-01 2016-04-30 23:59:59.999999999\n",
       "2017Q2      120854     89485   31369 2016-05-01 2016-07-31 23:59:59.999999999\n",
       "2017Q3      118179     87484   30695 2016-08-01 2016-10-31 23:59:59.999999999\n",
       "2017Q4      130936     97743   33193 2016-11-01 2017-01-31 23:59:59.999999999\n",
       "2018Q1      117542     87688   29854 2017-02-01 2017-04-30 23:59:59.999999999"
      ]
     },
     "execution_count": 141,
     "metadata": {},
     "output_type": "execute_result"
    }
   ],
   "source": [
    "df2['start date'] = df2.index.map(lambda x: x.start_time)\n",
    "df2['end date'] = df2.index.map(lambda x: x.end_time)\n",
    "df2"
   ]
  },
  {
   "cell_type": "markdown",
   "id": "d92d3832-0658-4d4f-ae39-3c7107a7b6fb",
   "metadata": {},
   "source": [
    "# Timezones"
   ]
  },
  {
   "cell_type": "code",
   "execution_count": 143,
   "id": "818c35e1-c7a6-4f44-a266-10d7c602486c",
   "metadata": {},
   "outputs": [
    {
     "data": {
      "text/html": [
       "<div>\n",
       "<style scoped>\n",
       "    .dataframe tbody tr th:only-of-type {\n",
       "        vertical-align: middle;\n",
       "    }\n",
       "\n",
       "    .dataframe tbody tr th {\n",
       "        vertical-align: top;\n",
       "    }\n",
       "\n",
       "    .dataframe thead th {\n",
       "        text-align: right;\n",
       "    }\n",
       "</style>\n",
       "<table border=\"1\" class=\"dataframe\">\n",
       "  <thead>\n",
       "    <tr style=\"text-align: right;\">\n",
       "      <th></th>\n",
       "      <th>Price</th>\n",
       "    </tr>\n",
       "    <tr>\n",
       "      <th>Date Time</th>\n",
       "      <th></th>\n",
       "    </tr>\n",
       "  </thead>\n",
       "  <tbody>\n",
       "    <tr>\n",
       "      <th>2017-08-17 09:00:00</th>\n",
       "      <td>72.38</td>\n",
       "    </tr>\n",
       "    <tr>\n",
       "      <th>2017-08-17 09:15:00</th>\n",
       "      <td>71.00</td>\n",
       "    </tr>\n",
       "    <tr>\n",
       "      <th>2017-08-17 09:30:00</th>\n",
       "      <td>71.67</td>\n",
       "    </tr>\n",
       "    <tr>\n",
       "      <th>2017-08-17 10:00:00</th>\n",
       "      <td>72.80</td>\n",
       "    </tr>\n",
       "    <tr>\n",
       "      <th>2017-08-17 10:30:00</th>\n",
       "      <td>73.00</td>\n",
       "    </tr>\n",
       "    <tr>\n",
       "      <th>2017-08-17 11:00:00</th>\n",
       "      <td>72.50</td>\n",
       "    </tr>\n",
       "  </tbody>\n",
       "</table>\n",
       "</div>"
      ],
      "text/plain": [
       "                     Price\n",
       "Date Time                 \n",
       "2017-08-17 09:00:00  72.38\n",
       "2017-08-17 09:15:00  71.00\n",
       "2017-08-17 09:30:00  71.67\n",
       "2017-08-17 10:00:00  72.80\n",
       "2017-08-17 10:30:00  73.00\n",
       "2017-08-17 11:00:00  72.50"
      ]
     },
     "execution_count": 143,
     "metadata": {},
     "output_type": "execute_result"
    }
   ],
   "source": [
    "data_url = \"https://raw.githubusercontent.com/codebasics/py/master/pandas/19_ts_timezone/msft.csv\"\n",
    "df = pd.read_csv(data_url, header=1, index_col='Date Time',parse_dates=True)\n",
    "df"
   ]
  },
  {
   "cell_type": "code",
   "execution_count": 144,
   "id": "8b41b189-5675-4a92-b59a-98fb3b5c2553",
   "metadata": {},
   "outputs": [
    {
     "data": {
      "text/plain": [
       "DatetimeIndex(['2017-08-17 09:00:00', '2017-08-17 09:15:00',\n",
       "               '2017-08-17 09:30:00', '2017-08-17 10:00:00',\n",
       "               '2017-08-17 10:30:00', '2017-08-17 11:00:00'],\n",
       "              dtype='datetime64[ns]', name='Date Time', freq=None)"
      ]
     },
     "execution_count": 144,
     "metadata": {},
     "output_type": "execute_result"
    }
   ],
   "source": [
    "df.index"
   ]
  },
  {
   "cell_type": "code",
   "execution_count": 146,
   "id": "abc636e3-6926-499f-892b-214053742b31",
   "metadata": {},
   "outputs": [
    {
     "data": {
      "text/html": [
       "<div>\n",
       "<style scoped>\n",
       "    .dataframe tbody tr th:only-of-type {\n",
       "        vertical-align: middle;\n",
       "    }\n",
       "\n",
       "    .dataframe tbody tr th {\n",
       "        vertical-align: top;\n",
       "    }\n",
       "\n",
       "    .dataframe thead th {\n",
       "        text-align: right;\n",
       "    }\n",
       "</style>\n",
       "<table border=\"1\" class=\"dataframe\">\n",
       "  <thead>\n",
       "    <tr style=\"text-align: right;\">\n",
       "      <th></th>\n",
       "      <th>Price</th>\n",
       "    </tr>\n",
       "    <tr>\n",
       "      <th>Date Time</th>\n",
       "      <th></th>\n",
       "    </tr>\n",
       "  </thead>\n",
       "  <tbody>\n",
       "    <tr>\n",
       "      <th>2017-08-17 09:00:00-04:00</th>\n",
       "      <td>72.38</td>\n",
       "    </tr>\n",
       "    <tr>\n",
       "      <th>2017-08-17 09:15:00-04:00</th>\n",
       "      <td>71.00</td>\n",
       "    </tr>\n",
       "    <tr>\n",
       "      <th>2017-08-17 09:30:00-04:00</th>\n",
       "      <td>71.67</td>\n",
       "    </tr>\n",
       "    <tr>\n",
       "      <th>2017-08-17 10:00:00-04:00</th>\n",
       "      <td>72.80</td>\n",
       "    </tr>\n",
       "    <tr>\n",
       "      <th>2017-08-17 10:30:00-04:00</th>\n",
       "      <td>73.00</td>\n",
       "    </tr>\n",
       "    <tr>\n",
       "      <th>2017-08-17 11:00:00-04:00</th>\n",
       "      <td>72.50</td>\n",
       "    </tr>\n",
       "  </tbody>\n",
       "</table>\n",
       "</div>"
      ],
      "text/plain": [
       "                           Price\n",
       "Date Time                       \n",
       "2017-08-17 09:00:00-04:00  72.38\n",
       "2017-08-17 09:15:00-04:00  71.00\n",
       "2017-08-17 09:30:00-04:00  71.67\n",
       "2017-08-17 10:00:00-04:00  72.80\n",
       "2017-08-17 10:30:00-04:00  73.00\n",
       "2017-08-17 11:00:00-04:00  72.50"
      ]
     },
     "execution_count": 146,
     "metadata": {},
     "output_type": "execute_result"
    }
   ],
   "source": [
    "df.tz_localize(tz='US/Eastern')"
   ]
  },
  {
   "cell_type": "code",
   "execution_count": 147,
   "id": "eeb51d83-c1fa-4afb-b8b1-4021aa84d3a3",
   "metadata": {},
   "outputs": [
    {
     "data": {
      "text/plain": [
       "DatetimeIndex(['2017-08-17 09:00:00-04:00', '2017-08-17 09:15:00-04:00',\n",
       "               '2017-08-17 09:30:00-04:00', '2017-08-17 10:00:00-04:00',\n",
       "               '2017-08-17 10:30:00-04:00', '2017-08-17 11:00:00-04:00'],\n",
       "              dtype='datetime64[ns, US/Eastern]', name='Date Time', freq=None)"
      ]
     },
     "execution_count": 147,
     "metadata": {},
     "output_type": "execute_result"
    }
   ],
   "source": [
    "df = df.tz_localize(tz='US/Eastern')\n",
    "df.index"
   ]
  },
  {
   "cell_type": "code",
   "execution_count": 148,
   "id": "8f2ec963-eabd-4542-9884-6bd0634d24a7",
   "metadata": {},
   "outputs": [
    {
     "data": {
      "text/plain": [
       "DatetimeIndex(['2017-08-17 15:00:00+02:00', '2017-08-17 15:15:00+02:00',\n",
       "               '2017-08-17 15:30:00+02:00', '2017-08-17 16:00:00+02:00',\n",
       "               '2017-08-17 16:30:00+02:00', '2017-08-17 17:00:00+02:00'],\n",
       "              dtype='datetime64[ns, Europe/Berlin]', name='Date Time', freq=None)"
      ]
     },
     "execution_count": 148,
     "metadata": {},
     "output_type": "execute_result"
    }
   ],
   "source": [
    "df = df.tz_convert(tz='Europe/Berlin')\n",
    "df.index"
   ]
  },
  {
   "cell_type": "code",
   "execution_count": 149,
   "id": "66e195a8-692c-488a-a6b9-da69f183b32b",
   "metadata": {},
   "outputs": [
    {
     "data": {
      "text/plain": [
       "['Africa/Abidjan',\n",
       " 'Africa/Accra',\n",
       " 'Africa/Addis_Ababa',\n",
       " 'Africa/Algiers',\n",
       " 'Africa/Asmara',\n",
       " 'Africa/Asmera',\n",
       " 'Africa/Bamako',\n",
       " 'Africa/Bangui',\n",
       " 'Africa/Banjul',\n",
       " 'Africa/Bissau',\n",
       " 'Africa/Blantyre',\n",
       " 'Africa/Brazzaville',\n",
       " 'Africa/Bujumbura',\n",
       " 'Africa/Cairo',\n",
       " 'Africa/Casablanca',\n",
       " 'Africa/Ceuta',\n",
       " 'Africa/Conakry',\n",
       " 'Africa/Dakar',\n",
       " 'Africa/Dar_es_Salaam',\n",
       " 'Africa/Djibouti',\n",
       " 'Africa/Douala',\n",
       " 'Africa/El_Aaiun',\n",
       " 'Africa/Freetown',\n",
       " 'Africa/Gaborone',\n",
       " 'Africa/Harare',\n",
       " 'Africa/Johannesburg',\n",
       " 'Africa/Juba',\n",
       " 'Africa/Kampala',\n",
       " 'Africa/Khartoum',\n",
       " 'Africa/Kigali',\n",
       " 'Africa/Kinshasa',\n",
       " 'Africa/Lagos',\n",
       " 'Africa/Libreville',\n",
       " 'Africa/Lome',\n",
       " 'Africa/Luanda',\n",
       " 'Africa/Lubumbashi',\n",
       " 'Africa/Lusaka',\n",
       " 'Africa/Malabo',\n",
       " 'Africa/Maputo',\n",
       " 'Africa/Maseru',\n",
       " 'Africa/Mbabane',\n",
       " 'Africa/Mogadishu',\n",
       " 'Africa/Monrovia',\n",
       " 'Africa/Nairobi',\n",
       " 'Africa/Ndjamena',\n",
       " 'Africa/Niamey',\n",
       " 'Africa/Nouakchott',\n",
       " 'Africa/Ouagadougou',\n",
       " 'Africa/Porto-Novo',\n",
       " 'Africa/Sao_Tome',\n",
       " 'Africa/Timbuktu',\n",
       " 'Africa/Tripoli',\n",
       " 'Africa/Tunis',\n",
       " 'Africa/Windhoek',\n",
       " 'America/Adak',\n",
       " 'America/Anchorage',\n",
       " 'America/Anguilla',\n",
       " 'America/Antigua',\n",
       " 'America/Araguaina',\n",
       " 'America/Argentina/Buenos_Aires',\n",
       " 'America/Argentina/Catamarca',\n",
       " 'America/Argentina/ComodRivadavia',\n",
       " 'America/Argentina/Cordoba',\n",
       " 'America/Argentina/Jujuy',\n",
       " 'America/Argentina/La_Rioja',\n",
       " 'America/Argentina/Mendoza',\n",
       " 'America/Argentina/Rio_Gallegos',\n",
       " 'America/Argentina/Salta',\n",
       " 'America/Argentina/San_Juan',\n",
       " 'America/Argentina/San_Luis',\n",
       " 'America/Argentina/Tucuman',\n",
       " 'America/Argentina/Ushuaia',\n",
       " 'America/Aruba',\n",
       " 'America/Asuncion',\n",
       " 'America/Atikokan',\n",
       " 'America/Atka',\n",
       " 'America/Bahia',\n",
       " 'America/Bahia_Banderas',\n",
       " 'America/Barbados',\n",
       " 'America/Belem',\n",
       " 'America/Belize',\n",
       " 'America/Blanc-Sablon',\n",
       " 'America/Boa_Vista',\n",
       " 'America/Bogota',\n",
       " 'America/Boise',\n",
       " 'America/Buenos_Aires',\n",
       " 'America/Cambridge_Bay',\n",
       " 'America/Campo_Grande',\n",
       " 'America/Cancun',\n",
       " 'America/Caracas',\n",
       " 'America/Catamarca',\n",
       " 'America/Cayenne',\n",
       " 'America/Cayman',\n",
       " 'America/Chicago',\n",
       " 'America/Chihuahua',\n",
       " 'America/Coral_Harbour',\n",
       " 'America/Cordoba',\n",
       " 'America/Costa_Rica',\n",
       " 'America/Creston',\n",
       " 'America/Cuiaba',\n",
       " 'America/Curacao',\n",
       " 'America/Danmarkshavn',\n",
       " 'America/Dawson',\n",
       " 'America/Dawson_Creek',\n",
       " 'America/Denver',\n",
       " 'America/Detroit',\n",
       " 'America/Dominica',\n",
       " 'America/Edmonton',\n",
       " 'America/Eirunepe',\n",
       " 'America/El_Salvador',\n",
       " 'America/Ensenada',\n",
       " 'America/Fort_Nelson',\n",
       " 'America/Fort_Wayne',\n",
       " 'America/Fortaleza',\n",
       " 'America/Glace_Bay',\n",
       " 'America/Godthab',\n",
       " 'America/Goose_Bay',\n",
       " 'America/Grand_Turk',\n",
       " 'America/Grenada',\n",
       " 'America/Guadeloupe',\n",
       " 'America/Guatemala',\n",
       " 'America/Guayaquil',\n",
       " 'America/Guyana',\n",
       " 'America/Halifax',\n",
       " 'America/Havana',\n",
       " 'America/Hermosillo',\n",
       " 'America/Indiana/Indianapolis',\n",
       " 'America/Indiana/Knox',\n",
       " 'America/Indiana/Marengo',\n",
       " 'America/Indiana/Petersburg',\n",
       " 'America/Indiana/Tell_City',\n",
       " 'America/Indiana/Vevay',\n",
       " 'America/Indiana/Vincennes',\n",
       " 'America/Indiana/Winamac',\n",
       " 'America/Indianapolis',\n",
       " 'America/Inuvik',\n",
       " 'America/Iqaluit',\n",
       " 'America/Jamaica',\n",
       " 'America/Jujuy',\n",
       " 'America/Juneau',\n",
       " 'America/Kentucky/Louisville',\n",
       " 'America/Kentucky/Monticello',\n",
       " 'America/Knox_IN',\n",
       " 'America/Kralendijk',\n",
       " 'America/La_Paz',\n",
       " 'America/Lima',\n",
       " 'America/Los_Angeles',\n",
       " 'America/Louisville',\n",
       " 'America/Lower_Princes',\n",
       " 'America/Maceio',\n",
       " 'America/Managua',\n",
       " 'America/Manaus',\n",
       " 'America/Marigot',\n",
       " 'America/Martinique',\n",
       " 'America/Matamoros',\n",
       " 'America/Mazatlan',\n",
       " 'America/Mendoza',\n",
       " 'America/Menominee',\n",
       " 'America/Merida',\n",
       " 'America/Metlakatla',\n",
       " 'America/Mexico_City',\n",
       " 'America/Miquelon',\n",
       " 'America/Moncton',\n",
       " 'America/Monterrey',\n",
       " 'America/Montevideo',\n",
       " 'America/Montreal',\n",
       " 'America/Montserrat',\n",
       " 'America/Nassau',\n",
       " 'America/New_York',\n",
       " 'America/Nipigon',\n",
       " 'America/Nome',\n",
       " 'America/Noronha',\n",
       " 'America/North_Dakota/Beulah',\n",
       " 'America/North_Dakota/Center',\n",
       " 'America/North_Dakota/New_Salem',\n",
       " 'America/Nuuk',\n",
       " 'America/Ojinaga',\n",
       " 'America/Panama',\n",
       " 'America/Pangnirtung',\n",
       " 'America/Paramaribo',\n",
       " 'America/Phoenix',\n",
       " 'America/Port-au-Prince',\n",
       " 'America/Port_of_Spain',\n",
       " 'America/Porto_Acre',\n",
       " 'America/Porto_Velho',\n",
       " 'America/Puerto_Rico',\n",
       " 'America/Punta_Arenas',\n",
       " 'America/Rainy_River',\n",
       " 'America/Rankin_Inlet',\n",
       " 'America/Recife',\n",
       " 'America/Regina',\n",
       " 'America/Resolute',\n",
       " 'America/Rio_Branco',\n",
       " 'America/Rosario',\n",
       " 'America/Santa_Isabel',\n",
       " 'America/Santarem',\n",
       " 'America/Santiago',\n",
       " 'America/Santo_Domingo',\n",
       " 'America/Sao_Paulo',\n",
       " 'America/Scoresbysund',\n",
       " 'America/Shiprock',\n",
       " 'America/Sitka',\n",
       " 'America/St_Barthelemy',\n",
       " 'America/St_Johns',\n",
       " 'America/St_Kitts',\n",
       " 'America/St_Lucia',\n",
       " 'America/St_Thomas',\n",
       " 'America/St_Vincent',\n",
       " 'America/Swift_Current',\n",
       " 'America/Tegucigalpa',\n",
       " 'America/Thule',\n",
       " 'America/Thunder_Bay',\n",
       " 'America/Tijuana',\n",
       " 'America/Toronto',\n",
       " 'America/Tortola',\n",
       " 'America/Vancouver',\n",
       " 'America/Virgin',\n",
       " 'America/Whitehorse',\n",
       " 'America/Winnipeg',\n",
       " 'America/Yakutat',\n",
       " 'America/Yellowknife',\n",
       " 'Antarctica/Casey',\n",
       " 'Antarctica/Davis',\n",
       " 'Antarctica/DumontDUrville',\n",
       " 'Antarctica/Macquarie',\n",
       " 'Antarctica/Mawson',\n",
       " 'Antarctica/McMurdo',\n",
       " 'Antarctica/Palmer',\n",
       " 'Antarctica/Rothera',\n",
       " 'Antarctica/South_Pole',\n",
       " 'Antarctica/Syowa',\n",
       " 'Antarctica/Troll',\n",
       " 'Antarctica/Vostok',\n",
       " 'Arctic/Longyearbyen',\n",
       " 'Asia/Aden',\n",
       " 'Asia/Almaty',\n",
       " 'Asia/Amman',\n",
       " 'Asia/Anadyr',\n",
       " 'Asia/Aqtau',\n",
       " 'Asia/Aqtobe',\n",
       " 'Asia/Ashgabat',\n",
       " 'Asia/Ashkhabad',\n",
       " 'Asia/Atyrau',\n",
       " 'Asia/Baghdad',\n",
       " 'Asia/Bahrain',\n",
       " 'Asia/Baku',\n",
       " 'Asia/Bangkok',\n",
       " 'Asia/Barnaul',\n",
       " 'Asia/Beirut',\n",
       " 'Asia/Bishkek',\n",
       " 'Asia/Brunei',\n",
       " 'Asia/Calcutta',\n",
       " 'Asia/Chita',\n",
       " 'Asia/Choibalsan',\n",
       " 'Asia/Chongqing',\n",
       " 'Asia/Chungking',\n",
       " 'Asia/Colombo',\n",
       " 'Asia/Dacca',\n",
       " 'Asia/Damascus',\n",
       " 'Asia/Dhaka',\n",
       " 'Asia/Dili',\n",
       " 'Asia/Dubai',\n",
       " 'Asia/Dushanbe',\n",
       " 'Asia/Famagusta',\n",
       " 'Asia/Gaza',\n",
       " 'Asia/Harbin',\n",
       " 'Asia/Hebron',\n",
       " 'Asia/Ho_Chi_Minh',\n",
       " 'Asia/Hong_Kong',\n",
       " 'Asia/Hovd',\n",
       " 'Asia/Irkutsk',\n",
       " 'Asia/Istanbul',\n",
       " 'Asia/Jakarta',\n",
       " 'Asia/Jayapura',\n",
       " 'Asia/Jerusalem',\n",
       " 'Asia/Kabul',\n",
       " 'Asia/Kamchatka',\n",
       " 'Asia/Karachi',\n",
       " 'Asia/Kashgar',\n",
       " 'Asia/Kathmandu',\n",
       " 'Asia/Katmandu',\n",
       " 'Asia/Khandyga',\n",
       " 'Asia/Kolkata',\n",
       " 'Asia/Krasnoyarsk',\n",
       " 'Asia/Kuala_Lumpur',\n",
       " 'Asia/Kuching',\n",
       " 'Asia/Kuwait',\n",
       " 'Asia/Macao',\n",
       " 'Asia/Macau',\n",
       " 'Asia/Magadan',\n",
       " 'Asia/Makassar',\n",
       " 'Asia/Manila',\n",
       " 'Asia/Muscat',\n",
       " 'Asia/Nicosia',\n",
       " 'Asia/Novokuznetsk',\n",
       " 'Asia/Novosibirsk',\n",
       " 'Asia/Omsk',\n",
       " 'Asia/Oral',\n",
       " 'Asia/Phnom_Penh',\n",
       " 'Asia/Pontianak',\n",
       " 'Asia/Pyongyang',\n",
       " 'Asia/Qatar',\n",
       " 'Asia/Qostanay',\n",
       " 'Asia/Qyzylorda',\n",
       " 'Asia/Rangoon',\n",
       " 'Asia/Riyadh',\n",
       " 'Asia/Saigon',\n",
       " 'Asia/Sakhalin',\n",
       " 'Asia/Samarkand',\n",
       " 'Asia/Seoul',\n",
       " 'Asia/Shanghai',\n",
       " 'Asia/Singapore',\n",
       " 'Asia/Srednekolymsk',\n",
       " 'Asia/Taipei',\n",
       " 'Asia/Tashkent',\n",
       " 'Asia/Tbilisi',\n",
       " 'Asia/Tehran',\n",
       " 'Asia/Tel_Aviv',\n",
       " 'Asia/Thimbu',\n",
       " 'Asia/Thimphu',\n",
       " 'Asia/Tokyo',\n",
       " 'Asia/Tomsk',\n",
       " 'Asia/Ujung_Pandang',\n",
       " 'Asia/Ulaanbaatar',\n",
       " 'Asia/Ulan_Bator',\n",
       " 'Asia/Urumqi',\n",
       " 'Asia/Ust-Nera',\n",
       " 'Asia/Vientiane',\n",
       " 'Asia/Vladivostok',\n",
       " 'Asia/Yakutsk',\n",
       " 'Asia/Yangon',\n",
       " 'Asia/Yekaterinburg',\n",
       " 'Asia/Yerevan',\n",
       " 'Atlantic/Azores',\n",
       " 'Atlantic/Bermuda',\n",
       " 'Atlantic/Canary',\n",
       " 'Atlantic/Cape_Verde',\n",
       " 'Atlantic/Faeroe',\n",
       " 'Atlantic/Faroe',\n",
       " 'Atlantic/Jan_Mayen',\n",
       " 'Atlantic/Madeira',\n",
       " 'Atlantic/Reykjavik',\n",
       " 'Atlantic/South_Georgia',\n",
       " 'Atlantic/St_Helena',\n",
       " 'Atlantic/Stanley',\n",
       " 'Australia/ACT',\n",
       " 'Australia/Adelaide',\n",
       " 'Australia/Brisbane',\n",
       " 'Australia/Broken_Hill',\n",
       " 'Australia/Canberra',\n",
       " 'Australia/Currie',\n",
       " 'Australia/Darwin',\n",
       " 'Australia/Eucla',\n",
       " 'Australia/Hobart',\n",
       " 'Australia/LHI',\n",
       " 'Australia/Lindeman',\n",
       " 'Australia/Lord_Howe',\n",
       " 'Australia/Melbourne',\n",
       " 'Australia/NSW',\n",
       " 'Australia/North',\n",
       " 'Australia/Perth',\n",
       " 'Australia/Queensland',\n",
       " 'Australia/South',\n",
       " 'Australia/Sydney',\n",
       " 'Australia/Tasmania',\n",
       " 'Australia/Victoria',\n",
       " 'Australia/West',\n",
       " 'Australia/Yancowinna',\n",
       " 'Brazil/Acre',\n",
       " 'Brazil/DeNoronha',\n",
       " 'Brazil/East',\n",
       " 'Brazil/West',\n",
       " 'CET',\n",
       " 'CST6CDT',\n",
       " 'Canada/Atlantic',\n",
       " 'Canada/Central',\n",
       " 'Canada/Eastern',\n",
       " 'Canada/Mountain',\n",
       " 'Canada/Newfoundland',\n",
       " 'Canada/Pacific',\n",
       " 'Canada/Saskatchewan',\n",
       " 'Canada/Yukon',\n",
       " 'Chile/Continental',\n",
       " 'Chile/EasterIsland',\n",
       " 'Cuba',\n",
       " 'EET',\n",
       " 'EST',\n",
       " 'EST5EDT',\n",
       " 'Egypt',\n",
       " 'Eire',\n",
       " 'Etc/GMT',\n",
       " 'Etc/GMT+0',\n",
       " 'Etc/GMT+1',\n",
       " 'Etc/GMT+10',\n",
       " 'Etc/GMT+11',\n",
       " 'Etc/GMT+12',\n",
       " 'Etc/GMT+2',\n",
       " 'Etc/GMT+3',\n",
       " 'Etc/GMT+4',\n",
       " 'Etc/GMT+5',\n",
       " 'Etc/GMT+6',\n",
       " 'Etc/GMT+7',\n",
       " 'Etc/GMT+8',\n",
       " 'Etc/GMT+9',\n",
       " 'Etc/GMT-0',\n",
       " 'Etc/GMT-1',\n",
       " 'Etc/GMT-10',\n",
       " 'Etc/GMT-11',\n",
       " 'Etc/GMT-12',\n",
       " 'Etc/GMT-13',\n",
       " 'Etc/GMT-14',\n",
       " 'Etc/GMT-2',\n",
       " 'Etc/GMT-3',\n",
       " 'Etc/GMT-4',\n",
       " 'Etc/GMT-5',\n",
       " 'Etc/GMT-6',\n",
       " 'Etc/GMT-7',\n",
       " 'Etc/GMT-8',\n",
       " 'Etc/GMT-9',\n",
       " 'Etc/GMT0',\n",
       " 'Etc/Greenwich',\n",
       " 'Etc/UCT',\n",
       " 'Etc/UTC',\n",
       " 'Etc/Universal',\n",
       " 'Etc/Zulu',\n",
       " 'Europe/Amsterdam',\n",
       " 'Europe/Andorra',\n",
       " 'Europe/Astrakhan',\n",
       " 'Europe/Athens',\n",
       " 'Europe/Belfast',\n",
       " 'Europe/Belgrade',\n",
       " 'Europe/Berlin',\n",
       " 'Europe/Bratislava',\n",
       " 'Europe/Brussels',\n",
       " 'Europe/Bucharest',\n",
       " 'Europe/Budapest',\n",
       " 'Europe/Busingen',\n",
       " 'Europe/Chisinau',\n",
       " 'Europe/Copenhagen',\n",
       " 'Europe/Dublin',\n",
       " 'Europe/Gibraltar',\n",
       " 'Europe/Guernsey',\n",
       " 'Europe/Helsinki',\n",
       " 'Europe/Isle_of_Man',\n",
       " 'Europe/Istanbul',\n",
       " 'Europe/Jersey',\n",
       " 'Europe/Kaliningrad',\n",
       " 'Europe/Kiev',\n",
       " 'Europe/Kirov',\n",
       " 'Europe/Lisbon',\n",
       " 'Europe/Ljubljana',\n",
       " 'Europe/London',\n",
       " 'Europe/Luxembourg',\n",
       " 'Europe/Madrid',\n",
       " 'Europe/Malta',\n",
       " 'Europe/Mariehamn',\n",
       " 'Europe/Minsk',\n",
       " 'Europe/Monaco',\n",
       " 'Europe/Moscow',\n",
       " 'Europe/Nicosia',\n",
       " 'Europe/Oslo',\n",
       " 'Europe/Paris',\n",
       " 'Europe/Podgorica',\n",
       " 'Europe/Prague',\n",
       " 'Europe/Riga',\n",
       " 'Europe/Rome',\n",
       " 'Europe/Samara',\n",
       " 'Europe/San_Marino',\n",
       " 'Europe/Sarajevo',\n",
       " 'Europe/Saratov',\n",
       " 'Europe/Simferopol',\n",
       " 'Europe/Skopje',\n",
       " 'Europe/Sofia',\n",
       " 'Europe/Stockholm',\n",
       " 'Europe/Tallinn',\n",
       " 'Europe/Tirane',\n",
       " 'Europe/Tiraspol',\n",
       " 'Europe/Ulyanovsk',\n",
       " 'Europe/Uzhgorod',\n",
       " 'Europe/Vaduz',\n",
       " 'Europe/Vatican',\n",
       " 'Europe/Vienna',\n",
       " 'Europe/Vilnius',\n",
       " 'Europe/Volgograd',\n",
       " 'Europe/Warsaw',\n",
       " 'Europe/Zagreb',\n",
       " 'Europe/Zaporozhye',\n",
       " 'Europe/Zurich',\n",
       " 'GB',\n",
       " 'GB-Eire',\n",
       " 'GMT',\n",
       " 'GMT+0',\n",
       " 'GMT-0',\n",
       " 'GMT0',\n",
       " 'Greenwich',\n",
       " 'HST',\n",
       " 'Hongkong',\n",
       " 'Iceland',\n",
       " 'Indian/Antananarivo',\n",
       " 'Indian/Chagos',\n",
       " 'Indian/Christmas',\n",
       " 'Indian/Cocos',\n",
       " 'Indian/Comoro',\n",
       " 'Indian/Kerguelen',\n",
       " 'Indian/Mahe',\n",
       " 'Indian/Maldives',\n",
       " 'Indian/Mauritius',\n",
       " 'Indian/Mayotte',\n",
       " 'Indian/Reunion',\n",
       " 'Iran',\n",
       " 'Israel',\n",
       " 'Jamaica',\n",
       " 'Japan',\n",
       " 'Kwajalein',\n",
       " 'Libya',\n",
       " 'MET',\n",
       " 'MST',\n",
       " 'MST7MDT',\n",
       " 'Mexico/BajaNorte',\n",
       " 'Mexico/BajaSur',\n",
       " 'Mexico/General',\n",
       " 'NZ',\n",
       " 'NZ-CHAT',\n",
       " 'Navajo',\n",
       " 'PRC',\n",
       " 'PST8PDT',\n",
       " 'Pacific/Apia',\n",
       " 'Pacific/Auckland',\n",
       " 'Pacific/Bougainville',\n",
       " 'Pacific/Chatham',\n",
       " 'Pacific/Chuuk',\n",
       " 'Pacific/Easter',\n",
       " 'Pacific/Efate',\n",
       " 'Pacific/Enderbury',\n",
       " 'Pacific/Fakaofo',\n",
       " 'Pacific/Fiji',\n",
       " 'Pacific/Funafuti',\n",
       " 'Pacific/Galapagos',\n",
       " 'Pacific/Gambier',\n",
       " 'Pacific/Guadalcanal',\n",
       " 'Pacific/Guam',\n",
       " 'Pacific/Honolulu',\n",
       " 'Pacific/Johnston',\n",
       " 'Pacific/Kiritimati',\n",
       " 'Pacific/Kosrae',\n",
       " 'Pacific/Kwajalein',\n",
       " 'Pacific/Majuro',\n",
       " 'Pacific/Marquesas',\n",
       " 'Pacific/Midway',\n",
       " 'Pacific/Nauru',\n",
       " 'Pacific/Niue',\n",
       " 'Pacific/Norfolk',\n",
       " 'Pacific/Noumea',\n",
       " 'Pacific/Pago_Pago',\n",
       " 'Pacific/Palau',\n",
       " 'Pacific/Pitcairn',\n",
       " 'Pacific/Pohnpei',\n",
       " 'Pacific/Ponape',\n",
       " 'Pacific/Port_Moresby',\n",
       " 'Pacific/Rarotonga',\n",
       " 'Pacific/Saipan',\n",
       " 'Pacific/Samoa',\n",
       " 'Pacific/Tahiti',\n",
       " 'Pacific/Tarawa',\n",
       " 'Pacific/Tongatapu',\n",
       " 'Pacific/Truk',\n",
       " 'Pacific/Wake',\n",
       " 'Pacific/Wallis',\n",
       " 'Pacific/Yap',\n",
       " 'Poland',\n",
       " 'Portugal',\n",
       " 'ROC',\n",
       " 'ROK',\n",
       " 'Singapore',\n",
       " 'Turkey',\n",
       " 'UCT',\n",
       " 'US/Alaska',\n",
       " 'US/Aleutian',\n",
       " 'US/Arizona',\n",
       " 'US/Central',\n",
       " 'US/East-Indiana',\n",
       " 'US/Eastern',\n",
       " 'US/Hawaii',\n",
       " 'US/Indiana-Starke',\n",
       " 'US/Michigan',\n",
       " 'US/Mountain',\n",
       " 'US/Pacific',\n",
       " 'US/Samoa',\n",
       " 'UTC',\n",
       " 'Universal',\n",
       " 'W-SU',\n",
       " 'WET',\n",
       " 'Zulu']"
      ]
     },
     "execution_count": 149,
     "metadata": {},
     "output_type": "execute_result"
    }
   ],
   "source": [
    "from pytz import all_timezones\n",
    "all_timezones"
   ]
  },
  {
   "cell_type": "code",
   "execution_count": 150,
   "id": "57c17db8-0fe8-4bc6-abc6-08c715bd693f",
   "metadata": {},
   "outputs": [
    {
     "data": {
      "text/html": [
       "<div>\n",
       "<style scoped>\n",
       "    .dataframe tbody tr th:only-of-type {\n",
       "        vertical-align: middle;\n",
       "    }\n",
       "\n",
       "    .dataframe tbody tr th {\n",
       "        vertical-align: top;\n",
       "    }\n",
       "\n",
       "    .dataframe thead th {\n",
       "        text-align: right;\n",
       "    }\n",
       "</style>\n",
       "<table border=\"1\" class=\"dataframe\">\n",
       "  <thead>\n",
       "    <tr style=\"text-align: right;\">\n",
       "      <th></th>\n",
       "      <th>Price</th>\n",
       "    </tr>\n",
       "    <tr>\n",
       "      <th>Date Time</th>\n",
       "      <th></th>\n",
       "    </tr>\n",
       "  </thead>\n",
       "  <tbody>\n",
       "    <tr>\n",
       "      <th>2017-08-17 18:30:00+05:30</th>\n",
       "      <td>72.38</td>\n",
       "    </tr>\n",
       "    <tr>\n",
       "      <th>2017-08-17 18:45:00+05:30</th>\n",
       "      <td>71.00</td>\n",
       "    </tr>\n",
       "    <tr>\n",
       "      <th>2017-08-17 19:00:00+05:30</th>\n",
       "      <td>71.67</td>\n",
       "    </tr>\n",
       "    <tr>\n",
       "      <th>2017-08-17 19:30:00+05:30</th>\n",
       "      <td>72.80</td>\n",
       "    </tr>\n",
       "    <tr>\n",
       "      <th>2017-08-17 20:00:00+05:30</th>\n",
       "      <td>73.00</td>\n",
       "    </tr>\n",
       "    <tr>\n",
       "      <th>2017-08-17 20:30:00+05:30</th>\n",
       "      <td>72.50</td>\n",
       "    </tr>\n",
       "  </tbody>\n",
       "</table>\n",
       "</div>"
      ],
      "text/plain": [
       "                           Price\n",
       "Date Time                       \n",
       "2017-08-17 18:30:00+05:30  72.38\n",
       "2017-08-17 18:45:00+05:30  71.00\n",
       "2017-08-17 19:00:00+05:30  71.67\n",
       "2017-08-17 19:30:00+05:30  72.80\n",
       "2017-08-17 20:00:00+05:30  73.00\n",
       "2017-08-17 20:30:00+05:30  72.50"
      ]
     },
     "execution_count": 150,
     "metadata": {},
     "output_type": "execute_result"
    }
   ],
   "source": [
    "df = df.tz_convert(tz='Asia/Calcutta')\n",
    "df"
   ]
  },
  {
   "cell_type": "code",
   "execution_count": 151,
   "id": "3403ef77-50f1-495a-86fb-8605d433aeba",
   "metadata": {},
   "outputs": [
    {
     "data": {
      "text/plain": [
       "DatetimeIndex(['2017-08-17 18:30:00+05:30', '2017-08-17 18:45:00+05:30',\n",
       "               '2017-08-17 19:00:00+05:30', '2017-08-17 19:30:00+05:30',\n",
       "               '2017-08-17 20:00:00+05:30', '2017-08-17 20:30:00+05:30'],\n",
       "              dtype='datetime64[ns, Asia/Calcutta]', name='Date Time', freq=None)"
      ]
     },
     "execution_count": 151,
     "metadata": {},
     "output_type": "execute_result"
    }
   ],
   "source": [
    "df.index.tz_convert(tz='Asia/Calcutta')"
   ]
  },
  {
   "cell_type": "code",
   "execution_count": 153,
   "id": "67267366-41c8-4bbe-8fd8-3b7369000059",
   "metadata": {},
   "outputs": [
    {
     "data": {
      "text/plain": [
       "DatetimeIndex(['2022-08-10 00:00:00+05:30', '2022-08-10 01:00:00+05:30',\n",
       "               '2022-08-10 02:00:00+05:30', '2022-08-10 03:00:00+05:30',\n",
       "               '2022-08-10 04:00:00+05:30', '2022-08-10 05:00:00+05:30',\n",
       "               '2022-08-10 06:00:00+05:30', '2022-08-10 07:00:00+05:30',\n",
       "               '2022-08-10 08:00:00+05:30', '2022-08-10 09:00:00+05:30'],\n",
       "              dtype='datetime64[ns, Asia/Calcutta]', freq='H')"
      ]
     },
     "execution_count": 153,
     "metadata": {},
     "output_type": "execute_result"
    }
   ],
   "source": [
    "# rng = pd.date_range(start=start_date, periods=10, freq='H')\n",
    "rng = pd.date_range(start=start_date, periods=10, freq='H', tz='Asia/Calcutta')\n",
    "rng"
   ]
  },
  {
   "cell_type": "code",
   "execution_count": 158,
   "id": "ad34dfa5-b0a6-4177-a9ff-25a628bb2532",
   "metadata": {},
   "outputs": [
    {
     "data": {
      "text/plain": [
       "2022-08-10 00:00:00     0\n",
       "2022-08-10 00:20:00     1\n",
       "2022-08-10 00:40:00     2\n",
       "2022-08-10 01:00:00     3\n",
       "2022-08-10 01:20:00     4\n",
       "2022-08-10 01:40:00     5\n",
       "2022-08-10 02:00:00     6\n",
       "2022-08-10 02:20:00     7\n",
       "2022-08-10 02:40:00     8\n",
       "2022-08-10 03:00:00     9\n",
       "2022-08-10 03:20:00    10\n",
       "2022-08-10 03:40:00    11\n",
       "2022-08-10 04:00:00    12\n",
       "2022-08-10 04:20:00    13\n",
       "2022-08-10 04:40:00    14\n",
       "2022-08-10 05:00:00    15\n",
       "2022-08-10 05:20:00    16\n",
       "2022-08-10 05:40:00    17\n",
       "2022-08-10 06:00:00    18\n",
       "2022-08-10 06:20:00    19\n",
       "2022-08-10 06:40:00    20\n",
       "2022-08-10 07:00:00    21\n",
       "2022-08-10 07:20:00    22\n",
       "2022-08-10 07:40:00    23\n",
       "2022-08-10 08:00:00    24\n",
       "2022-08-10 08:20:00    25\n",
       "2022-08-10 08:40:00    26\n",
       "2022-08-10 09:00:00    27\n",
       "2022-08-10 09:20:00    28\n",
       "2022-08-10 09:40:00    29\n",
       "Freq: 20T, dtype: int64"
      ]
     },
     "execution_count": 158,
     "metadata": {},
     "output_type": "execute_result"
    }
   ],
   "source": [
    "rng = pd.date_range(start_date, periods=30, freq=\"20min\")\n",
    "s = pd.Series(range(30), index=rng)\n",
    "s"
   ]
  },
  {
   "cell_type": "code",
   "execution_count": 159,
   "id": "085bb131-8eec-452b-a556-c115c1d564ba",
   "metadata": {},
   "outputs": [
    {
     "data": {
      "text/plain": [
       "2022-08-10 00:00:00+02:00     0\n",
       "2022-08-10 00:20:00+02:00     1\n",
       "2022-08-10 00:40:00+02:00     2\n",
       "2022-08-10 01:00:00+02:00     3\n",
       "2022-08-10 01:20:00+02:00     4\n",
       "2022-08-10 01:40:00+02:00     5\n",
       "2022-08-10 02:00:00+02:00     6\n",
       "2022-08-10 02:20:00+02:00     7\n",
       "2022-08-10 02:40:00+02:00     8\n",
       "2022-08-10 03:00:00+02:00     9\n",
       "2022-08-10 03:20:00+02:00    10\n",
       "2022-08-10 03:40:00+02:00    11\n",
       "2022-08-10 04:00:00+02:00    12\n",
       "2022-08-10 04:20:00+02:00    13\n",
       "2022-08-10 04:40:00+02:00    14\n",
       "2022-08-10 05:00:00+02:00    15\n",
       "2022-08-10 05:20:00+02:00    16\n",
       "2022-08-10 05:40:00+02:00    17\n",
       "2022-08-10 06:00:00+02:00    18\n",
       "2022-08-10 06:20:00+02:00    19\n",
       "2022-08-10 06:40:00+02:00    20\n",
       "2022-08-10 07:00:00+02:00    21\n",
       "2022-08-10 07:20:00+02:00    22\n",
       "2022-08-10 07:40:00+02:00    23\n",
       "2022-08-10 08:00:00+02:00    24\n",
       "2022-08-10 08:20:00+02:00    25\n",
       "2022-08-10 08:40:00+02:00    26\n",
       "2022-08-10 09:00:00+02:00    27\n",
       "2022-08-10 09:20:00+02:00    28\n",
       "2022-08-10 09:40:00+02:00    29\n",
       "dtype: int64"
      ]
     },
     "execution_count": 159,
     "metadata": {},
     "output_type": "execute_result"
    }
   ],
   "source": [
    "b = s.tz_localize(tz='Europe/Berlin')\n",
    "b"
   ]
  },
  {
   "cell_type": "code",
   "execution_count": 160,
   "id": "ec744be2-7774-4bb7-a3ef-8a4fd76c13f5",
   "metadata": {},
   "outputs": [
    {
     "data": {
      "text/plain": [
       "2022-08-10 00:00:00+05:30     0\n",
       "2022-08-10 00:20:00+05:30     1\n",
       "2022-08-10 00:40:00+05:30     2\n",
       "2022-08-10 01:00:00+05:30     3\n",
       "2022-08-10 01:20:00+05:30     4\n",
       "2022-08-10 01:40:00+05:30     5\n",
       "2022-08-10 02:00:00+05:30     6\n",
       "2022-08-10 02:20:00+05:30     7\n",
       "2022-08-10 02:40:00+05:30     8\n",
       "2022-08-10 03:00:00+05:30     9\n",
       "2022-08-10 03:20:00+05:30    10\n",
       "2022-08-10 03:40:00+05:30    11\n",
       "2022-08-10 04:00:00+05:30    12\n",
       "2022-08-10 04:20:00+05:30    13\n",
       "2022-08-10 04:40:00+05:30    14\n",
       "2022-08-10 05:00:00+05:30    15\n",
       "2022-08-10 05:20:00+05:30    16\n",
       "2022-08-10 05:40:00+05:30    17\n",
       "2022-08-10 06:00:00+05:30    18\n",
       "2022-08-10 06:20:00+05:30    19\n",
       "2022-08-10 06:40:00+05:30    20\n",
       "2022-08-10 07:00:00+05:30    21\n",
       "2022-08-10 07:20:00+05:30    22\n",
       "2022-08-10 07:40:00+05:30    23\n",
       "2022-08-10 08:00:00+05:30    24\n",
       "2022-08-10 08:20:00+05:30    25\n",
       "2022-08-10 08:40:00+05:30    26\n",
       "2022-08-10 09:00:00+05:30    27\n",
       "2022-08-10 09:20:00+05:30    28\n",
       "2022-08-10 09:40:00+05:30    29\n",
       "dtype: int64"
      ]
     },
     "execution_count": 160,
     "metadata": {},
     "output_type": "execute_result"
    }
   ],
   "source": [
    "m = s.tz_localize(tz='Asia/Calcutta')\n",
    "m"
   ]
  },
  {
   "cell_type": "code",
   "execution_count": 161,
   "id": "7b1f6145-bd99-4bd2-8dc9-c6e8598a6388",
   "metadata": {},
   "outputs": [
    {
     "data": {
      "text/plain": [
       "2022-08-09 18:30:00+00:00   NaN\n",
       "2022-08-09 18:50:00+00:00   NaN\n",
       "2022-08-09 19:10:00+00:00   NaN\n",
       "2022-08-09 19:30:00+00:00   NaN\n",
       "2022-08-09 19:50:00+00:00   NaN\n",
       "2022-08-09 20:10:00+00:00   NaN\n",
       "2022-08-09 20:30:00+00:00   NaN\n",
       "2022-08-09 20:50:00+00:00   NaN\n",
       "2022-08-09 21:10:00+00:00   NaN\n",
       "2022-08-09 21:30:00+00:00   NaN\n",
       "2022-08-09 21:50:00+00:00   NaN\n",
       "2022-08-09 22:00:00+00:00   NaN\n",
       "2022-08-09 22:10:00+00:00   NaN\n",
       "2022-08-09 22:20:00+00:00   NaN\n",
       "2022-08-09 22:30:00+00:00   NaN\n",
       "2022-08-09 22:40:00+00:00   NaN\n",
       "2022-08-09 22:50:00+00:00   NaN\n",
       "2022-08-09 23:00:00+00:00   NaN\n",
       "2022-08-09 23:10:00+00:00   NaN\n",
       "2022-08-09 23:20:00+00:00   NaN\n",
       "2022-08-09 23:30:00+00:00   NaN\n",
       "2022-08-09 23:40:00+00:00   NaN\n",
       "2022-08-09 23:50:00+00:00   NaN\n",
       "2022-08-10 00:00:00+00:00   NaN\n",
       "2022-08-10 00:10:00+00:00   NaN\n",
       "2022-08-10 00:20:00+00:00   NaN\n",
       "2022-08-10 00:30:00+00:00   NaN\n",
       "2022-08-10 00:40:00+00:00   NaN\n",
       "2022-08-10 00:50:00+00:00   NaN\n",
       "2022-08-10 01:00:00+00:00   NaN\n",
       "2022-08-10 01:10:00+00:00   NaN\n",
       "2022-08-10 01:20:00+00:00   NaN\n",
       "2022-08-10 01:30:00+00:00   NaN\n",
       "2022-08-10 01:40:00+00:00   NaN\n",
       "2022-08-10 01:50:00+00:00   NaN\n",
       "2022-08-10 02:00:00+00:00   NaN\n",
       "2022-08-10 02:10:00+00:00   NaN\n",
       "2022-08-10 02:20:00+00:00   NaN\n",
       "2022-08-10 02:30:00+00:00   NaN\n",
       "2022-08-10 02:40:00+00:00   NaN\n",
       "2022-08-10 02:50:00+00:00   NaN\n",
       "2022-08-10 03:00:00+00:00   NaN\n",
       "2022-08-10 03:10:00+00:00   NaN\n",
       "2022-08-10 03:20:00+00:00   NaN\n",
       "2022-08-10 03:30:00+00:00   NaN\n",
       "2022-08-10 03:40:00+00:00   NaN\n",
       "2022-08-10 03:50:00+00:00   NaN\n",
       "2022-08-10 04:00:00+00:00   NaN\n",
       "2022-08-10 04:10:00+00:00   NaN\n",
       "2022-08-10 04:20:00+00:00   NaN\n",
       "2022-08-10 04:40:00+00:00   NaN\n",
       "2022-08-10 05:00:00+00:00   NaN\n",
       "2022-08-10 05:20:00+00:00   NaN\n",
       "2022-08-10 05:40:00+00:00   NaN\n",
       "2022-08-10 06:00:00+00:00   NaN\n",
       "2022-08-10 06:20:00+00:00   NaN\n",
       "2022-08-10 06:40:00+00:00   NaN\n",
       "2022-08-10 07:00:00+00:00   NaN\n",
       "2022-08-10 07:20:00+00:00   NaN\n",
       "2022-08-10 07:40:00+00:00   NaN\n",
       "dtype: float64"
      ]
     },
     "execution_count": 161,
     "metadata": {},
     "output_type": "execute_result"
    }
   ],
   "source": [
    "b + m"
   ]
  },
  {
   "cell_type": "markdown",
   "id": "e867d84c-5b7a-4434-a259-005c6983fcb3",
   "metadata": {},
   "source": [
    "# Shift & lag"
   ]
  },
  {
   "cell_type": "code",
   "execution_count": 164,
   "id": "693418a7-a909-40a2-9bbd-9e1e5420fb9e",
   "metadata": {},
   "outputs": [
    {
     "data": {
      "text/html": [
       "<div>\n",
       "<style scoped>\n",
       "    .dataframe tbody tr th:only-of-type {\n",
       "        vertical-align: middle;\n",
       "    }\n",
       "\n",
       "    .dataframe tbody tr th {\n",
       "        vertical-align: top;\n",
       "    }\n",
       "\n",
       "    .dataframe thead th {\n",
       "        text-align: right;\n",
       "    }\n",
       "</style>\n",
       "<table border=\"1\" class=\"dataframe\">\n",
       "  <thead>\n",
       "    <tr style=\"text-align: right;\">\n",
       "      <th></th>\n",
       "      <th>Births</th>\n",
       "    </tr>\n",
       "    <tr>\n",
       "      <th>Date</th>\n",
       "      <th></th>\n",
       "    </tr>\n",
       "  </thead>\n",
       "  <tbody>\n",
       "    <tr>\n",
       "      <th>1959-01-01</th>\n",
       "      <td>35</td>\n",
       "    </tr>\n",
       "    <tr>\n",
       "      <th>1959-01-02</th>\n",
       "      <td>32</td>\n",
       "    </tr>\n",
       "    <tr>\n",
       "      <th>1959-01-03</th>\n",
       "      <td>30</td>\n",
       "    </tr>\n",
       "    <tr>\n",
       "      <th>1959-01-04</th>\n",
       "      <td>31</td>\n",
       "    </tr>\n",
       "    <tr>\n",
       "      <th>1959-01-05</th>\n",
       "      <td>44</td>\n",
       "    </tr>\n",
       "  </tbody>\n",
       "</table>\n",
       "</div>"
      ],
      "text/plain": [
       "            Births\n",
       "Date              \n",
       "1959-01-01      35\n",
       "1959-01-02      32\n",
       "1959-01-03      30\n",
       "1959-01-04      31\n",
       "1959-01-05      44"
      ]
     },
     "execution_count": 164,
     "metadata": {},
     "output_type": "execute_result"
    }
   ],
   "source": [
    "dataset_url = \"https://raw.githubusercontent.com/jbrownlee/Datasets/master/daily-total-female-births.csv\"\n",
    "df = pd.read_csv(dataset_url, parse_dates=['Date'], index_col='Date')\n",
    "df.head()"
   ]
  },
  {
   "cell_type": "code",
   "execution_count": 166,
   "id": "0c8bbb2f-ab06-4167-9cb1-c74d6b957fe7",
   "metadata": {},
   "outputs": [
    {
     "data": {
      "text/html": [
       "<div>\n",
       "<style scoped>\n",
       "    .dataframe tbody tr th:only-of-type {\n",
       "        vertical-align: middle;\n",
       "    }\n",
       "\n",
       "    .dataframe tbody tr th {\n",
       "        vertical-align: top;\n",
       "    }\n",
       "\n",
       "    .dataframe thead th {\n",
       "        text-align: right;\n",
       "    }\n",
       "</style>\n",
       "<table border=\"1\" class=\"dataframe\">\n",
       "  <thead>\n",
       "    <tr style=\"text-align: right;\">\n",
       "      <th></th>\n",
       "      <th>Births</th>\n",
       "    </tr>\n",
       "    <tr>\n",
       "      <th>Date</th>\n",
       "      <th></th>\n",
       "    </tr>\n",
       "  </thead>\n",
       "  <tbody>\n",
       "    <tr>\n",
       "      <th>1959-01-01</th>\n",
       "      <td>NaN</td>\n",
       "    </tr>\n",
       "    <tr>\n",
       "      <th>1959-01-02</th>\n",
       "      <td>NaN</td>\n",
       "    </tr>\n",
       "    <tr>\n",
       "      <th>1959-01-03</th>\n",
       "      <td>35.0</td>\n",
       "    </tr>\n",
       "    <tr>\n",
       "      <th>1959-01-04</th>\n",
       "      <td>32.0</td>\n",
       "    </tr>\n",
       "    <tr>\n",
       "      <th>1959-01-05</th>\n",
       "      <td>30.0</td>\n",
       "    </tr>\n",
       "  </tbody>\n",
       "</table>\n",
       "</div>"
      ],
      "text/plain": [
       "            Births\n",
       "Date              \n",
       "1959-01-01     NaN\n",
       "1959-01-02     NaN\n",
       "1959-01-03    35.0\n",
       "1959-01-04    32.0\n",
       "1959-01-05    30.0"
      ]
     },
     "execution_count": 166,
     "metadata": {},
     "output_type": "execute_result"
    }
   ],
   "source": [
    "df.shift(2).head()"
   ]
  },
  {
   "cell_type": "code",
   "execution_count": 167,
   "id": "8eda53e9-70b2-495b-9f0d-cb1c644cfb57",
   "metadata": {},
   "outputs": [
    {
     "data": {
      "text/html": [
       "<div>\n",
       "<style scoped>\n",
       "    .dataframe tbody tr th:only-of-type {\n",
       "        vertical-align: middle;\n",
       "    }\n",
       "\n",
       "    .dataframe tbody tr th {\n",
       "        vertical-align: top;\n",
       "    }\n",
       "\n",
       "    .dataframe thead th {\n",
       "        text-align: right;\n",
       "    }\n",
       "</style>\n",
       "<table border=\"1\" class=\"dataframe\">\n",
       "  <thead>\n",
       "    <tr style=\"text-align: right;\">\n",
       "      <th></th>\n",
       "      <th>Births</th>\n",
       "    </tr>\n",
       "    <tr>\n",
       "      <th>Date</th>\n",
       "      <th></th>\n",
       "    </tr>\n",
       "  </thead>\n",
       "  <tbody>\n",
       "    <tr>\n",
       "      <th>1959-01-01</th>\n",
       "      <td>30.0</td>\n",
       "    </tr>\n",
       "    <tr>\n",
       "      <th>1959-01-02</th>\n",
       "      <td>31.0</td>\n",
       "    </tr>\n",
       "    <tr>\n",
       "      <th>1959-01-03</th>\n",
       "      <td>44.0</td>\n",
       "    </tr>\n",
       "    <tr>\n",
       "      <th>1959-01-04</th>\n",
       "      <td>29.0</td>\n",
       "    </tr>\n",
       "    <tr>\n",
       "      <th>1959-01-05</th>\n",
       "      <td>45.0</td>\n",
       "    </tr>\n",
       "  </tbody>\n",
       "</table>\n",
       "</div>"
      ],
      "text/plain": [
       "            Births\n",
       "Date              \n",
       "1959-01-01    30.0\n",
       "1959-01-02    31.0\n",
       "1959-01-03    44.0\n",
       "1959-01-04    29.0\n",
       "1959-01-05    45.0"
      ]
     },
     "execution_count": 167,
     "metadata": {},
     "output_type": "execute_result"
    }
   ],
   "source": [
    "df.shift(-2).head()"
   ]
  },
  {
   "cell_type": "code",
   "execution_count": 168,
   "id": "2898f5e3-a554-4b27-a552-54e2d0e016ee",
   "metadata": {},
   "outputs": [
    {
     "data": {
      "text/html": [
       "<div>\n",
       "<style scoped>\n",
       "    .dataframe tbody tr th:only-of-type {\n",
       "        vertical-align: middle;\n",
       "    }\n",
       "\n",
       "    .dataframe tbody tr th {\n",
       "        vertical-align: top;\n",
       "    }\n",
       "\n",
       "    .dataframe thead th {\n",
       "        text-align: right;\n",
       "    }\n",
       "</style>\n",
       "<table border=\"1\" class=\"dataframe\">\n",
       "  <thead>\n",
       "    <tr style=\"text-align: right;\">\n",
       "      <th></th>\n",
       "      <th>Births</th>\n",
       "      <th>PrevDay</th>\n",
       "    </tr>\n",
       "    <tr>\n",
       "      <th>Date</th>\n",
       "      <th></th>\n",
       "      <th></th>\n",
       "    </tr>\n",
       "  </thead>\n",
       "  <tbody>\n",
       "    <tr>\n",
       "      <th>1959-01-01</th>\n",
       "      <td>35</td>\n",
       "      <td>NaN</td>\n",
       "    </tr>\n",
       "    <tr>\n",
       "      <th>1959-01-02</th>\n",
       "      <td>32</td>\n",
       "      <td>35.0</td>\n",
       "    </tr>\n",
       "    <tr>\n",
       "      <th>1959-01-03</th>\n",
       "      <td>30</td>\n",
       "      <td>32.0</td>\n",
       "    </tr>\n",
       "    <tr>\n",
       "      <th>1959-01-04</th>\n",
       "      <td>31</td>\n",
       "      <td>30.0</td>\n",
       "    </tr>\n",
       "    <tr>\n",
       "      <th>1959-01-05</th>\n",
       "      <td>44</td>\n",
       "      <td>31.0</td>\n",
       "    </tr>\n",
       "  </tbody>\n",
       "</table>\n",
       "</div>"
      ],
      "text/plain": [
       "            Births  PrevDay\n",
       "Date                       \n",
       "1959-01-01      35      NaN\n",
       "1959-01-02      32     35.0\n",
       "1959-01-03      30     32.0\n",
       "1959-01-04      31     30.0\n",
       "1959-01-05      44     31.0"
      ]
     },
     "execution_count": 168,
     "metadata": {},
     "output_type": "execute_result"
    }
   ],
   "source": [
    "df['PrevDay'] = df.shift(1)\n",
    "df.head()"
   ]
  },
  {
   "cell_type": "code",
   "execution_count": 169,
   "id": "f54434a3-8dc3-4b91-810a-03c6b51225e3",
   "metadata": {},
   "outputs": [
    {
     "data": {
      "text/html": [
       "<div>\n",
       "<style scoped>\n",
       "    .dataframe tbody tr th:only-of-type {\n",
       "        vertical-align: middle;\n",
       "    }\n",
       "\n",
       "    .dataframe tbody tr th {\n",
       "        vertical-align: top;\n",
       "    }\n",
       "\n",
       "    .dataframe thead th {\n",
       "        text-align: right;\n",
       "    }\n",
       "</style>\n",
       "<table border=\"1\" class=\"dataframe\">\n",
       "  <thead>\n",
       "    <tr style=\"text-align: right;\">\n",
       "      <th></th>\n",
       "      <th>Births</th>\n",
       "      <th>PrevDay</th>\n",
       "      <th>Change</th>\n",
       "    </tr>\n",
       "    <tr>\n",
       "      <th>Date</th>\n",
       "      <th></th>\n",
       "      <th></th>\n",
       "      <th></th>\n",
       "    </tr>\n",
       "  </thead>\n",
       "  <tbody>\n",
       "    <tr>\n",
       "      <th>1959-01-01</th>\n",
       "      <td>35</td>\n",
       "      <td>NaN</td>\n",
       "      <td>NaN</td>\n",
       "    </tr>\n",
       "    <tr>\n",
       "      <th>1959-01-02</th>\n",
       "      <td>32</td>\n",
       "      <td>35.0</td>\n",
       "      <td>3.0</td>\n",
       "    </tr>\n",
       "    <tr>\n",
       "      <th>1959-01-03</th>\n",
       "      <td>30</td>\n",
       "      <td>32.0</td>\n",
       "      <td>2.0</td>\n",
       "    </tr>\n",
       "    <tr>\n",
       "      <th>1959-01-04</th>\n",
       "      <td>31</td>\n",
       "      <td>30.0</td>\n",
       "      <td>-1.0</td>\n",
       "    </tr>\n",
       "    <tr>\n",
       "      <th>1959-01-05</th>\n",
       "      <td>44</td>\n",
       "      <td>31.0</td>\n",
       "      <td>-13.0</td>\n",
       "    </tr>\n",
       "  </tbody>\n",
       "</table>\n",
       "</div>"
      ],
      "text/plain": [
       "            Births  PrevDay  Change\n",
       "Date                               \n",
       "1959-01-01      35      NaN     NaN\n",
       "1959-01-02      32     35.0     3.0\n",
       "1959-01-03      30     32.0     2.0\n",
       "1959-01-04      31     30.0    -1.0\n",
       "1959-01-05      44     31.0   -13.0"
      ]
     },
     "execution_count": 169,
     "metadata": {},
     "output_type": "execute_result"
    }
   ],
   "source": [
    "df['Change'] = df['PrevDay'] - df['Births']\n",
    "df.head()"
   ]
  },
  {
   "cell_type": "code",
   "execution_count": 172,
   "id": "48ce2935-2fda-4ccc-a3c2-386b10422e0f",
   "metadata": {},
   "outputs": [
    {
     "data": {
      "text/html": [
       "<div>\n",
       "<style scoped>\n",
       "    .dataframe tbody tr th:only-of-type {\n",
       "        vertical-align: middle;\n",
       "    }\n",
       "\n",
       "    .dataframe tbody tr th {\n",
       "        vertical-align: top;\n",
       "    }\n",
       "\n",
       "    .dataframe thead th {\n",
       "        text-align: right;\n",
       "    }\n",
       "</style>\n",
       "<table border=\"1\" class=\"dataframe\">\n",
       "  <thead>\n",
       "    <tr style=\"text-align: right;\">\n",
       "      <th></th>\n",
       "      <th>Births</th>\n",
       "      <th>PrevDay</th>\n",
       "      <th>Change</th>\n",
       "      <th>pct rtn 5 dy</th>\n",
       "    </tr>\n",
       "    <tr>\n",
       "      <th>Date</th>\n",
       "      <th></th>\n",
       "      <th></th>\n",
       "      <th></th>\n",
       "      <th></th>\n",
       "    </tr>\n",
       "  </thead>\n",
       "  <tbody>\n",
       "    <tr>\n",
       "      <th>1959-01-01</th>\n",
       "      <td>35</td>\n",
       "      <td>NaN</td>\n",
       "      <td>NaN</td>\n",
       "      <td>NaN</td>\n",
       "    </tr>\n",
       "    <tr>\n",
       "      <th>1959-01-02</th>\n",
       "      <td>32</td>\n",
       "      <td>35.0</td>\n",
       "      <td>3.0</td>\n",
       "      <td>NaN</td>\n",
       "    </tr>\n",
       "    <tr>\n",
       "      <th>1959-01-03</th>\n",
       "      <td>30</td>\n",
       "      <td>32.0</td>\n",
       "      <td>2.0</td>\n",
       "      <td>NaN</td>\n",
       "    </tr>\n",
       "    <tr>\n",
       "      <th>1959-01-04</th>\n",
       "      <td>31</td>\n",
       "      <td>30.0</td>\n",
       "      <td>-1.0</td>\n",
       "      <td>NaN</td>\n",
       "    </tr>\n",
       "    <tr>\n",
       "      <th>1959-01-05</th>\n",
       "      <td>44</td>\n",
       "      <td>31.0</td>\n",
       "      <td>-13.0</td>\n",
       "      <td>NaN</td>\n",
       "    </tr>\n",
       "    <tr>\n",
       "      <th>1959-01-06</th>\n",
       "      <td>29</td>\n",
       "      <td>44.0</td>\n",
       "      <td>15.0</td>\n",
       "      <td>-17.142857</td>\n",
       "    </tr>\n",
       "    <tr>\n",
       "      <th>1959-01-07</th>\n",
       "      <td>45</td>\n",
       "      <td>29.0</td>\n",
       "      <td>-16.0</td>\n",
       "      <td>40.625000</td>\n",
       "    </tr>\n",
       "    <tr>\n",
       "      <th>1959-01-08</th>\n",
       "      <td>43</td>\n",
       "      <td>45.0</td>\n",
       "      <td>2.0</td>\n",
       "      <td>43.333333</td>\n",
       "    </tr>\n",
       "    <tr>\n",
       "      <th>1959-01-09</th>\n",
       "      <td>38</td>\n",
       "      <td>43.0</td>\n",
       "      <td>5.0</td>\n",
       "      <td>22.580645</td>\n",
       "    </tr>\n",
       "    <tr>\n",
       "      <th>1959-01-10</th>\n",
       "      <td>27</td>\n",
       "      <td>38.0</td>\n",
       "      <td>11.0</td>\n",
       "      <td>-38.636364</td>\n",
       "    </tr>\n",
       "  </tbody>\n",
       "</table>\n",
       "</div>"
      ],
      "text/plain": [
       "            Births  PrevDay  Change  pct rtn 5 dy\n",
       "Date                                             \n",
       "1959-01-01      35      NaN     NaN           NaN\n",
       "1959-01-02      32     35.0     3.0           NaN\n",
       "1959-01-03      30     32.0     2.0           NaN\n",
       "1959-01-04      31     30.0    -1.0           NaN\n",
       "1959-01-05      44     31.0   -13.0           NaN\n",
       "1959-01-06      29     44.0    15.0    -17.142857\n",
       "1959-01-07      45     29.0   -16.0     40.625000\n",
       "1959-01-08      43     45.0     2.0     43.333333\n",
       "1959-01-09      38     43.0     5.0     22.580645\n",
       "1959-01-10      27     38.0    11.0    -38.636364"
      ]
     },
     "execution_count": 172,
     "metadata": {},
     "output_type": "execute_result"
    }
   ],
   "source": [
    "# df['pct rtn 5 dy'] = (df['Births'] - df['Births'].shift(5))*100/df['Births'].shift(5)\n",
    "df.head(10)"
   ]
  },
  {
   "cell_type": "code",
   "execution_count": 173,
   "id": "bdf08bf6-fe59-46e8-8d9d-4aca8ab3932a",
   "metadata": {},
   "outputs": [
    {
     "data": {
      "text/html": [
       "<div>\n",
       "<style scoped>\n",
       "    .dataframe tbody tr th:only-of-type {\n",
       "        vertical-align: middle;\n",
       "    }\n",
       "\n",
       "    .dataframe tbody tr th {\n",
       "        vertical-align: top;\n",
       "    }\n",
       "\n",
       "    .dataframe thead th {\n",
       "        text-align: right;\n",
       "    }\n",
       "</style>\n",
       "<table border=\"1\" class=\"dataframe\">\n",
       "  <thead>\n",
       "    <tr style=\"text-align: right;\">\n",
       "      <th></th>\n",
       "      <th>Births</th>\n",
       "    </tr>\n",
       "    <tr>\n",
       "      <th>Date</th>\n",
       "      <th></th>\n",
       "    </tr>\n",
       "  </thead>\n",
       "  <tbody>\n",
       "    <tr>\n",
       "      <th>1959-01-01</th>\n",
       "      <td>35</td>\n",
       "    </tr>\n",
       "    <tr>\n",
       "      <th>1959-01-02</th>\n",
       "      <td>32</td>\n",
       "    </tr>\n",
       "    <tr>\n",
       "      <th>1959-01-03</th>\n",
       "      <td>30</td>\n",
       "    </tr>\n",
       "    <tr>\n",
       "      <th>1959-01-04</th>\n",
       "      <td>31</td>\n",
       "    </tr>\n",
       "    <tr>\n",
       "      <th>1959-01-05</th>\n",
       "      <td>44</td>\n",
       "    </tr>\n",
       "    <tr>\n",
       "      <th>...</th>\n",
       "      <td>...</td>\n",
       "    </tr>\n",
       "    <tr>\n",
       "      <th>1959-12-27</th>\n",
       "      <td>37</td>\n",
       "    </tr>\n",
       "    <tr>\n",
       "      <th>1959-12-28</th>\n",
       "      <td>52</td>\n",
       "    </tr>\n",
       "    <tr>\n",
       "      <th>1959-12-29</th>\n",
       "      <td>48</td>\n",
       "    </tr>\n",
       "    <tr>\n",
       "      <th>1959-12-30</th>\n",
       "      <td>55</td>\n",
       "    </tr>\n",
       "    <tr>\n",
       "      <th>1959-12-31</th>\n",
       "      <td>50</td>\n",
       "    </tr>\n",
       "  </tbody>\n",
       "</table>\n",
       "<p>365 rows × 1 columns</p>\n",
       "</div>"
      ],
      "text/plain": [
       "            Births\n",
       "Date              \n",
       "1959-01-01      35\n",
       "1959-01-02      32\n",
       "1959-01-03      30\n",
       "1959-01-04      31\n",
       "1959-01-05      44\n",
       "...            ...\n",
       "1959-12-27      37\n",
       "1959-12-28      52\n",
       "1959-12-29      48\n",
       "1959-12-30      55\n",
       "1959-12-31      50\n",
       "\n",
       "[365 rows x 1 columns]"
      ]
     },
     "execution_count": 173,
     "metadata": {},
     "output_type": "execute_result"
    }
   ],
   "source": [
    "df = df[['Births']]\n",
    "df"
   ]
  },
  {
   "cell_type": "code",
   "execution_count": 174,
   "id": "9954abb6-0cbf-4901-b57b-3b2eaf9114d3",
   "metadata": {},
   "outputs": [
    {
     "data": {
      "text/plain": [
       "DatetimeIndex(['1959-01-01', '1959-01-02', '1959-01-03', '1959-01-04',\n",
       "               '1959-01-05', '1959-01-06', '1959-01-07', '1959-01-08',\n",
       "               '1959-01-09', '1959-01-10',\n",
       "               ...\n",
       "               '1959-12-22', '1959-12-23', '1959-12-24', '1959-12-25',\n",
       "               '1959-12-26', '1959-12-27', '1959-12-28', '1959-12-29',\n",
       "               '1959-12-30', '1959-12-31'],\n",
       "              dtype='datetime64[ns]', name='Date', length=365, freq=None)"
      ]
     },
     "execution_count": 174,
     "metadata": {},
     "output_type": "execute_result"
    }
   ],
   "source": [
    "df.index"
   ]
  },
  {
   "cell_type": "code",
   "execution_count": 178,
   "id": "e0357875-939b-46e9-a138-45c6aeb9d865",
   "metadata": {},
   "outputs": [
    {
     "data": {
      "text/plain": [
       "DatetimeIndex(['1959-01-01', '1959-01-02', '1959-01-05', '1959-01-06',\n",
       "               '1959-01-07', '1959-01-08', '1959-01-09', '1959-01-12',\n",
       "               '1959-01-13', '1959-01-14',\n",
       "               ...\n",
       "               '1960-05-12', '1960-05-13', '1960-05-16', '1960-05-17',\n",
       "               '1960-05-18', '1960-05-19', '1960-05-20', '1960-05-23',\n",
       "               '1960-05-24', '1960-05-25'],\n",
       "              dtype='datetime64[ns]', length=365, freq='B')"
      ]
     },
     "execution_count": 178,
     "metadata": {},
     "output_type": "execute_result"
    }
   ],
   "source": [
    "idx = pd.date_range(df.index.min(),periods = len(df), freq = 'B')\n",
    "idx"
   ]
  },
  {
   "cell_type": "code",
   "execution_count": 179,
   "id": "81bc6dd5-aff9-47e1-be6c-6fe271a52ec5",
   "metadata": {},
   "outputs": [
    {
     "data": {
      "text/html": [
       "<div>\n",
       "<style scoped>\n",
       "    .dataframe tbody tr th:only-of-type {\n",
       "        vertical-align: middle;\n",
       "    }\n",
       "\n",
       "    .dataframe tbody tr th {\n",
       "        vertical-align: top;\n",
       "    }\n",
       "\n",
       "    .dataframe thead th {\n",
       "        text-align: right;\n",
       "    }\n",
       "</style>\n",
       "<table border=\"1\" class=\"dataframe\">\n",
       "  <thead>\n",
       "    <tr style=\"text-align: right;\">\n",
       "      <th></th>\n",
       "      <th>Births</th>\n",
       "    </tr>\n",
       "  </thead>\n",
       "  <tbody>\n",
       "    <tr>\n",
       "      <th>1959-01-01</th>\n",
       "      <td>35</td>\n",
       "    </tr>\n",
       "    <tr>\n",
       "      <th>1959-01-02</th>\n",
       "      <td>32</td>\n",
       "    </tr>\n",
       "    <tr>\n",
       "      <th>1959-01-05</th>\n",
       "      <td>30</td>\n",
       "    </tr>\n",
       "    <tr>\n",
       "      <th>1959-01-06</th>\n",
       "      <td>31</td>\n",
       "    </tr>\n",
       "    <tr>\n",
       "      <th>1959-01-07</th>\n",
       "      <td>44</td>\n",
       "    </tr>\n",
       "    <tr>\n",
       "      <th>...</th>\n",
       "      <td>...</td>\n",
       "    </tr>\n",
       "    <tr>\n",
       "      <th>1960-05-19</th>\n",
       "      <td>37</td>\n",
       "    </tr>\n",
       "    <tr>\n",
       "      <th>1960-05-20</th>\n",
       "      <td>52</td>\n",
       "    </tr>\n",
       "    <tr>\n",
       "      <th>1960-05-23</th>\n",
       "      <td>48</td>\n",
       "    </tr>\n",
       "    <tr>\n",
       "      <th>1960-05-24</th>\n",
       "      <td>55</td>\n",
       "    </tr>\n",
       "    <tr>\n",
       "      <th>1960-05-25</th>\n",
       "      <td>50</td>\n",
       "    </tr>\n",
       "  </tbody>\n",
       "</table>\n",
       "<p>365 rows × 1 columns</p>\n",
       "</div>"
      ],
      "text/plain": [
       "            Births\n",
       "1959-01-01      35\n",
       "1959-01-02      32\n",
       "1959-01-05      30\n",
       "1959-01-06      31\n",
       "1959-01-07      44\n",
       "...            ...\n",
       "1960-05-19      37\n",
       "1960-05-20      52\n",
       "1960-05-23      48\n",
       "1960-05-24      55\n",
       "1960-05-25      50\n",
       "\n",
       "[365 rows x 1 columns]"
      ]
     },
     "execution_count": 179,
     "metadata": {},
     "output_type": "execute_result"
    }
   ],
   "source": [
    "df.index = idx\n",
    "df"
   ]
  },
  {
   "cell_type": "code",
   "execution_count": 180,
   "id": "be4e506c-b864-4b46-a0a4-8cf4e666078a",
   "metadata": {},
   "outputs": [
    {
     "name": "stderr",
     "output_type": "stream",
     "text": [
      "<ipython-input-180-ddee8c46d442>:1: FutureWarning: tshift is deprecated and will be removed in a future version. Please use shift instead.\n",
      "  df.tshift(1)\n"
     ]
    },
    {
     "data": {
      "text/html": [
       "<div>\n",
       "<style scoped>\n",
       "    .dataframe tbody tr th:only-of-type {\n",
       "        vertical-align: middle;\n",
       "    }\n",
       "\n",
       "    .dataframe tbody tr th {\n",
       "        vertical-align: top;\n",
       "    }\n",
       "\n",
       "    .dataframe thead th {\n",
       "        text-align: right;\n",
       "    }\n",
       "</style>\n",
       "<table border=\"1\" class=\"dataframe\">\n",
       "  <thead>\n",
       "    <tr style=\"text-align: right;\">\n",
       "      <th></th>\n",
       "      <th>Births</th>\n",
       "    </tr>\n",
       "  </thead>\n",
       "  <tbody>\n",
       "    <tr>\n",
       "      <th>1959-01-02</th>\n",
       "      <td>35</td>\n",
       "    </tr>\n",
       "    <tr>\n",
       "      <th>1959-01-05</th>\n",
       "      <td>32</td>\n",
       "    </tr>\n",
       "    <tr>\n",
       "      <th>1959-01-06</th>\n",
       "      <td>30</td>\n",
       "    </tr>\n",
       "    <tr>\n",
       "      <th>1959-01-07</th>\n",
       "      <td>31</td>\n",
       "    </tr>\n",
       "    <tr>\n",
       "      <th>1959-01-08</th>\n",
       "      <td>44</td>\n",
       "    </tr>\n",
       "    <tr>\n",
       "      <th>...</th>\n",
       "      <td>...</td>\n",
       "    </tr>\n",
       "    <tr>\n",
       "      <th>1960-05-20</th>\n",
       "      <td>37</td>\n",
       "    </tr>\n",
       "    <tr>\n",
       "      <th>1960-05-23</th>\n",
       "      <td>52</td>\n",
       "    </tr>\n",
       "    <tr>\n",
       "      <th>1960-05-24</th>\n",
       "      <td>48</td>\n",
       "    </tr>\n",
       "    <tr>\n",
       "      <th>1960-05-25</th>\n",
       "      <td>55</td>\n",
       "    </tr>\n",
       "    <tr>\n",
       "      <th>1960-05-26</th>\n",
       "      <td>50</td>\n",
       "    </tr>\n",
       "  </tbody>\n",
       "</table>\n",
       "<p>365 rows × 1 columns</p>\n",
       "</div>"
      ],
      "text/plain": [
       "            Births\n",
       "1959-01-02      35\n",
       "1959-01-05      32\n",
       "1959-01-06      30\n",
       "1959-01-07      31\n",
       "1959-01-08      44\n",
       "...            ...\n",
       "1960-05-20      37\n",
       "1960-05-23      52\n",
       "1960-05-24      48\n",
       "1960-05-25      55\n",
       "1960-05-26      50\n",
       "\n",
       "[365 rows x 1 columns]"
      ]
     },
     "execution_count": 180,
     "metadata": {},
     "output_type": "execute_result"
    }
   ],
   "source": [
    "df.tshift(1)"
   ]
  }
 ],
 "metadata": {
  "kernelspec": {
   "display_name": "Python 3",
   "language": "python",
   "name": "python3"
  },
  "language_info": {
   "codemirror_mode": {
    "name": "ipython",
    "version": 3
   },
   "file_extension": ".py",
   "mimetype": "text/x-python",
   "name": "python",
   "nbconvert_exporter": "python",
   "pygments_lexer": "ipython3",
   "version": "3.8.8"
  }
 },
 "nbformat": 4,
 "nbformat_minor": 5
}
