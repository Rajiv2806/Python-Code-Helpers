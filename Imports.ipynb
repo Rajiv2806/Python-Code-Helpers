{
 "cells": [
  {
   "cell_type": "markdown",
   "id": "7e214883-bcb5-4ae9-9314-5b479b92b9ae",
   "metadata": {},
   "source": [
    "# Imports"
   ]
  },
  {
   "cell_type": "code",
   "execution_count": 1,
   "id": "5aeab6e6-af2b-4e3e-9b91-b2159e84d3e4",
   "metadata": {},
   "outputs": [
    {
     "name": "stdout",
     "output_type": "stream",
     "text": [
      "Time: Thu Dec 16 23:40:28 2021\n",
      "Py Version: 3.6.10 |Anaconda, Inc.| (default, May  7 2020, 19:46:08) [MSC v.1916 64 bit (AMD64)]\n",
      "Py Executable: C:\\Users\\Dakshayani\\.conda\\envs\\atlantis_anaconda_venv\\python.exe\n",
      "Operation Sys: win32\n",
      "Working Directory: E:\\Git Rajiv2806\\Python-Code-Helpers\n",
      "Numpy: 1.19.2, Pandas: 1.1.5, Sklearn: 0.23.2\n"
     ]
    }
   ],
   "source": [
    "import os\n",
    "import sys\n",
    "import time\n",
    "import sklearn\n",
    "import warnings\n",
    "import numpy as np\n",
    "import pandas as pd\n",
    "import matplotlib.pyplot as plt\n",
    "from IPython.core.interactiveshell import InteractiveShell\n",
    "\n",
    "warnings.filterwarnings(\"ignore\")\n",
    "pd.set_option('display.max_columns',0)\n",
    "pd.set_option('display.max_colwidth',0)\n",
    "InteractiveShell.ast_node_interactivity = \"all\"\n",
    "\n",
    "print(f\"Time: {time.ctime()}\")\n",
    "print(f\"Py Version: {sys.version}\")\n",
    "print(f\"Py Executable: {sys.executable}\")\n",
    "print(f\"Operation Sys: {sys.platform}\")\n",
    "print(f\"Working Directory: {os.getcwd()}\")\n",
    "print(f\"Numpy: {np.__version__}, Pandas: {pd.__version__}, Sklearn: {sklearn.__version__}\")"
   ]
  }
 ],
 "metadata": {
  "kernelspec": {
   "display_name": "atlantis_anaconda_venv",
   "language": "python",
   "name": "atlantis_anaconda_venv"
  },
  "language_info": {
   "codemirror_mode": {
    "name": "ipython",
    "version": 3
   },
   "file_extension": ".py",
   "mimetype": "text/x-python",
   "name": "python",
   "nbconvert_exporter": "python",
   "pygments_lexer": "ipython3",
   "version": "3.6.10"
  }
 },
 "nbformat": 4,
 "nbformat_minor": 5
}
