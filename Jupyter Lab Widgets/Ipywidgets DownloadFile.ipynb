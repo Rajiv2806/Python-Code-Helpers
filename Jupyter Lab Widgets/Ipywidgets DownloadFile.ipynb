{
 "cells": [
  {
   "cell_type": "markdown",
   "id": "7d955ae0-8cce-4a00-98e0-ec7636f7c03d",
   "metadata": {},
   "source": [
    "# Ipywidgets - Download File "
   ]
  },
  {
   "cell_type": "code",
   "execution_count": null,
   "id": "7e6cf83a-4879-41af-8abe-2d2f05a79b67",
   "metadata": {},
   "outputs": [],
   "source": [
    "# Download Button\n",
    "from ipywidgets import HTML\n",
    "from IPython.display import display\n",
    "\n",
    "import base64\n",
    "\n",
    "res = 'computed results'\n",
    "\n",
    "#FILE\n",
    "filename = 'res.txt'\n",
    "b64 = base64.b64encode(res.encode())\n",
    "payload = b64.decode()\n",
    "\n",
    "#BUTTONS\n",
    "html_buttons = '''<html>\n",
    "<head>\n",
    "<meta name=\"viewport\" content=\"width=device-width, initial-scale=1\">\n",
    "</head>\n",
    "<body>\n",
    "<a download=\"{filename}\" href=\"data:text/csv;base64,{payload}\" download>\n",
    "<button class=\"p-Widget jupyter-widgets jupyter-button widget-button mod-warning\">Download File</button>\n",
    "</a>\n",
    "</body>\n",
    "</html>\n",
    "'''\n",
    "\n",
    "html_button = html_buttons.format(payload=payload,filename=filename)\n",
    "display(HTML(html_button))"
   ]
  },
  {
   "cell_type": "code",
   "execution_count": null,
   "id": "63f2a6a7-a1f2-45b8-96ec-646c76f7962f",
   "metadata": {},
   "outputs": [],
   "source": [
    "# Install Voila and run: voila <notebook-path>, to deploy this notebook "
   ]
  }
 ],
 "metadata": {
  "kernelspec": {
   "display_name": "Python 3",
   "language": "python",
   "name": "python3"
  },
  "language_info": {
   "codemirror_mode": {
    "name": "ipython",
    "version": 3
   },
   "file_extension": ".py",
   "mimetype": "text/x-python",
   "name": "python",
   "nbconvert_exporter": "python",
   "pygments_lexer": "ipython3",
   "version": "3.8.8"
  }
 },
 "nbformat": 4,
 "nbformat_minor": 5
}
