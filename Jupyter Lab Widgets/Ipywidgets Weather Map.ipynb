{
 "cells": [
  {
   "cell_type": "markdown",
   "id": "401f1b39-3897-46ee-a699-4a2d6d6cd106",
   "metadata": {},
   "source": [
    "# Weather map\n",
    "\n",
    "[Source](https://ipywidgets.readthedocs.io/en/latest/examples/Layout%20Example.html)"
   ]
  },
  {
   "cell_type": "code",
   "execution_count": null,
   "id": "cc920d69-0b88-4fe3-8303-610711ff36d0",
   "metadata": {},
   "outputs": [],
   "source": [
    "from ipyleaflet import Map, basemaps, basemap_to_tiles, Heatmap, TileLayer\n",
    "from ipywidgets import AppLayout\n",
    "from ipywidgets import HTML, Layout, Dropdown, Output, Textarea, VBox, Label\n",
    "import bqplot as bq\n",
    "import numpy as np\n",
    "from pandas import date_range"
   ]
  },
  {
   "cell_type": "code",
   "execution_count": null,
   "id": "3bcafd53-e162-4901-9a74-a6e79d13bbfa",
   "metadata": {},
   "outputs": [],
   "source": [
    "OWM_API_KEY = \"af1f555e98a4c7ebab0aa9a41785052d\" #openweathermap API key"
   ]
  },
  {
   "cell_type": "code",
   "execution_count": null,
   "id": "92a6d1c8-528c-4be8-94a8-7208a91e532a",
   "metadata": {},
   "outputs": [],
   "source": [
    "m = Map(center=(52, 10), zoom=5, basemap=basemaps.Hydda.Full)\n",
    "# m = Map(center=(52, 10), zoom=5)"
   ]
  },
  {
   "cell_type": "code",
   "execution_count": null,
   "id": "bec374ef-b0f7-4314-8539-a3f71a60751c",
   "metadata": {},
   "outputs": [],
   "source": [
    "m"
   ]
  },
  {
   "cell_type": "code",
   "execution_count": null,
   "id": "87a2dc2e-cccd-49ed-83b2-740207a1ff06",
   "metadata": {},
   "outputs": [],
   "source": [
    "maps = {'Hydda' : basemaps.Hydda.Full,\n",
    "        'Esri' : basemaps.Esri.DeLorme}"
   ]
  },
  {
   "cell_type": "code",
   "execution_count": null,
   "id": "6a9cbfba-1d01-4bd0-9d85-380ddf3e9551",
   "metadata": {},
   "outputs": [],
   "source": [
    "header = HTML(\"<h1>Fictional World Weather</h1>\", layout=Layout(height='auto'))\n",
    "header.style.text_align='center'\n",
    "basemap_selector = Dropdown( options = list(maps.keys()),layout=Layout(width='auto'))\n",
    "heatmap_selector = Dropdown(options=('Temperature', 'Precipitation'),layout=Layout(width='auto'))"
   ]
  },
  {
   "cell_type": "code",
   "execution_count": null,
   "id": "c9d5bd4f-4123-4a2d-9daa-dea5a0f7e483",
   "metadata": {},
   "outputs": [],
   "source": [
    "basemap_selector.value = 'Hydda'\n",
    "m.layout.height='600px'"
   ]
  },
  {
   "cell_type": "code",
   "execution_count": null,
   "id": "c802ffca-321c-46c7-a2b8-2d57ead6dc8e",
   "metadata": {},
   "outputs": [],
   "source": [
    "security_1 = np.cumsum(np.random.randn(150)) + 100.\n",
    "\n",
    "dates = date_range(start='01-01-2007', periods=150)\n",
    "\n",
    "dt_x = bq.DateScale()\n",
    "sc_y = bq.LinearScale()\n",
    "\n",
    "time_series = bq.Lines(x=dates, y=security_1, scales={'x': dt_x, 'y': sc_y})\n",
    "ax_x = bq.Axis(scale=dt_x)\n",
    "ax_y = bq.Axis(scale=sc_y, orientation='vertical')\n",
    "\n",
    "fig = bq.Figure(marks=[time_series], axes=[ax_x, ax_y],\n",
    "                fig_margin=dict(top=0, bottom=80, left=30, right=20))"
   ]
  },
  {
   "cell_type": "code",
   "execution_count": null,
   "id": "9a7e3538-57b6-4218-af34-80f6d2be0c5d",
   "metadata": {},
   "outputs": [],
   "source": [
    "m.layout.width='auto'\n",
    "m.layout.height='auto'\n",
    "fig.layout.width='auto'\n",
    "fig.layout.height='auto'"
   ]
  },
  {
   "cell_type": "code",
   "execution_count": null,
   "id": "3bd848f0-f520-4a00-9dce-d0f694ed0810",
   "metadata": {},
   "outputs": [],
   "source": [
    "out = HTML(\n",
    "    value='',\n",
    "    layout=Layout(width='auto', height='auto')\n",
    ")"
   ]
  },
  {
   "cell_type": "code",
   "execution_count": null,
   "id": "9561f368-1d20-425e-8ca4-ff8504f44cd4",
   "metadata": {},
   "outputs": [],
   "source": [
    "AppLayout(center=m,\n",
    "          header=header,\n",
    "          left_sidebar=VBox([Label(\"Basemap:\"),\n",
    "                             basemap_selector,\n",
    "                             Label(\"Overlay:\"),\n",
    "                             heatmap_selector]),\n",
    "          right_sidebar=fig,\n",
    "          footer=out,\n",
    "          pane_widths=['80px', 1, 1],\n",
    "          pane_heights=['80px', 4, 1],\n",
    "          height='600px',\n",
    "          grid_gap=\"30px\")"
   ]
  },
  {
   "cell_type": "code",
   "execution_count": null,
   "id": "ee61f274-e17b-44c5-96e8-f8af6a7593b0",
   "metadata": {},
   "outputs": [],
   "source": [
    "rows = []"
   ]
  },
  {
   "cell_type": "code",
   "execution_count": null,
   "id": "7b081b94-7f75-4b07-a6eb-36d497df503e",
   "metadata": {},
   "outputs": [],
   "source": [
    "X, Y = np.mgrid[-90:90:10j, -180:180:20j]"
   ]
  },
  {
   "cell_type": "code",
   "execution_count": null,
   "id": "a21032dd-f0cb-45f1-a479-1fd37082c0a9",
   "metadata": {},
   "outputs": [],
   "source": [
    "X = X.flatten()\n",
    "Y = Y.flatten()"
   ]
  },
  {
   "cell_type": "code",
   "execution_count": null,
   "id": "a595f5db-1b41-4ad9-8462-d7e70f608f4e",
   "metadata": {},
   "outputs": [],
   "source": [
    "temps = np.random.randn(200, 150)*0.5"
   ]
  },
  {
   "cell_type": "code",
   "execution_count": null,
   "id": "7a87f4ae-4dc8-407f-a726-1d90d863520b",
   "metadata": {},
   "outputs": [],
   "source": [
    "from datetime import datetime\n",
    "import random\n",
    "\n",
    "def add_log(msg):\n",
    "    max_rows = 3\n",
    "    rows.append(msg)\n",
    "    if len(rows) > max_rows:\n",
    "        rows.pop(0)\n",
    "    return '<h4>Activity log</h4><ul>{}</ul>'.format('<li>'.join([''] + rows))\n",
    "\n",
    "def generate_temp_series(x, y):\n",
    "    if heatmap_selector.value == 'Precipitation':\n",
    "        temp = np.cumsum(np.random.randn(150)) + 100.\n",
    "    elif heatmap_selector.value == 'Temperature':\n",
    "        dist = np.sqrt((X - x)**2 + (Y-y)**2) / 100\n",
    "        dist = dist.max() - dist\n",
    "        dist[dist > np.percentile(dist, 5)] = 0\n",
    "        temp = np.cumsum(np.dot(dist, temps)+0.05) + 20 - np.abs(x) / 2\n",
    "    time_series.y = temp\n",
    "\n",
    "def handle_interaction(**kwargs):\n",
    "    if kwargs['type'] == 'click':\n",
    "        generate_temp_series(*kwargs['coordinates'])\n",
    "        msg = '%s Selected coordinates: %s, Temp: %d C Precipitation: %d mm\\n' % (\n",
    "            datetime.now(), kwargs['coordinates'], random.randint(-20, 20), random.randint(0, 100))\n",
    "        out.value = add_log(msg)\n",
    "\n",
    "m.on_interaction(handle_interaction)\n",
    "\n",
    "def on_map_selected(change):\n",
    "    m.layers = [basemap_to_tiles(maps[basemap_selector.value]), weather_maps[heatmap_selector.value]]\n",
    "\n",
    "basemap_selector.observe(on_map_selected, names='value')\n",
    "heatmap_selector.observe(on_map_selected, names='value')"
   ]
  },
  {
   "cell_type": "code",
   "execution_count": null,
   "id": "b14c95e1-194f-4152-a8e9-638e31574b86",
   "metadata": {},
   "outputs": [],
   "source": [
    "temp = TileLayer(min_zoom=1, max_zoom=18, url='https://tile.openweathermap.org/map/temp_new/{z}/{x}/{y}.png?appid='+OWM_API_KEY, name='owm', attribute='me')\n",
    "\n",
    "precipitation = TileLayer(min_zoom=1, max_zoom=18, url='https://tile.openweathermap.org/map/precipitation_new/{z}/{x}/{y}.png?appid='+OWM_API_KEY, name='owm', attribute='me')"
   ]
  },
  {
   "cell_type": "code",
   "execution_count": null,
   "id": "ca2d3a9e-db1c-459f-988a-0b4ee34547df",
   "metadata": {},
   "outputs": [],
   "source": [
    "weather_maps = {'Temperature' : temp,\n",
    "                'Precipitation' : precipitation}"
   ]
  },
  {
   "cell_type": "code",
   "execution_count": null,
   "id": "9d45621d-8fd0-4494-b010-bbc8bb7693b6",
   "metadata": {},
   "outputs": [],
   "source": [
    "m.add_layer(weather_maps[heatmap_selector.value])"
   ]
  },
  {
   "cell_type": "code",
   "execution_count": null,
   "id": "a395d14f-a357-49c4-aff9-60cff0ece1c2",
   "metadata": {},
   "outputs": [],
   "source": [
    "m"
   ]
  },
  {
   "cell_type": "code",
   "execution_count": null,
   "id": "91d3bece-d65b-4cec-9d79-3a26ba6f538b",
   "metadata": {},
   "outputs": [],
   "source": [
    "# Install Voila and run: voila <notebook-path>, to deploy this notebook "
   ]
  }
 ],
 "metadata": {
  "kernelspec": {
   "display_name": "Python 3",
   "language": "python",
   "name": "python3"
  },
  "language_info": {
   "codemirror_mode": {
    "name": "ipython",
    "version": 3
   },
   "file_extension": ".py",
   "mimetype": "text/x-python",
   "name": "python",
   "nbconvert_exporter": "python",
   "pygments_lexer": "ipython3",
   "version": "3.8.8"
  }
 },
 "nbformat": 4,
 "nbformat_minor": 5
}
