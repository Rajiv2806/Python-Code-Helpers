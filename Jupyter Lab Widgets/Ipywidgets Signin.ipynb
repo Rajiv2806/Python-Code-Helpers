{
 "cells": [
  {
   "cell_type": "markdown",
   "id": "fac6c261-185b-40d7-a523-1a295bce991a",
   "metadata": {},
   "source": [
    "# Jupyter Widgets: Sign - In Widget"
   ]
  },
  {
   "cell_type": "code",
   "execution_count": 45,
   "id": "8ae7727e-b728-4d42-b647-50c176e4ba3a",
   "metadata": {},
   "outputs": [
    {
     "data": {
      "application/vnd.jupyter.widget-view+json": {
       "model_id": "d07fa44875ad4ee795d4e010b9569995",
       "version_major": 2,
       "version_minor": 0
      },
      "text/plain": [
       "HBox(children=(Text(value='', description='User Name:', placeholder='Enter Name'), Button(description='Validat…"
      ]
     },
     "metadata": {},
     "output_type": "display_data"
    }
   ],
   "source": [
    "import pandas as pd\n",
    "from ipywidgets import Text, Button, Output, Password, HBox, Label\n",
    "from IPython.display import display\n",
    "\n",
    "data = [{\"Name\": \"Dakshayani\", \"Password\": \"GVN\"},{\"Name\":\"Rajiv\",\"Password\":\"Raja\"},{\"Name\":\"VNReddy\",\"Password\":\"vnr\"}]\n",
    "\n",
    "df = pd.DataFrame(data)\n",
    "\n",
    "\n",
    "user_name = Text(value='',placeholder='Enter Name',description='User Name:',disabled=False)\n",
    "password = Password(value='',placeholder='Enter password',description='Password:',disabled=False)\n",
    "\n",
    "user_validate_button = Button(description=\"Validate\")\n",
    "sign_in_button = Button(description=\"Signin\")\n",
    "\n",
    "validate_output = Output()\n",
    "signin_output = Output()\n",
    "\n",
    "uname_box = HBox([user_name, user_validate_button, validate_output])\n",
    "pwd_box = HBox([password, sign_in_button, signin_output])\n",
    "\n",
    "validateUser = lambda: True if user_name.value in df.Name.unique() else False\n",
    "signin = lambda: True if len(df.loc[((df.Name == user_name.value)&(df.Password == password.value))]) > 0 else False\n",
    "\n",
    "def validate_user_onclick(a):\n",
    "    result = validateUser()\n",
    "    validate_output.clear_output()\n",
    "    with validate_output:\n",
    "        if result:\n",
    "            display(pwd_box)\n",
    "            print(f\"Enter Password For:{user_name.value} \")\n",
    "        else:\n",
    "            print(f\"User {user_name.value} Not Found\")\n",
    "            \n",
    "def signin_onclick(b):\n",
    "    result = signin()\n",
    "    user_name.disabled = True\n",
    "    signin_output.clear_output()\n",
    "    with signin_output:\n",
    "        password.disabled = True\n",
    "        print(\"Auth Success\") if result else print(\"Auth Fail\")            \n",
    "\n",
    "user_validate_button.on_click(validate_user_onclick)\n",
    "sign_in_button.on_click(signin_onclick)\n",
    "display(uname_box)"
   ]
  },
  {
   "cell_type": "code",
   "execution_count": 48,
   "id": "bc277fe1-1277-4ffa-929b-252e5f149847",
   "metadata": {},
   "outputs": [
    {
     "data": {
      "application/vnd.jupyter.widget-view+json": {
       "model_id": "b8673614978e4c70b99aebf7ea94a35d",
       "version_major": 2,
       "version_minor": 0
      },
      "text/plain": [
       "VBox(children=(Text(value='', description='User Name:', placeholder='Enter Name'), Password(description='Passw…"
      ]
     },
     "metadata": {},
     "output_type": "display_data"
    }
   ],
   "source": [
    "import pandas as pd\n",
    "from ipywidgets import Text, Button, Output, Password, HBox, Label, VBox\n",
    "from IPython.display import display\n",
    "\n",
    "data = [{\"Name\": \"Dakshayani\", \"Password\": \"GVN\"},{\"Name\":\"Rajiv\",\"Password\":\"Raja\"},{\"Name\":\"VNReddy\",\"Password\":\"vnr\"}]\n",
    "df = pd.DataFrame(data)\n",
    "\n",
    "user_name = Text(value='',placeholder='Enter Name',description='User Name:',disabled=False)\n",
    "password = Password(value='',placeholder='Enter password',description='Password:',disabled=False)\n",
    "sign_in_button = Button(description=\"Signin\")\n",
    "signin_output = Output()\n",
    "signin_box = VBox([user_name, password, sign_in_button, signin_output])\n",
    "\n",
    "\n",
    "def signin():\n",
    "    actual_pwd = df.loc[((df.Name == user_name.value)&(df.Password == password.value))]\n",
    "    return True if len(actual_pwd) > 0 else False\n",
    "\n",
    "def signin_onclick(b):\n",
    "    result = signin()\n",
    "    user_name.disabled = True\n",
    "    password.disabled = True\n",
    "    signin_output.clear_output()\n",
    "    with signin_output:\n",
    "        print(\"Auth Success\") if result else print(\"Auth Fail\")            \n",
    "\n",
    "sign_in_button.on_click(signin_onclick)\n",
    "display(signin_box)"
   ]
  },
  {
   "cell_type": "code",
   "execution_count": 54,
   "id": "29ad68fa-2fb4-4f83-a499-27d1bfc8bcf7",
   "metadata": {},
   "outputs": [],
   "source": [
    "# Install Voila and run: voila <notebook-path>, to deploy this notebook "
   ]
  }
 ],
 "metadata": {
  "kernelspec": {
   "display_name": "Python 3",
   "language": "python",
   "name": "python3"
  },
  "language_info": {
   "codemirror_mode": {
    "name": "ipython",
    "version": 3
   },
   "file_extension": ".py",
   "mimetype": "text/x-python",
   "name": "python",
   "nbconvert_exporter": "python",
   "pygments_lexer": "ipython3",
   "version": "3.8.8"
  }
 },
 "nbformat": 4,
 "nbformat_minor": 5
}
