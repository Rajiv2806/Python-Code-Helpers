{
 "cells": [
  {
   "cell_type": "markdown",
   "id": "916b5dd7-3a58-48c7-90b1-4e1b9d0a532e",
   "metadata": {},
   "source": [
    "# Ipywidgets - Deploy using Voila"
   ]
  },
  {
   "cell_type": "code",
   "execution_count": 1,
   "id": "a1621ad0-6081-417f-a026-86220eb798d6",
   "metadata": {},
   "outputs": [
    {
     "data": {
      "application/vnd.jupyter.widget-view+json": {
       "model_id": "1b72012333274fcbb8fdfac0840c90ad",
       "version_major": 2,
       "version_minor": 0
      },
      "text/plain": [
       "VBox(children=(Label(value='Drug prescription prediction for age, gender, bp, cholesterol and \"Na to K\"'), Bou…"
      ]
     },
     "metadata": {},
     "output_type": "display_data"
    }
   ],
   "source": [
    "import requests\n",
    "from ipywidgets import Label, BoundedFloatText, BoundedIntText, Dropdown, Button, Output, VBox\n",
    "\n",
    "prescribe_label = Label('Drug prescription prediction for age, gender, bp, cholesterol and \"Na to K\"')\n",
    "age_text = BoundedIntText(min=16, max=100, value=47, description=\"Age:\", disabled=False)\n",
    "gender_dropdown = Dropdown(options=['F', 'M'], description='Gender:', disabled=False)\n",
    "bp_dropdown = Dropdown(options=['HIGH', 'LOW', 'NORMAL'], value=\"LOW\", description='BP:', disabled=False)\n",
    "cholesterol_dropdown = Dropdown(options=['HIGH', 'NORMAL'], description='Cholesterol:', disabled=False)\n",
    "na_to_k_text = BoundedFloatText(min=0.0, max=50.0, value=14, description=\"Na to K\", disabled=False)\n",
    "prescribe_button = Button(description=\"Presribe\")\n",
    "prescribe_output = Output()\n",
    "\n",
    "# Button click event handlers ...\n",
    "def prescribe_button_on_click(b):\n",
    "    \n",
    "    request_url = f\"https://graham-harrison68-web03.azurewebsites.net/drug?Age={age_text.value}&Sex={gender_dropdown.value}&BP={bp_dropdown.value}&Cholesterol={cholesterol_dropdown.value}&Na_to_K={na_to_k_text.value}\"\n",
    "#     response = requests.get(request_url)\n",
    "#     recommended_drug = response.json()[\"recommended_drug\"]\n",
    "    recommended_drug = \"abd\"\n",
    "\n",
    "    prescribe_output.clear_output()\n",
    "    with prescribe_output:\n",
    "\n",
    "        print(f\"The recommended drug is {recommended_drug}\")\n",
    "        \n",
    "prescribe_button.on_click(prescribe_button_on_click)\n",
    "\n",
    "vbox_prescribe = VBox([prescribe_label, age_text, gender_dropdown, bp_dropdown, cholesterol_dropdown, na_to_k_text, prescribe_button, prescribe_output])\n",
    "\n",
    "vbox_prescribe"
   ]
  },
  {
   "cell_type": "code",
   "execution_count": 3,
   "id": "6ccdaa54-7b10-41de-a8ed-e6477a2941da",
   "metadata": {},
   "outputs": [
    {
     "data": {
      "application/vnd.jupyter.widget-view+json": {
       "model_id": "3329be20300847c9ac4caf292353b5a9",
       "version_major": 2,
       "version_minor": 0
      },
      "text/plain": [
       "VBox(children=(VBox(children=(Label(value='Normal Distribution Confidence Interval Calculator'), FloatSlider(v…"
      ]
     },
     "metadata": {},
     "output_type": "display_data"
    }
   ],
   "source": [
    "# Imports ...\n",
    "from ipywidgets import Label, FloatSlider, FloatText, BoundedIntText, Button, Output, VBox, HBox\n",
    "\n",
    "import scipy.stats as stats\n",
    "import numpy as np\n",
    "\n",
    "# Helpder functions to calculate the confidence intervals ...\n",
    "def normal_distribution_ci(confidence, x_bar, sigma, n):\n",
    "    z_score = stats.norm.interval(confidence)[1]\n",
    "    sigma_over_root_n = sigma / np.sqrt(n)\n",
    "    ci = [x_bar - z_score * sigma_over_root_n, x_bar + z_score * sigma_over_root_n]\n",
    "    return ci\n",
    "\n",
    "def binomial_distribution_ci(confidence, p_hat, n):\n",
    "    z_score = stats.norm.interval(confidence)[1]\n",
    "    rhs = z_score * np.sqrt(p_hat*(1-p_hat))/n\n",
    "    ci = [p_hat - rhs, p_hat + rhs]\n",
    "    return ci\n",
    "\n",
    "# IPython widget controls for confidence intervals of normal and binomial distributions ...\n",
    "normal_label = Label(\"Normal Distribution Confidence Interval Calculator\")\n",
    "normal_confidence = FloatSlider(description=\"confidence\", value=0.95, min=0.5, max=0.99, step=0.01)\n",
    "normal_x_bar_input = FloatText(value=75.7, min=0, max=100000, step=0.01, description='x bar:', disabled=False)\n",
    "normal_sigma_input = FloatText(value=7.3, min=0, max=100000, step=1, description='sigma:', disabled=False)\n",
    "normal_n_input = BoundedIntText(value=30, min=0, max=100000, step=1, description='n:', disabled=False)\n",
    "normal_button = Button(description=\"Calculate\")\n",
    "normal_output = Output()\n",
    "\n",
    "binomial_label = Label(\"Binomial Distribution Confidence Interval Calculator\")\n",
    "binomial_confidence = FloatSlider(description=\"confidence\", value=0.95, min=0.5, max=0.99, step=0.01)\n",
    "binomial_phat = FloatSlider(description=\"p hat\", value=0.78, min=0.0, max=1.0, step=0.01)\n",
    "binomial_n_input = BoundedIntText(value=30, min=0, max=100000, step=1, description='n:', disabled=False)\n",
    "binomial_button = Button(description=\"Calculate\")\n",
    "binomial_output = Output()\n",
    "\n",
    "# Button click event handlers ...\n",
    "def normal_button_on_click(b):\n",
    "    ci = normal_distribution_ci(normal_confidence.value, normal_x_bar_input.value, normal_sigma_input.value, normal_n_input.value)\n",
    "    \n",
    "    normal_output.clear_output()\n",
    "    with normal_output:\n",
    "        print(f\"The population mean lies between {ci[0]:.2f} and {ci[1]:.2f} with {normal_confidence.value:.0%} confidence\")\n",
    "        \n",
    "def binomial_button_on_click(b):\n",
    "    ci = binomial_distribution_ci(binomial_confidence.value, binomial_phat.value, binomial_n_input.value)\n",
    "    \n",
    "    binomial_output.clear_output()\n",
    "    with binomial_output:\n",
    "        print(f\"The population mean lies between {ci[0]:.1%} and {ci[1]:.1%} with {binomial_confidence.value:.0%} confidence\")\n",
    "        \n",
    "normal_button.on_click(normal_button_on_click)\n",
    "binomial_button.on_click(binomial_button_on_click)\n",
    "\n",
    "vbox_normal = VBox([normal_label, normal_confidence, normal_x_bar_input, normal_sigma_input, normal_n_input, normal_button, normal_output])\n",
    "vbox_binomial = VBox([binomial_label, binomial_confidence, binomial_phat, binomial_n_input, binomial_button, binomial_output])\n",
    "\n",
    "VBox([vbox_normal, vbox_binomial])"
   ]
  },
  {
   "cell_type": "code",
   "execution_count": null,
   "id": "662498cd-d7e4-45f0-ba6a-6bb1a5b60c17",
   "metadata": {},
   "outputs": [],
   "source": [
    "# Utils widgets\n",
    "from ipywidgets import Button, Layout, jslink, IntText, IntSlider\n",
    "\n",
    "def create_expanded_button(description, button_style):\n",
    "    return Button(description=description, button_style=button_style, layout=Layout(height='auto', width='auto'))\n",
    "\n",
    "top_left_button = create_expanded_button(\"Top left\", 'info')\n",
    "top_right_button = create_expanded_button(\"Top right\", 'success')\n",
    "bottom_left_button = create_expanded_button(\"Bottom left\", 'danger')\n",
    "bottom_right_button = create_expanded_button(\"Bottom right\", 'warning')\n",
    "\n",
    "top_left_text = IntText(description='Top left', layout=Layout(width='auto', height='auto'))\n",
    "top_right_text = IntText(description='Top right', layout=Layout(width='auto', height='auto'))\n",
    "bottom_left_slider = IntSlider(description='Bottom left', layout=Layout(width='auto', height='auto'))\n",
    "bottom_right_slider = IntSlider(description='Bottom right', layout=Layout(width='auto', height='auto'))\n",
    "\n",
    "from ipywidgets import TwoByTwoLayout\n",
    "\n",
    "TwoByTwoLayout(top_left=top_left_button,\n",
    "               top_right=top_right_button,\n",
    "               bottom_left=bottom_left_button,\n",
    "               bottom_right=bottom_right_button)"
   ]
  }
 ],
 "metadata": {
  "kernelspec": {
   "display_name": "Python 3",
   "language": "python",
   "name": "python3"
  },
  "language_info": {
   "codemirror_mode": {
    "name": "ipython",
    "version": 3
   },
   "file_extension": ".py",
   "mimetype": "text/x-python",
   "name": "python",
   "nbconvert_exporter": "python",
   "pygments_lexer": "ipython3",
   "version": "3.8.8"
  }
 },
 "nbformat": 4,
 "nbformat_minor": 5
}
