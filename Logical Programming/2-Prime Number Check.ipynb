{
 "cells": [
  {
   "cell_type": "markdown",
   "id": "7ef634e0-d7ba-4b8f-88d4-6a387aafce30",
   "metadata": {},
   "source": [
    "# Prime Number Check\n",
    "\n",
    "Different methods that you can try to validate if a number is prime"
   ]
  },
  {
   "cell_type": "code",
   "execution_count": 8,
   "id": "abac4518-a337-4f45-82b9-b5d0124b5356",
   "metadata": {},
   "outputs": [],
   "source": [
    "# Number\n",
    "n=11"
   ]
  },
  {
   "cell_type": "code",
   "execution_count": 9,
   "id": "53009304-2898-4601-a283-8e2f01f7abd4",
   "metadata": {},
   "outputs": [
    {
     "name": "stdout",
     "output_type": "stream",
     "text": [
      "IsPrime\n"
     ]
    }
   ],
   "source": [
    "# Method -1\n",
    "print(\"IsPrime\") if sum(filter(lambda i: n%i==0, range(2,n//2+1))) == 0 else print(\"Not Prime\")"
   ]
  },
  {
   "cell_type": "code",
   "execution_count": 5,
   "id": "1a0c4c07-5c58-4fbc-afae-7ec671fe8b8b",
   "metadata": {},
   "outputs": [
    {
     "name": "stdout",
     "output_type": "stream",
     "text": [
      "Is Prime\n"
     ]
    }
   ],
   "source": [
    "# Method -2\n",
    "def check_prime(val,i=2):\n",
    "    if (val//2+1) == i:\n",
    "        print(\"Is Prime\")\n",
    "        return\n",
    "    if n%i == 0:\n",
    "        print(\"Not Prime\")\n",
    "        return\n",
    "    i+=1\n",
    "    check_prime(val,i)        \n",
    "check_prime(n)"
   ]
  },
  {
   "cell_type": "code",
   "execution_count": 6,
   "id": "61c46346-bd09-439f-8351-1c59f8cb1d47",
   "metadata": {},
   "outputs": [
    {
     "name": "stdout",
     "output_type": "stream",
     "text": [
      "Prime\n"
     ]
    }
   ],
   "source": [
    "# Method -3\n",
    "print(\"Prime\") if sum([1 for i in range(2,n//2+1) if n%i==0]) == 0 else print(\"not prime\")"
   ]
  },
  {
   "cell_type": "code",
   "execution_count": 7,
   "id": "f70fd42d-3c7d-48ea-8317-8e0947277945",
   "metadata": {},
   "outputs": [
    {
     "name": "stdout",
     "output_type": "stream",
     "text": [
      "Prime\n"
     ]
    }
   ],
   "source": [
    "# Method -4\n",
    "for i in range(2, n//2+1):\n",
    "    if n%i==0:\n",
    "        print(\"Not Prime\")\n",
    "        break\n",
    "else:\n",
    "    print(\"Prime\")"
   ]
  }
 ],
 "metadata": {
  "kernelspec": {
   "display_name": "Python 3",
   "language": "python",
   "name": "python3"
  },
  "language_info": {
   "codemirror_mode": {
    "name": "ipython",
    "version": 3
   },
   "file_extension": ".py",
   "mimetype": "text/x-python",
   "name": "python",
   "nbconvert_exporter": "python",
   "pygments_lexer": "ipython3",
   "version": "3.8.8"
  }
 },
 "nbformat": 4,
 "nbformat_minor": 5
}
