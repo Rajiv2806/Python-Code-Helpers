{
 "cells": [
  {
   "cell_type": "markdown",
   "id": "e8d084a1-3186-40a4-9754-05d3b5a5f355",
   "metadata": {},
   "source": [
    "# Applying Function over an array of Window Size "
   ]
  },
  {
   "cell_type": "code",
   "execution_count": 1,
   "id": "71b9960c-1513-4c97-b32e-dd8e1e11a061",
   "metadata": {},
   "outputs": [],
   "source": [
    "import random"
   ]
  },
  {
   "cell_type": "code",
   "execution_count": 4,
   "id": "d271a704-8fc3-40d3-b8e0-e5e5655c03a3",
   "metadata": {},
   "outputs": [
    {
     "data": {
      "text/plain": [
       "[17, 2, 15, 10, 9, 0, 9, 4, 1, 10]"
      ]
     },
     "execution_count": 4,
     "metadata": {},
     "output_type": "execute_result"
    }
   ],
   "source": [
    "alfa = [random.randint(0,20) for i in range(10)]\n",
    "alfa"
   ]
  },
  {
   "cell_type": "code",
   "execution_count": 5,
   "id": "5dcfa1eb-ff17-4afb-839c-c498ee2b0c40",
   "metadata": {},
   "outputs": [],
   "source": [
    "WINDOW = 3"
   ]
  },
  {
   "cell_type": "code",
   "execution_count": 6,
   "id": "2d7ececd-986d-40c6-a402-051e31e63307",
   "metadata": {},
   "outputs": [
    {
     "data": {
      "text/plain": [
       "10"
      ]
     },
     "execution_count": 6,
     "metadata": {},
     "output_type": "execute_result"
    }
   ],
   "source": [
    "arr_size = len(alfa)\n",
    "arr_size"
   ]
  },
  {
   "cell_type": "code",
   "execution_count": 14,
   "id": "0a887060-23ef-4c6b-a648-1bace9816e9f",
   "metadata": {},
   "outputs": [
    {
     "name": "stdout",
     "output_type": "stream",
     "text": [
      "[17, 2, 15] ==> 34\n",
      "[2, 15, 10] ==> 27\n",
      "[15, 10, 9] ==> 34\n",
      "[10, 9, 0] ==> 19\n",
      "[9, 0, 9] ==> 18\n",
      "[0, 9, 4] ==> 13\n",
      "[9, 4, 1] ==> 14\n",
      "[4, 1, 10] ==> 15\n",
      "[1, 10] ==> 11\n",
      "[10] ==> 10\n"
     ]
    }
   ],
   "source": [
    "# Window size all the way to the end\n",
    "for i in range(arr_size):\n",
    "    beta = alfa[i:i+3]\n",
    "    ## if additional condition only to\n",
    "    ## calculate arrays of window size.\n",
    "    # if len(beta) == WINDOW:\n",
    "    sum_beta = sum(beta)\n",
    "    print(beta, \"==>\", sum_beta)"
   ]
  }
 ],
 "metadata": {
  "kernelspec": {
   "display_name": "Python 3",
   "language": "python",
   "name": "python3"
  },
  "language_info": {
   "codemirror_mode": {
    "name": "ipython",
    "version": 3
   },
   "file_extension": ".py",
   "mimetype": "text/x-python",
   "name": "python",
   "nbconvert_exporter": "python",
   "pygments_lexer": "ipython3",
   "version": "3.8.8"
  }
 },
 "nbformat": 4,
 "nbformat_minor": 5
}
