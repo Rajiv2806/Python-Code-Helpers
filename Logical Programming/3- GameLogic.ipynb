{
 "cells": [
  {
   "cell_type": "markdown",
   "id": "c1c3248b-3ee0-4429-b095-f0b826c51912",
   "metadata": {},
   "source": [
    "# A Game Logic\n",
    "\n",
    "Asked in a coding test for an interview"
   ]
  },
  {
   "cell_type": "markdown",
   "id": "6a158300-d046-4598-b78e-fd38bc375be8",
   "metadata": {},
   "source": [
    "![Image](imgs/Question3.png)"
   ]
  },
  {
   "cell_type": "code",
   "execution_count": 2,
   "id": "ad4f1592-7b29-40d2-a24c-5ebdef66ee97",
   "metadata": {},
   "outputs": [],
   "source": [
    "def solution(S, A):\n",
    "    alfa = S[0]\n",
    "    i = A[0]\n",
    "    while i != 0:\n",
    "        alfa += S[i]\n",
    "        i = A[i]\n",
    "    return alfa"
   ]
  },
  {
   "cell_type": "code",
   "execution_count": 3,
   "id": "a970f40b-4634-4d01-b0cc-c610d1c87714",
   "metadata": {},
   "outputs": [
    {
     "data": {
      "text/plain": [
       "'code'"
      ]
     },
     "execution_count": 3,
     "metadata": {},
     "output_type": "execute_result"
    }
   ],
   "source": [
    "solution(\"cdeo\",[3,2,0,1])"
   ]
  }
 ],
 "metadata": {
  "kernelspec": {
   "display_name": "Python 3",
   "language": "python",
   "name": "python3"
  },
  "language_info": {
   "codemirror_mode": {
    "name": "ipython",
    "version": 3
   },
   "file_extension": ".py",
   "mimetype": "text/x-python",
   "name": "python",
   "nbconvert_exporter": "python",
   "pygments_lexer": "ipython3",
   "version": "3.8.8"
  }
 },
 "nbformat": 4,
 "nbformat_minor": 5
}
